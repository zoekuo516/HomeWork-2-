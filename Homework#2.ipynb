{
  "cells": [
    {
      "cell_type": "markdown",
      "metadata": {
        "id": "view-in-github",
        "colab_type": "text"
      },
      "source": [
        "<a href=\"https://colab.research.google.com/github/zoekuo516/Pattern-Recognition/blob/main/Homework%232.ipynb\" target=\"_parent\"><img src=\"https://colab.research.google.com/assets/colab-badge.svg\" alt=\"Open In Colab\"/></a>"
      ]
    },
    {
      "cell_type": "markdown",
      "id": "4023bfc6-22aa-4545-8c19-48b4ae101a3b",
      "metadata": {
        "id": "4023bfc6-22aa-4545-8c19-48b4ae101a3b"
      },
      "source": [
        "# 長庚大學 資工系/人工智慧學程  樣形識別/深度學習 課程使用之教材及示範程式 Ch02"
      ]
    },
    {
      "cell_type": "code",
      "execution_count": 8,
      "id": "fe262b16-1ad9-4057-8abf-188f9f0ed3dc",
      "metadata": {
        "id": "fe262b16-1ad9-4057-8abf-188f9f0ed3dc"
      },
      "outputs": [],
      "source": [
        "import numpy as np\n",
        "import tensorflow as tf\n",
        "import tensorflow.keras as keras"
      ]
    },
    {
      "cell_type": "code",
      "execution_count": 9,
      "id": "c5f9aa07-85d8-47f3-a8a9-edd2264ea3fb",
      "metadata": {
        "id": "c5f9aa07-85d8-47f3-a8a9-edd2264ea3fb"
      },
      "outputs": [],
      "source": [
        "(xr,yr), (xt,yt)= keras.datasets.mnist.load_data()"
      ]
    },
    {
      "cell_type": "code",
      "execution_count": 10,
      "id": "8c5713fc-00c8-4659-8831-21ba3832f17e",
      "metadata": {
        "colab": {
          "base_uri": "https://localhost:8080/"
        },
        "id": "8c5713fc-00c8-4659-8831-21ba3832f17e",
        "outputId": "ca5a04e5-a43c-4260-ea61-9291dd3b62e8"
      },
      "outputs": [
        {
          "output_type": "execute_result",
          "data": {
            "text/plain": [
              "((60000, 28, 28), (60000,), (10000, 28, 28), (10000,))"
            ]
          },
          "metadata": {},
          "execution_count": 10
        }
      ],
      "source": [
        "xr.shape, yr.shape, xt.shape, yt.shape"
      ]
    },
    {
      "cell_type": "code",
      "execution_count": 11,
      "id": "66533075-600c-49d1-9a29-4f3e5d8d7b03",
      "metadata": {
        "colab": {
          "base_uri": "https://localhost:8080/"
        },
        "id": "66533075-600c-49d1-9a29-4f3e5d8d7b03",
        "outputId": "1aaefc36-343a-4c6f-b77b-923030f5c69a"
      },
      "outputs": [
        {
          "output_type": "stream",
          "name": "stdout",
          "text": [
            "  0  0  0  0  0  0  0  0  0  0  0  0  0  0  0  0  0  0  0  0  0  0  0  0  0  0  0  0\n",
            "  0  0  0  0  0  0  0  0  0  0  0  0  0  0  0  0  0  0  0  0  0  0  0  0  0  0  0  0\n",
            "  0  0  0  0  0  0  0  0  0  0  0  0  0  0  0  0  0  0  0  0  0  0  0  0  0  0  0  0\n",
            "  0  0  0  0  0  0  0  0  0  0  0  0  0  0  0  0  0  0  0  0  0  0  0  0  0  0  0  0\n",
            "  0  0  0  0  0  0  0  0  0  0  0  0  0  0  0  0  0  0  0  0  0  0  0  0  0  0  0  0\n",
            "  0  0  0  0  0  0  0  0  0  0  0  0  3 18 18 18126136175 26166255247127  0  0  0  0\n",
            "  0  0  0  0  0  0  0  0 30 36 94154170253253253253253225172253242195 64  0  0  0  0\n",
            "  0  0  0  0  0  0  0 49238253253253253253253253253251 93 82 82 56 39  0  0  0  0  0\n",
            "  0  0  0  0  0  0  0 18219253253253253253198182247241  0  0  0  0  0  0  0  0  0  0\n",
            "  0  0  0  0  0  0  0  0 80156107253253205 11  0 43154  0  0  0  0  0  0  0  0  0  0\n",
            "  0  0  0  0  0  0  0  0  0 14  1154253 90  0  0  0  0  0  0  0  0  0  0  0  0  0  0\n",
            "  0  0  0  0  0  0  0  0  0  0  0139253190  2  0  0  0  0  0  0  0  0  0  0  0  0  0\n",
            "  0  0  0  0  0  0  0  0  0  0  0 11190253 70  0  0  0  0  0  0  0  0  0  0  0  0  0\n",
            "  0  0  0  0  0  0  0  0  0  0  0  0 35241225160108  1  0  0  0  0  0  0  0  0  0  0\n",
            "  0  0  0  0  0  0  0  0  0  0  0  0  0 81240253253119 25  0  0  0  0  0  0  0  0  0\n",
            "  0  0  0  0  0  0  0  0  0  0  0  0  0  0 45186253253150 27  0  0  0  0  0  0  0  0\n",
            "  0  0  0  0  0  0  0  0  0  0  0  0  0  0  0 16 93252253187  0  0  0  0  0  0  0  0\n",
            "  0  0  0  0  0  0  0  0  0  0  0  0  0  0  0  0  0249253249 64  0  0  0  0  0  0  0\n",
            "  0  0  0  0  0  0  0  0  0  0  0  0  0  0 46130183253253207  2  0  0  0  0  0  0  0\n",
            "  0  0  0  0  0  0  0  0  0  0  0  0 39148229253253253250182  0  0  0  0  0  0  0  0\n",
            "  0  0  0  0  0  0  0  0  0  0 24114221253253253253201 78  0  0  0  0  0  0  0  0  0\n",
            "  0  0  0  0  0  0  0  0 23 66213253253253253198 81  2  0  0  0  0  0  0  0  0  0  0\n",
            "  0  0  0  0  0  0 18171219253253253253195 80  9  0  0  0  0  0  0  0  0  0  0  0  0\n",
            "  0  0  0  0 55172226253253253253244133 11  0  0  0  0  0  0  0  0  0  0  0  0  0  0\n",
            "  0  0  0  0136253253253212135132 16  0  0  0  0  0  0  0  0  0  0  0  0  0  0  0  0\n",
            "  0  0  0  0  0  0  0  0  0  0  0  0  0  0  0  0  0  0  0  0  0  0  0  0  0  0  0  0\n",
            "  0  0  0  0  0  0  0  0  0  0  0  0  0  0  0  0  0  0  0  0  0  0  0  0  0  0  0  0\n",
            "  0  0  0  0  0  0  0  0  0  0  0  0  0  0  0  0  0  0  0  0  0  0  0  0  0  0  0  0\n"
          ]
        }
      ],
      "source": [
        "x= xr[0]\n",
        "#%%\n",
        "for i in range(28):\n",
        "    for j in range(28):\n",
        "        z= x[i,j]\n",
        "        print(f'{z:3d}', end='')\n",
        "    print()"
      ]
    },
    {
      "cell_type": "code",
      "execution_count": 27,
      "id": "0c746e80-cd34-424c-b622-010923ce355a",
      "metadata": {
        "colab": {
          "base_uri": "https://localhost:8080/",
          "height": 219
        },
        "id": "0c746e80-cd34-424c-b622-010923ce355a",
        "outputId": "0d730a01-8748-4229-b91e-4ef516323687"
      },
      "outputs": [
        {
          "output_type": "error",
          "ename": "NameError",
          "evalue": "ignored",
          "traceback": [
            "\u001b[0;31m---------------------------------------------------------------------------\u001b[0m",
            "\u001b[0;31mNameError\u001b[0m                                 Traceback (most recent call last)",
            "\u001b[0;32m<ipython-input-27-1b353d1e0ea7>\u001b[0m in \u001b[0;36m<module>\u001b[0;34m\u001b[0m\n\u001b[1;32m      1\u001b[0m \u001b[0;32mimport\u001b[0m \u001b[0mmatplotlib\u001b[0m\u001b[0;34m.\u001b[0m\u001b[0mpyplot\u001b[0m \u001b[0;32mas\u001b[0m \u001b[0mplt\u001b[0m\u001b[0;34m\u001b[0m\u001b[0;34m\u001b[0m\u001b[0m\n\u001b[0;32m----> 2\u001b[0;31m \u001b[0mdigit\u001b[0m \u001b[0;34m=\u001b[0m \u001b[0mtrain_images\u001b[0m\u001b[0;34m[\u001b[0m\u001b[0;36m4\u001b[0m\u001b[0;34m]\u001b[0m\u001b[0;34m\u001b[0m\u001b[0;34m\u001b[0m\u001b[0m\n\u001b[0m\u001b[1;32m      3\u001b[0m \u001b[0mplt\u001b[0m\u001b[0;34m.\u001b[0m\u001b[0mimshow\u001b[0m\u001b[0;34m(\u001b[0m\u001b[0mdigit\u001b[0m\u001b[0;34m,\u001b[0m \u001b[0mcmap\u001b[0m\u001b[0;34m=\u001b[0m\u001b[0mplt\u001b[0m\u001b[0;34m.\u001b[0m\u001b[0mcm\u001b[0m\u001b[0;34m.\u001b[0m\u001b[0mbinary\u001b[0m\u001b[0;34m)\u001b[0m\u001b[0;34m\u001b[0m\u001b[0;34m\u001b[0m\u001b[0m\n\u001b[1;32m      4\u001b[0m \u001b[0mplt\u001b[0m\u001b[0;34m.\u001b[0m\u001b[0mshow\u001b[0m\u001b[0;34m(\u001b[0m\u001b[0;34m)\u001b[0m\u001b[0;34m\u001b[0m\u001b[0;34m\u001b[0m\u001b[0m\n",
            "\u001b[0;31mNameError\u001b[0m: name 'train_images' is not defined"
          ]
        }
      ],
      "source": [
        "import matplotlib.pyplot as plt\n",
        "digit = train_images[4]\n",
        "plt.imshow(digit, cmap=plt.cm.binary)\n",
        "plt.show()"
      ]
    },
    {
      "cell_type": "code",
      "execution_count": 13,
      "id": "ff90b2c5-df90-456c-aa2d-358a8e892c16",
      "metadata": {
        "colab": {
          "base_uri": "https://localhost:8080/"
        },
        "id": "ff90b2c5-df90-456c-aa2d-358a8e892c16",
        "outputId": "be08a91e-322e-4fe7-a6b9-a2f0b7f76a37"
      },
      "outputs": [
        {
          "output_type": "stream",
          "name": "stdout",
          "text": [
            "y= \n"
          ]
        }
      ],
      "source": [
        "y= yr[0]\n",
        "print(f'y= ')"
      ]
    },
    {
      "cell_type": "code",
      "execution_count": 13,
      "id": "063eac0e-84ee-4c81-8b81-df98d98ce392",
      "metadata": {
        "id": "063eac0e-84ee-4c81-8b81-df98d98ce392"
      },
      "outputs": [],
      "source": []
    },
    {
      "cell_type": "code",
      "execution_count": 14,
      "id": "7ad94416-53ca-4b00-96b6-936e8fe43f25",
      "metadata": {
        "id": "7ad94416-53ca-4b00-96b6-936e8fe43f25"
      },
      "outputs": [],
      "source": [
        "xr1= xr.reshape(-1, 28*28) \n",
        "xt1= xt.reshape(-1, 28*28) "
      ]
    },
    {
      "cell_type": "code",
      "execution_count": 15,
      "id": "5c3bc9ff-8e3c-47ce-9061-ebf2f147c207",
      "metadata": {
        "id": "5c3bc9ff-8e3c-47ce-9061-ebf2f147c207"
      },
      "outputs": [],
      "source": [
        "aModel= keras.Sequential([\n",
        "    keras.Input(28*28),\n",
        "    keras.layers.Dense(100),    \n",
        "    keras.layers.Dense(10)   \n",
        "    ])\n",
        "\n",
        "aModel.compile(\n",
        "    loss=     'sparse_categorical_crossentropy',\n",
        "    metrics= ['accuracy']\n",
        "    )"
      ]
    },
    {
      "cell_type": "code",
      "execution_count": 16,
      "id": "089bbcac-dbda-45ce-bd12-6b5608bb8904",
      "metadata": {
        "colab": {
          "base_uri": "https://localhost:8080/",
          "height": 538
        },
        "id": "089bbcac-dbda-45ce-bd12-6b5608bb8904",
        "outputId": "9650f63d-8e14-4572-fd97-9459313daba5"
      },
      "outputs": [
        {
          "output_type": "stream",
          "name": "stdout",
          "text": [
            "Model: \"sequential\"\n",
            "_________________________________________________________________\n",
            " Layer (type)                Output Shape              Param #   \n",
            "=================================================================\n",
            " dense (Dense)               (None, 100)               78500     \n",
            "                                                                 \n",
            " dense_1 (Dense)             (None, 10)                1010      \n",
            "                                                                 \n",
            "=================================================================\n",
            "Total params: 79,510\n",
            "Trainable params: 79,510\n",
            "Non-trainable params: 0\n",
            "_________________________________________________________________\n"
          ]
        },
        {
          "output_type": "execute_result",
          "data": {
            "image/png": "[encoded data removed]",
            "text/plain": [
              "<IPython.core.display.Image object>"
            ]
          },
          "metadata": {},
          "execution_count": 16
        }
      ],
      "source": [
        "aModel.summary()\n",
        "\n",
        "keras.utils.plot_model(aModel, \n",
        "    show_shapes= True, \n",
        "    show_layer_activations= True)"
      ]
    },
    {
      "cell_type": "code",
      "execution_count": 17,
      "id": "ecfe3ee7-4dfd-4a9c-ad70-42c1916ee5ba",
      "metadata": {
        "colab": {
          "base_uri": "https://localhost:8080/"
        },
        "id": "ecfe3ee7-4dfd-4a9c-ad70-42c1916ee5ba",
        "outputId": "fb654117-44a9-48f0-9b8d-eaafef6d5447"
      },
      "outputs": [
        {
          "output_type": "stream",
          "name": "stdout",
          "text": [
            "Epoch 1/10\n",
            "600/600 [==============================] - 4s 5ms/step - loss: 3.5070 - accuracy: 0.1323\n",
            "Epoch 2/10\n",
            "600/600 [==============================] - 3s 4ms/step - loss: 2.3111 - accuracy: 0.0954\n",
            "Epoch 3/10\n",
            "600/600 [==============================] - 3s 4ms/step - loss: 2.3111 - accuracy: 0.0954\n",
            "Epoch 4/10\n",
            "600/600 [==============================] - 3s 5ms/step - loss: 2.3111 - accuracy: 0.0954\n",
            "Epoch 5/10\n",
            "600/600 [==============================] - 3s 5ms/step - loss: 2.3111 - accuracy: 0.0954\n",
            "Epoch 6/10\n",
            "600/600 [==============================] - 3s 5ms/step - loss: 2.3111 - accuracy: 0.0954\n",
            "Epoch 7/10\n",
            "600/600 [==============================] - 3s 5ms/step - loss: 2.3111 - accuracy: 0.0954\n",
            "Epoch 8/10\n",
            "600/600 [==============================] - 3s 4ms/step - loss: 2.3111 - accuracy: 0.0954\n",
            "Epoch 9/10\n",
            "600/600 [==============================] - 3s 4ms/step - loss: 2.3111 - accuracy: 0.0954\n",
            "Epoch 10/10\n",
            "600/600 [==============================] - 3s 4ms/step - loss: 2.3111 - accuracy: 0.0954\n",
            "313/313 [==============================] - 1s 2ms/step - loss: 2.3067 - accuracy: 0.0952\n"
          ]
        },
        {
          "output_type": "execute_result",
          "data": {
            "text/plain": [
              "[2.3067352771759033, 0.09520000219345093]"
            ]
          },
          "metadata": {},
          "execution_count": 17
        }
      ],
      "source": [
        "aModel.fit(xr1, yr, \n",
        "           epochs= 10, \n",
        "           batch_size= 100)\n",
        "\n",
        "aModel.evaluate(xt1, yt)"
      ]
    },
    {
      "cell_type": "code",
      "execution_count": 18,
      "id": "660230a5-6afe-45c7-b698-7c7d9054e4c5",
      "metadata": {
        "colab": {
          "base_uri": "https://localhost:8080/"
        },
        "id": "660230a5-6afe-45c7-b698-7c7d9054e4c5",
        "outputId": "d7097c12-a7ab-4650-a695-823dfeec8064"
      },
      "outputs": [
        {
          "output_type": "stream",
          "name": "stdout",
          "text": [
            "Epoch 1/10\n",
            "600/600 [==============================] - 3s 4ms/step - loss: 2.2944 - accuracy: 0.3097\n",
            "Epoch 2/10\n",
            "600/600 [==============================] - 3s 4ms/step - loss: 2.0638 - accuracy: 0.3485\n",
            "Epoch 3/10\n",
            "600/600 [==============================] - 3s 5ms/step - loss: 2.0356 - accuracy: 0.3712\n",
            "Epoch 4/10\n",
            "600/600 [==============================] - 3s 5ms/step - loss: 2.1226 - accuracy: 0.3749\n",
            "Epoch 5/10\n",
            "600/600 [==============================] - 3s 4ms/step - loss: 2.2289 - accuracy: 0.3404\n",
            "Epoch 6/10\n",
            "600/600 [==============================] - 4s 6ms/step - loss: 2.2868 - accuracy: 0.3326\n",
            "Epoch 7/10\n",
            "600/600 [==============================] - 3s 4ms/step - loss: 2.2904 - accuracy: 0.3462\n",
            "Epoch 8/10\n",
            "600/600 [==============================] - 3s 4ms/step - loss: 2.2826 - accuracy: 0.3435\n",
            "Epoch 9/10\n",
            "600/600 [==============================] - 3s 4ms/step - loss: 2.2988 - accuracy: 0.3362\n",
            "Epoch 10/10\n",
            "600/600 [==============================] - 3s 4ms/step - loss: 2.3025 - accuracy: 0.3370\n",
            "313/313 [==============================] - 1s 2ms/step - loss: 2.3026 - accuracy: 0.3393\n"
          ]
        },
        {
          "output_type": "execute_result",
          "data": {
            "text/plain": [
              "[2.30259108543396, 0.3393000066280365]"
            ]
          },
          "metadata": {},
          "execution_count": 18
        }
      ],
      "source": [
        "\n",
        "aModel= keras.Sequential([\n",
        "    keras.Input(28*28),\n",
        "    keras.layers.Dense(100, activation= 'sigmoid'),    \n",
        "    keras.layers.Dense(10)   \n",
        "    ])\n",
        "\n",
        "aModel.compile(\n",
        "    loss=     'sparse_categorical_crossentropy',\n",
        "    metrics= ['accuracy']\n",
        "    )\n",
        "\n",
        "aModel.fit(xr1, yr, \n",
        "           epochs= 10, \n",
        "           batch_size= 100)\n",
        "\n",
        "aModel.evaluate(xt1, yt)"
      ]
    },
    {
      "cell_type": "code",
      "execution_count": 19,
      "id": "97b0333d-21ee-4392-911d-24d462fe67fd",
      "metadata": {
        "colab": {
          "base_uri": "https://localhost:8080/"
        },
        "id": "97b0333d-21ee-4392-911d-24d462fe67fd",
        "outputId": "2f7dcd43-01e3-4a75-dd35-a32243d1a0d5"
      },
      "outputs": [
        {
          "output_type": "stream",
          "name": "stdout",
          "text": [
            "Epoch 1/10\n",
            "600/600 [==============================] - 3s 4ms/step - loss: 0.5426 - accuracy: 0.8502\n",
            "Epoch 2/10\n",
            "600/600 [==============================] - 2s 4ms/step - loss: 0.2921 - accuracy: 0.9126\n",
            "Epoch 3/10\n",
            "600/600 [==============================] - 2s 4ms/step - loss: 0.2511 - accuracy: 0.9230\n",
            "Epoch 4/10\n",
            "600/600 [==============================] - 3s 4ms/step - loss: 0.2309 - accuracy: 0.9291\n",
            "Epoch 5/10\n",
            "600/600 [==============================] - 2s 4ms/step - loss: 0.2127 - accuracy: 0.9355\n",
            "Epoch 6/10\n",
            "600/600 [==============================] - 2s 4ms/step - loss: 0.2006 - accuracy: 0.9395\n",
            "Epoch 7/10\n",
            "600/600 [==============================] - 2s 4ms/step - loss: 0.1885 - accuracy: 0.9430\n",
            "Epoch 8/10\n",
            "600/600 [==============================] - 2s 4ms/step - loss: 0.1848 - accuracy: 0.9445\n",
            "Epoch 9/10\n",
            "600/600 [==============================] - 2s 4ms/step - loss: 0.1796 - accuracy: 0.9462\n",
            "Epoch 10/10\n",
            "600/600 [==============================] - 2s 4ms/step - loss: 0.1757 - accuracy: 0.9468\n",
            "313/313 [==============================] - 1s 2ms/step - loss: 0.1797 - accuracy: 0.9458\n"
          ]
        },
        {
          "output_type": "execute_result",
          "data": {
            "text/plain": [
              "[0.1796971708536148, 0.9458000063896179]"
            ]
          },
          "metadata": {},
          "execution_count": 19
        }
      ],
      "source": [
        "aModel= keras.Sequential([\n",
        "    keras.Input(28*28),\n",
        "    keras.layers.Dense(100, activation= 'sigmoid'),    \n",
        "    keras.layers.Dense(10,  activation= 'sigmoid')\n",
        "    ])\n",
        "\n",
        "aModel.compile(\n",
        "    loss=     'sparse_categorical_crossentropy',\n",
        "    metrics= ['accuracy']\n",
        "    )\n",
        "\n",
        "aModel.fit(xr1, yr, \n",
        "           epochs= 10, \n",
        "           batch_size= 100)\n",
        "\n",
        "aModel.evaluate(xt1, yt)"
      ]
    },
    {
      "cell_type": "code",
      "execution_count": 20,
      "id": "8a9719cd-be71-4769-be2a-90e07ce7d4ea",
      "metadata": {
        "colab": {
          "base_uri": "https://localhost:8080/"
        },
        "id": "8a9719cd-be71-4769-be2a-90e07ce7d4ea",
        "outputId": "7f7134df-1f03-495e-c723-b4af2c5f53ca"
      },
      "outputs": [
        {
          "output_type": "stream",
          "name": "stdout",
          "text": [
            "Epoch 1/10\n",
            "600/600 [==============================] - 3s 4ms/step - loss: 3.3684 - accuracy: 0.8416\n",
            "Epoch 2/10\n",
            "600/600 [==============================] - 3s 4ms/step - loss: 0.4863 - accuracy: 0.9122\n",
            "Epoch 3/10\n",
            "600/600 [==============================] - 3s 4ms/step - loss: 0.3542 - accuracy: 0.9327\n",
            "Epoch 4/10\n",
            "600/600 [==============================] - 3s 4ms/step - loss: 0.2873 - accuracy: 0.9452\n",
            "Epoch 5/10\n",
            "600/600 [==============================] - 3s 4ms/step - loss: 0.2561 - accuracy: 0.9504\n",
            "Epoch 6/10\n",
            "600/600 [==============================] - 3s 4ms/step - loss: 0.2348 - accuracy: 0.9558\n",
            "Epoch 7/10\n",
            "600/600 [==============================] - 2s 4ms/step - loss: 0.2181 - accuracy: 0.9601\n",
            "Epoch 8/10\n",
            "600/600 [==============================] - 3s 4ms/step - loss: 0.1913 - accuracy: 0.9635\n",
            "Epoch 9/10\n",
            "600/600 [==============================] - 2s 4ms/step - loss: 0.1914 - accuracy: 0.9653\n",
            "Epoch 10/10\n",
            "600/600 [==============================] - 2s 4ms/step - loss: 0.1753 - accuracy: 0.9676\n",
            "313/313 [==============================] - 1s 2ms/step - loss: 0.5020 - accuracy: 0.9527\n"
          ]
        },
        {
          "output_type": "execute_result",
          "data": {
            "text/plain": [
              "[0.5020371079444885, 0.9527000188827515]"
            ]
          },
          "metadata": {},
          "execution_count": 20
        }
      ],
      "source": [
        "aModel= keras.Sequential([\n",
        "    keras.Input(28*28),\n",
        "    keras.layers.Dense(100, activation= 'relu'),    \n",
        "    keras.layers.Dense(10,  activation= 'sigmoid')\n",
        "    ])\n",
        "\n",
        "aModel.compile(\n",
        "    loss=     'sparse_categorical_crossentropy',\n",
        "    metrics= ['accuracy']\n",
        "    )\n",
        "\n",
        "aModel.fit(xr1, yr, \n",
        "           epochs= 10, \n",
        "           batch_size= 100)\n",
        "\n",
        "aModel.evaluate(xt1, yt)"
      ]
    },
    {
      "cell_type": "code",
      "execution_count": 21,
      "id": "34818214-d878-4d87-a0f4-f03f6e34f653",
      "metadata": {
        "colab": {
          "base_uri": "https://localhost:8080/"
        },
        "id": "34818214-d878-4d87-a0f4-f03f6e34f653",
        "outputId": "620a7496-de9b-451d-cfae-b463f5eab99a"
      },
      "outputs": [
        {
          "output_type": "stream",
          "name": "stdout",
          "text": [
            "Epoch 1/10\n",
            "600/600 [==============================] - 3s 4ms/step - loss: 4.2688 - accuracy: 0.8561\n",
            "Epoch 2/10\n",
            "600/600 [==============================] - 3s 4ms/step - loss: 0.5453 - accuracy: 0.9141\n",
            "Epoch 3/10\n",
            "600/600 [==============================] - 2s 4ms/step - loss: 0.3710 - accuracy: 0.9361\n",
            "Epoch 4/10\n",
            "600/600 [==============================] - 2s 4ms/step - loss: 0.3067 - accuracy: 0.9458\n",
            "Epoch 5/10\n",
            "600/600 [==============================] - 2s 4ms/step - loss: 0.2671 - accuracy: 0.9544\n",
            "Epoch 6/10\n",
            "600/600 [==============================] - 3s 4ms/step - loss: 0.2385 - accuracy: 0.9600\n",
            "Epoch 7/10\n",
            "600/600 [==============================] - 3s 5ms/step - loss: 0.2164 - accuracy: 0.9625\n",
            "Epoch 8/10\n",
            "600/600 [==============================] - 2s 4ms/step - loss: 0.1970 - accuracy: 0.9653\n",
            "Epoch 9/10\n",
            "600/600 [==============================] - 2s 4ms/step - loss: 0.1847 - accuracy: 0.9693\n",
            "Epoch 10/10\n",
            "600/600 [==============================] - 2s 4ms/step - loss: 0.1669 - accuracy: 0.9713\n",
            "313/313 [==============================] - 1s 2ms/step - loss: 0.4438 - accuracy: 0.9588\n"
          ]
        },
        {
          "output_type": "execute_result",
          "data": {
            "text/plain": [
              "[0.4437769055366516, 0.9588000178337097]"
            ]
          },
          "metadata": {},
          "execution_count": 21
        }
      ],
      "source": [
        "aModel= keras.Sequential([\n",
        "    keras.Input(28*28),\n",
        "    keras.layers.Dense(100, activation= 'relu'),    \n",
        "    keras.layers.Dense(10,  activation= 'softmax')\n",
        "    ])\n",
        "\n",
        "aModel.compile(\n",
        "    loss=     'sparse_categorical_crossentropy',\n",
        "    metrics= ['accuracy']\n",
        "    )\n",
        "\n",
        "aModel.fit(xr1, yr, \n",
        "           epochs= 10, \n",
        "           batch_size= 100)\n",
        "\n",
        "aModel.evaluate(xt1, yt)"
      ]
    },
    {
      "cell_type": "code",
      "execution_count": 22,
      "id": "74f3c7bf-a031-4fd7-8456-93373a73bb68",
      "metadata": {
        "colab": {
          "base_uri": "https://localhost:8080/"
        },
        "id": "74f3c7bf-a031-4fd7-8456-93373a73bb68",
        "outputId": "d9918def-b797-41ea-d27e-5f7e57ca3061"
      },
      "outputs": [
        {
          "output_type": "stream",
          "name": "stdout",
          "text": [
            "Epoch 1/10\n",
            "600/600 [==============================] - 3s 4ms/step - loss: 0.3289 - accuracy: 0.9094\n",
            "Epoch 2/10\n",
            "600/600 [==============================] - 2s 4ms/step - loss: 0.1574 - accuracy: 0.9541\n",
            "Epoch 3/10\n",
            "600/600 [==============================] - 2s 4ms/step - loss: 0.1147 - accuracy: 0.9667\n",
            "Epoch 4/10\n",
            "600/600 [==============================] - 2s 4ms/step - loss: 0.0922 - accuracy: 0.9731\n",
            "Epoch 5/10\n",
            "600/600 [==============================] - 2s 4ms/step - loss: 0.0761 - accuracy: 0.9775\n",
            "Epoch 6/10\n",
            "600/600 [==============================] - 2s 4ms/step - loss: 0.0645 - accuracy: 0.9814\n",
            "Epoch 7/10\n",
            "600/600 [==============================] - 2s 4ms/step - loss: 0.0563 - accuracy: 0.9836\n",
            "Epoch 8/10\n",
            "600/600 [==============================] - 2s 4ms/step - loss: 0.0492 - accuracy: 0.9857\n",
            "Epoch 9/10\n",
            "600/600 [==============================] - 3s 4ms/step - loss: 0.0432 - accuracy: 0.9877\n",
            "Epoch 10/10\n",
            "600/600 [==============================] - 2s 4ms/step - loss: 0.0384 - accuracy: 0.9885\n",
            "313/313 [==============================] - 1s 2ms/step - loss: 0.0709 - accuracy: 0.9796\n"
          ]
        },
        {
          "output_type": "execute_result",
          "data": {
            "text/plain": [
              "[0.07087831199169159, 0.9796000123023987]"
            ]
          },
          "metadata": {},
          "execution_count": 22
        }
      ],
      "source": [
        "xr1= xr.reshape(-1,28*28) /255\n",
        "xt1= xt.reshape(-1,28*28) /255\n",
        "\n",
        "\n",
        "aModel= keras.Sequential([\n",
        "    keras.Input(28*28),\n",
        "    keras.layers.Dense(100, activation= 'relu'),    \n",
        "    keras.layers.Dense(10,  activation= 'softmax')\n",
        "    ])\n",
        "\n",
        "aModel.compile(\n",
        "    loss=     'sparse_categorical_crossentropy',\n",
        "    metrics= ['accuracy']\n",
        "    )\n",
        "\n",
        "aModel.fit(xr1, yr, \n",
        "           epochs= 10, \n",
        "           batch_size= 100)\n",
        "\n",
        "aModel.evaluate(xt1, yt)"
      ]
    },
    {
      "cell_type": "code",
      "execution_count": 23,
      "id": "22b7e84f-a229-4e3b-bdd2-a7c7361b126d",
      "metadata": {
        "colab": {
          "base_uri": "https://localhost:8080/"
        },
        "id": "22b7e84f-a229-4e3b-bdd2-a7c7361b126d",
        "outputId": "1864a9da-2c54-42af-ef72-6ec95c8e8b0d"
      },
      "outputs": [
        {
          "output_type": "stream",
          "name": "stdout",
          "text": [
            "Epoch 1/10\n",
            "600/600 [==============================] - 4s 6ms/step - loss: 0.2893 - accuracy: 0.9187\n",
            "Epoch 2/10\n",
            "600/600 [==============================] - 3s 6ms/step - loss: 0.1297 - accuracy: 0.9623\n",
            "Epoch 3/10\n",
            "600/600 [==============================] - 3s 6ms/step - loss: 0.0899 - accuracy: 0.9744\n",
            "Epoch 4/10\n",
            "600/600 [==============================] - 3s 6ms/step - loss: 0.0682 - accuracy: 0.9793\n",
            "Epoch 5/10\n",
            "600/600 [==============================] - 3s 6ms/step - loss: 0.0545 - accuracy: 0.9842\n",
            "Epoch 6/10\n",
            "600/600 [==============================] - 3s 6ms/step - loss: 0.0450 - accuracy: 0.9865\n",
            "Epoch 7/10\n",
            "600/600 [==============================] - 3s 5ms/step - loss: 0.0361 - accuracy: 0.9892\n",
            "Epoch 8/10\n",
            "600/600 [==============================] - 3s 6ms/step - loss: 0.0303 - accuracy: 0.9909\n",
            "Epoch 9/10\n",
            "600/600 [==============================] - 3s 6ms/step - loss: 0.0251 - accuracy: 0.9925\n",
            "Epoch 10/10\n",
            "600/600 [==============================] - 3s 6ms/step - loss: 0.0209 - accuracy: 0.9939\n",
            "313/313 [==============================] - 1s 2ms/step - loss: 0.0710 - accuracy: 0.9796\n"
          ]
        },
        {
          "output_type": "execute_result",
          "data": {
            "text/plain": [
              "[0.07099954038858414, 0.9796000123023987]"
            ]
          },
          "metadata": {},
          "execution_count": 23
        }
      ],
      "source": [
        "aModel= keras.Sequential([\n",
        "    keras.Input(28*28),\n",
        "    keras.layers.Dense(200, activation= 'relu'),    \n",
        "    keras.layers.Dense(10,  activation= 'softmax')\n",
        "    ])\n",
        "\n",
        "aModel.compile(\n",
        "    loss=     'sparse_categorical_crossentropy',\n",
        "    metrics= ['accuracy']\n",
        "    )\n",
        "\n",
        "aModel.fit(xr1, yr, \n",
        "           epochs= 10, \n",
        "           batch_size= 100)\n",
        "\n",
        "aModel.evaluate(xt1, yt)"
      ]
    },
    {
      "cell_type": "code",
      "execution_count": 24,
      "id": "5188adb1-dbc2-42af-97ca-297d0c33ae5f",
      "metadata": {
        "colab": {
          "base_uri": "https://localhost:8080/"
        },
        "id": "5188adb1-dbc2-42af-97ca-297d0c33ae5f",
        "outputId": "daccbbf9-64e3-4b22-e1b9-70fb2797b606"
      },
      "outputs": [
        {
          "output_type": "stream",
          "name": "stdout",
          "text": [
            "Epoch 1/10\n",
            "600/600 [==============================] - 3s 5ms/step - loss: 0.2994 - accuracy: 0.9146\n",
            "Epoch 2/10\n",
            "600/600 [==============================] - 3s 5ms/step - loss: 0.1308 - accuracy: 0.9611\n",
            "Epoch 3/10\n",
            "600/600 [==============================] - 3s 4ms/step - loss: 0.0914 - accuracy: 0.9722\n",
            "Epoch 4/10\n",
            "600/600 [==============================] - 3s 4ms/step - loss: 0.0699 - accuracy: 0.9784\n",
            "Epoch 5/10\n",
            "600/600 [==============================] - 3s 4ms/step - loss: 0.0566 - accuracy: 0.9829\n",
            "Epoch 6/10\n",
            "600/600 [==============================] - 3s 5ms/step - loss: 0.0453 - accuracy: 0.9858\n",
            "Epoch 7/10\n",
            "600/600 [==============================] - 3s 4ms/step - loss: 0.0388 - accuracy: 0.9880\n",
            "Epoch 8/10\n",
            "600/600 [==============================] - 3s 5ms/step - loss: 0.0323 - accuracy: 0.9898\n",
            "Epoch 9/10\n",
            "600/600 [==============================] - 3s 5ms/step - loss: 0.0276 - accuracy: 0.9917\n",
            "Epoch 10/10\n",
            "600/600 [==============================] - 3s 4ms/step - loss: 0.0235 - accuracy: 0.9926\n",
            "313/313 [==============================] - 1s 2ms/step - loss: 0.0938 - accuracy: 0.9750\n"
          ]
        },
        {
          "output_type": "execute_result",
          "data": {
            "text/plain": [
              "[0.09383923560380936, 0.9750000238418579]"
            ]
          },
          "metadata": {},
          "execution_count": 24
        }
      ],
      "source": [
        "aModel= keras.Sequential([\n",
        "    keras.Input(28*28),\n",
        "    keras.layers.Dense(100, activation= 'relu'), \n",
        "    keras.layers.Dense(100, activation= 'relu'), \n",
        "    keras.layers.Dense(10,  activation= 'softmax')\n",
        "    ])\n",
        "\n",
        "aModel.compile(\n",
        "    loss=     'sparse_categorical_crossentropy',\n",
        "    metrics= ['accuracy']\n",
        "    )\n",
        "\n",
        "aModel.fit(xr1, yr, \n",
        "           epochs= 10, \n",
        "           batch_size= 100)\n",
        "\n",
        "aModel.evaluate(xt1, yt)"
      ]
    },
    {
      "cell_type": "code",
      "execution_count": 25,
      "id": "e86ac3ba-b71d-443e-9b83-219886549875",
      "metadata": {
        "colab": {
          "base_uri": "https://localhost:8080/"
        },
        "id": "e86ac3ba-b71d-443e-9b83-219886549875",
        "outputId": "50a2ad82-6144-41a0-d1de-6704ea04d06f"
      },
      "outputs": [
        {
          "output_type": "stream",
          "name": "stdout",
          "text": [
            "Epoch 1/10\n",
            "600/600 [==============================] - 4s 5ms/step - loss: 0.2900 - accuracy: 0.9179\n",
            "Epoch 2/10\n",
            "600/600 [==============================] - 3s 5ms/step - loss: 0.1265 - accuracy: 0.9626\n",
            "Epoch 3/10\n",
            "600/600 [==============================] - 3s 5ms/step - loss: 0.0886 - accuracy: 0.9739\n",
            "Epoch 4/10\n",
            "600/600 [==============================] - 3s 5ms/step - loss: 0.0677 - accuracy: 0.9790\n",
            "Epoch 5/10\n",
            "600/600 [==============================] - 3s 5ms/step - loss: 0.0539 - accuracy: 0.9835\n",
            "Epoch 6/10\n",
            "600/600 [==============================] - 3s 5ms/step - loss: 0.0424 - accuracy: 0.9873\n",
            "Epoch 7/10\n",
            "600/600 [==============================] - 4s 7ms/step - loss: 0.0361 - accuracy: 0.9886\n",
            "Epoch 8/10\n",
            "600/600 [==============================] - 3s 5ms/step - loss: 0.0294 - accuracy: 0.9908\n",
            "Epoch 9/10\n",
            "600/600 [==============================] - 3s 5ms/step - loss: 0.0247 - accuracy: 0.9920\n",
            "Epoch 10/10\n",
            "600/600 [==============================] - 3s 5ms/step - loss: 0.0199 - accuracy: 0.9940\n",
            "313/313 [==============================] - 1s 2ms/step - loss: 0.0880 - accuracy: 0.9789\n"
          ]
        },
        {
          "output_type": "execute_result",
          "data": {
            "text/plain": [
              "[0.0880211666226387, 0.9789000153541565]"
            ]
          },
          "metadata": {},
          "execution_count": 25
        }
      ],
      "source": [
        "aModel= keras.Sequential([\n",
        "    keras.Input(28*28),\n",
        "    keras.layers.Dense(150, activation= 'relu'), \n",
        "    keras.layers.Dense(50,  activation= 'relu'), \n",
        "    keras.layers.Dense(10,  activation= 'softmax')\n",
        "    ])\n",
        "\n",
        "aModel.compile(\n",
        "    loss=     'sparse_categorical_crossentropy',\n",
        "    metrics= ['accuracy']\n",
        "    )\n",
        "\n",
        "aModel.fit(xr1, yr, \n",
        "           epochs= 10, \n",
        "           batch_size= 100)\n",
        "\n",
        "aModel.evaluate(xt1, yt)"
      ]
    },
    {
      "cell_type": "code",
      "execution_count": 26,
      "id": "c2b2e1b9-b82c-4600-9fc4-9b03e513ea82",
      "metadata": {
        "colab": {
          "base_uri": "https://localhost:8080/",
          "height": 682
        },
        "id": "c2b2e1b9-b82c-4600-9fc4-9b03e513ea82",
        "outputId": "3e36b690-7409-4778-ab0e-4403690a9341"
      },
      "outputs": [
        {
          "output_type": "stream",
          "name": "stdout",
          "text": [
            "Model: \"sequential_8\"\n",
            "_________________________________________________________________\n",
            " Layer (type)                Output Shape              Param #   \n",
            "=================================================================\n",
            " dense_17 (Dense)            (None, 150)               117750    \n",
            "                                                                 \n",
            " dense_18 (Dense)            (None, 50)                7550      \n",
            "                                                                 \n",
            " dense_19 (Dense)            (None, 10)                510       \n",
            "                                                                 \n",
            "=================================================================\n",
            "Total params: 125,810\n",
            "Trainable params: 125,810\n",
            "Non-trainable params: 0\n",
            "_________________________________________________________________\n"
          ]
        },
        {
          "output_type": "execute_result",
          "data": {
            "image/png": "[encoded data removed]",
            "text/plain": [
              "<IPython.core.display.Image object>"
            ]
          },
          "metadata": {},
          "execution_count": 26
        }
      ],
      "source": [
        "aModel.summary()\n",
        "\n",
        "keras.utils.plot_model(aModel, \n",
        "    show_shapes= True, \n",
        "    show_layer_activations= True)"
      ]
    },
    {
      "cell_type": "markdown",
      "id": "8b4ee66f-1d7c-4cf2-bc53-6107399974b9",
      "metadata": {
        "id": "8b4ee66f-1d7c-4cf2-bc53-6107399974b9"
      },
      "source": [
        "# 想想看，你能做那些改進來提升正確率 (accuracy) ？\n"
      ]
    },
    {
      "cell_type": "code",
      "execution_count": 26,
      "id": "41d802a2-1411-4e0f-b9e3-8aaba68b5323",
      "metadata": {
        "id": "41d802a2-1411-4e0f-b9e3-8aaba68b5323"
      },
      "outputs": [],
      "source": []
    },
    {
      "cell_type": "code",
      "execution_count": 26,
      "id": "94d687ab-36e6-4c47-b181-0ced7cc1fabc",
      "metadata": {
        "id": "94d687ab-36e6-4c47-b181-0ced7cc1fabc"
      },
      "outputs": [],
      "source": []
    },
    {
      "cell_type": "code",
      "execution_count": 26,
      "id": "8b26b3a7-bbf2-45b2-966c-328008118f64",
      "metadata": {
        "id": "8b26b3a7-bbf2-45b2-966c-328008118f64"
      },
      "outputs": [],
      "source": []
    }
  ],
  "metadata": {
    "kernelspec": {
      "display_name": "Python 3 (ipykernel)",
      "language": "python",
      "name": "python3"
    },
    "language_info": {
      "codemirror_mode": {
        "name": "ipython",
        "version": 3
      },
      "file_extension": ".py",
      "mimetype": "text/x-python",
      "name": "python",
      "nbconvert_exporter": "python",
      "pygments_lexer": "ipython3",
      "version": "3.9.12"
    },
    "colab": {
      "provenance": [],
      "include_colab_link": true
    }
  },
  "nbformat": 4,
  "nbformat_minor": 5
}