{
  "nbformat": 4,
  "nbformat_minor": 0,
  "metadata": {
    "colab": {
      "provenance": [],
      "authorship_tag": "ABX9TyOglbXOgbMAJpF8qBnOSSYE"
    },
    "kernelspec": {
      "name": "python3",
      "display_name": "Python 3"
    },
    "language_info": {
      "name": "python"
    }
  },
  "cells": [
    {
      "cell_type": "markdown",
      "source": [
        "**Homework#3**"
      ],
      "metadata": {
        "id": "T0YyI9hfxehC"
      }
    },
    {
      "cell_type": "markdown",
      "source": [
        "# First steps with TensorFlow"
      ],
      "metadata": {
        "id": "JotzOmAXIE7F"
      }
    },
    {
      "cell_type": "code",
      "execution_count": 107,
      "metadata": {
        "id": "BFWMszWExdcV",
        "colab": {
          "base_uri": "https://localhost:8080/"
        },
        "outputId": "3f634c2d-31db-4d44-8396-99167ec02409"
      },
      "outputs": [
        {
          "output_type": "stream",
          "name": "stdout",
          "text": [
            "tf.Tensor(\n",
            "[[1. 1. 1.]\n",
            " [1. 1. 1.]\n",
            " [1. 1. 1.]], shape=(3, 3), dtype=float32)\n"
          ]
        }
      ],
      "source": [
        "import tensorflow as tf\n",
        "x = tf.ones(shape=(3, 3))\n",
        "print(x)"
      ]
    },
    {
      "cell_type": "code",
      "source": [
        "x = tf.zeros(shape=(3, 3))\n",
        "print(x)"
      ],
      "metadata": {
        "id": "rnWO_u8yywNy",
        "colab": {
          "base_uri": "https://localhost:8080/"
        },
        "outputId": "cc7485f6-c960-466e-ee56-c5c190e2edd4"
      },
      "execution_count": 108,
      "outputs": [
        {
          "output_type": "stream",
          "name": "stdout",
          "text": [
            "tf.Tensor(\n",
            "[[0. 0. 0.]\n",
            " [0. 0. 0.]\n",
            " [0. 0. 0.]], shape=(3, 3), dtype=float32)\n"
          ]
        }
      ]
    },
    {
      "cell_type": "code",
      "source": [
        "x = tf.random.normal(shape=(3, 3), mean=1., stddev=2.)\n",
        "print(x)"
      ],
      "metadata": {
        "id": "af9DSx2pywXU",
        "colab": {
          "base_uri": "https://localhost:8080/"
        },
        "outputId": "005b5cad-3f34-41d8-816a-9e603bc3c330"
      },
      "execution_count": 109,
      "outputs": [
        {
          "output_type": "stream",
          "name": "stdout",
          "text": [
            "tf.Tensor(\n",
            "[[ 2.6475887   2.9034224  -0.8176501 ]\n",
            " [-2.2187564  -0.8870115   0.5973697 ]\n",
            " [ 1.9022015  -0.65037656 -1.9148772 ]], shape=(3, 3), dtype=float32)\n"
          ]
        }
      ]
    },
    {
      "cell_type": "code",
      "source": [
        "x = tf.random.uniform(shape=(3, 3), minval=1., maxval=2.)\n",
        "print(x)"
      ],
      "metadata": {
        "id": "k-0x4sekywct",
        "colab": {
          "base_uri": "https://localhost:8080/"
        },
        "outputId": "06b2f862-8846-487a-a20c-eb49350420aa"
      },
      "execution_count": 110,
      "outputs": [
        {
          "output_type": "stream",
          "name": "stdout",
          "text": [
            "tf.Tensor(\n",
            "[[1.2236775 1.9333276 1.011302 ]\n",
            " [1.1029236 1.717318  1.3235538]\n",
            " [1.5051866 1.594111  1.5065299]], shape=(3, 3), dtype=float32)\n"
          ]
        }
      ]
    },
    {
      "cell_type": "code",
      "source": [
        "import numpy as np\n",
        "x = np.ones(shape=(3, 3))\n",
        "x[0, 0] = 0."
      ],
      "metadata": {
        "id": "GJ5l0S1dywfA"
      },
      "execution_count": 111,
      "outputs": []
    },
    {
      "cell_type": "code",
      "source": [
        "v = tf.Variable(initial_value=tf.random.normal(shape=(3, 3)))\n",
        "print(v)"
      ],
      "metadata": {
        "colab": {
          "base_uri": "https://localhost:8080/"
        },
        "id": "_hTsB0o8IQJX",
        "outputId": "b0998668-99c0-4591-f1fb-b3c5da5dea8c"
      },
      "execution_count": 112,
      "outputs": [
        {
          "output_type": "stream",
          "name": "stdout",
          "text": [
            "<tf.Variable 'Variable:0' shape=(3, 3) dtype=float32, numpy=\n",
            "array([[-0.98102593,  1.1105415 , -0.6534015 ],\n",
            "       [-0.5648198 ,  0.6572673 ,  1.0763851 ],\n",
            "       [-1.7902279 ,  0.10052426,  0.6678849 ]], dtype=float32)>\n"
          ]
        }
      ]
    },
    {
      "cell_type": "code",
      "source": [
        "v.assign(tf.ones((3, 3)))"
      ],
      "metadata": {
        "colab": {
          "base_uri": "https://localhost:8080/"
        },
        "id": "oqDg6eFXIQw2",
        "outputId": "72890bb1-2aed-4532-d20e-67cba5fb955b"
      },
      "execution_count": 113,
      "outputs": [
        {
          "output_type": "execute_result",
          "data": {
            "text/plain": [
              "<tf.Variable 'UnreadVariable' shape=(3, 3) dtype=float32, numpy=\n",
              "array([[1., 1., 1.],\n",
              "       [1., 1., 1.],\n",
              "       [1., 1., 1.]], dtype=float32)>"
            ]
          },
          "metadata": {},
          "execution_count": 113
        }
      ]
    },
    {
      "cell_type": "code",
      "source": [
        "v[0, 0].assign(3.)"
      ],
      "metadata": {
        "colab": {
          "base_uri": "https://localhost:8080/"
        },
        "id": "_JCvt9K_JD3k",
        "outputId": "28b5ce2b-a285-44fb-e30d-34c5200a7d3a"
      },
      "execution_count": 114,
      "outputs": [
        {
          "output_type": "execute_result",
          "data": {
            "text/plain": [
              "<tf.Variable 'UnreadVariable' shape=(3, 3) dtype=float32, numpy=\n",
              "array([[3., 1., 1.],\n",
              "       [1., 1., 1.],\n",
              "       [1., 1., 1.]], dtype=float32)>"
            ]
          },
          "metadata": {},
          "execution_count": 114
        }
      ]
    },
    {
      "cell_type": "code",
      "source": [
        "v.assign_add(tf.ones((3, 3)))"
      ],
      "metadata": {
        "colab": {
          "base_uri": "https://localhost:8080/"
        },
        "id": "2mAasQQSIQun",
        "outputId": "bc77453c-3875-48b9-8bfc-fefe44710e57"
      },
      "execution_count": 115,
      "outputs": [
        {
          "output_type": "execute_result",
          "data": {
            "text/plain": [
              "<tf.Variable 'UnreadVariable' shape=(3, 3) dtype=float32, numpy=\n",
              "array([[4., 2., 2.],\n",
              "       [2., 2., 2.],\n",
              "       [2., 2., 2.]], dtype=float32)>"
            ]
          },
          "metadata": {},
          "execution_count": 115
        }
      ]
    },
    {
      "cell_type": "code",
      "source": [
        "a = tf.ones((2, 2))\n",
        "b = tf.square(a)\n",
        "c = tf.sqrt(a)\n",
        "d = b + c\n",
        "e = tf.matmul(a, b)\n",
        "e *= d"
      ],
      "metadata": {
        "id": "S1ulCzubJZPP"
      },
      "execution_count": 116,
      "outputs": []
    },
    {
      "cell_type": "code",
      "source": [
        "input_var = tf.Variable(initial_value=3.)\n",
        "with tf.GradientTape() as tape:\n",
        "   result = tf.square(input_var)\n",
        "gradient = tape.gradient(result, input_var)"
      ],
      "metadata": {
        "id": "wA_g5nV2JiLh"
      },
      "execution_count": 117,
      "outputs": []
    },
    {
      "cell_type": "code",
      "source": [
        "input_const = tf.constant(3.)\n",
        "with tf.GradientTape() as tape:\n",
        "   tape.watch(input_const)\n",
        "   result = tf.square(input_const)\n",
        "gradient = tape.gradient(result, input_const)"
      ],
      "metadata": {
        "id": "6pF_WPwxJiJA"
      },
      "execution_count": 118,
      "outputs": []
    },
    {
      "cell_type": "code",
      "source": [
        "time = tf.Variable(0.)\n",
        "with tf.GradientTape() as outer_tape:\n",
        "    with tf.GradientTape() as inner_tape:\n",
        "        position =  4.9 * time ** 2\n",
        "    speed = inner_tape.gradient(position, time)\n",
        "acceleration = outer_tape.gradient(speed, time)"
      ],
      "metadata": {
        "id": "YBRur2s4KO3H"
      },
      "execution_count": 119,
      "outputs": []
    },
    {
      "cell_type": "code",
      "source": [
        "num_samples_per_class = 500\n",
        "negative_samples = np.random.multivariate_normal(\n",
        "    mean=[0, 3],\n",
        "    cov=[[1, 0.5],[0.5, 1]],\n",
        "    size=num_samples_per_class)\n",
        "positive_samples = np.random.multivariate_normal(\n",
        "    mean=[3, 0],\n",
        "    cov=[[1, 0.5],[0.5, 1]],\n",
        "    size=num_samples_per_class)"
      ],
      "metadata": {
        "id": "TOcdSR-4KVKq"
      },
      "execution_count": 120,
      "outputs": []
    },
    {
      "cell_type": "code",
      "source": [
        "inputs = np.vstack((negative_samples, positive_samples)).astype(np.float32)"
      ],
      "metadata": {
        "id": "ehvEKdhQJiBW"
      },
      "execution_count": 121,
      "outputs": []
    },
    {
      "cell_type": "code",
      "source": [
        "targets = np.vstack((np.zeros((num_samples_per_class, 1), dtype=\"float32\"),\n",
        "                     np.ones((num_samples_per_class, 1), dtype=\"float32\")))"
      ],
      "metadata": {
        "id": "jLHfcyqlJh-4"
      },
      "execution_count": 122,
      "outputs": []
    },
    {
      "cell_type": "code",
      "source": [
        "import matplotlib.pyplot as plt\n",
        "plt.scatter(inputs[:, 0], inputs[:, 1], c=targets[:, 0])\n",
        "plt.show()"
      ],
      "metadata": {
        "colab": {
          "base_uri": "https://localhost:8080/",
          "height": 269
        },
        "id": "wQyUA-XsJhy0",
        "outputId": "60585843-c263-4af1-f6ab-2eb524e9d21c"
      },
      "execution_count": 123,
      "outputs": [
        {
          "output_type": "display_data",
          "data": {
            "text/plain": [
              "<Figure size 432x288 with 1 Axes>"
            ],
            "image/png": "[encoded data removed]"
          },
          "metadata": {
            "needs_background": "light"
          }
        }
      ]
    },
    {
      "cell_type": "code",
      "source": [
        "input_dim = 2\n",
        "output_dim = 1\n",
        "W = tf.Variable(initial_value=tf.random.uniform(shape=(input_dim, output_dim)))\n",
        "b = tf.Variable(initial_value=tf.zeros(shape=(output_dim,)))"
      ],
      "metadata": {
        "id": "b0e2Srr2JZND"
      },
      "execution_count": 124,
      "outputs": []
    },
    {
      "cell_type": "code",
      "source": [
        "def model(inputs):\n",
        "    return tf.matmul(inputs, W) + b"
      ],
      "metadata": {
        "id": "HiKIr-kgJZKG"
      },
      "execution_count": 125,
      "outputs": []
    },
    {
      "cell_type": "code",
      "source": [
        "def square_loss(targets, predictions):\n",
        "    per_sample_losses = tf.square(targets - predictions)\n",
        "    return tf.reduce_mean(per_sample_losses)"
      ],
      "metadata": {
        "id": "PJRMjJ5AJZB9"
      },
      "execution_count": 126,
      "outputs": []
    },
    {
      "cell_type": "code",
      "source": [
        "learning_rate = 0.1\n",
        "\n",
        "def training_step(inputs, targets):\n",
        "    with tf.GradientTape() as tape:\n",
        "        predictions = model(inputs)\n",
        "        loss = square_loss(targets, predictions)\n",
        "    grad_loss_wrt_W, grad_loss_wrt_b = tape.gradient(loss, [W, b])\n",
        "    W.assign_sub(grad_loss_wrt_W * learning_rate)\n",
        "    b.assign_sub(grad_loss_wrt_b * learning_rate)\n",
        "    return loss"
      ],
      "metadata": {
        "id": "eGfZjL8LIQr-"
      },
      "execution_count": 127,
      "outputs": []
    },
    {
      "cell_type": "code",
      "source": [
        "for step in range(30):\n",
        "    loss = training_step(inputs, targets)\n",
        "    print(f\"Loss at step {step}: {loss:.4f}\")"
      ],
      "metadata": {
        "colab": {
          "base_uri": "https://localhost:8080/"
        },
        "id": "7I-OITiyIQpK",
        "outputId": "65176d5b-ba66-468b-b53d-25c48e4b8075"
      },
      "execution_count": 128,
      "outputs": [
        {
          "output_type": "stream",
          "name": "stdout",
          "text": [
            "Loss at step 0: 5.3910\n",
            "Loss at step 1: 0.7232\n",
            "Loss at step 2: 0.2263\n",
            "Loss at step 3: 0.1464\n",
            "Loss at step 4: 0.1271\n",
            "Loss at step 5: 0.1173\n",
            "Loss at step 6: 0.1093\n",
            "Loss at step 7: 0.1022\n",
            "Loss at step 8: 0.0958\n",
            "Loss at step 9: 0.0899\n",
            "Loss at step 10: 0.0844\n",
            "Loss at step 11: 0.0795\n",
            "Loss at step 12: 0.0749\n",
            "Loss at step 13: 0.0708\n",
            "Loss at step 14: 0.0669\n",
            "Loss at step 15: 0.0635\n",
            "Loss at step 16: 0.0603\n",
            "Loss at step 17: 0.0573\n",
            "Loss at step 18: 0.0546\n",
            "Loss at step 19: 0.0522\n",
            "Loss at step 20: 0.0499\n",
            "Loss at step 21: 0.0479\n",
            "Loss at step 22: 0.0460\n",
            "Loss at step 23: 0.0443\n",
            "Loss at step 24: 0.0427\n",
            "Loss at step 25: 0.0412\n",
            "Loss at step 26: 0.0399\n",
            "Loss at step 27: 0.0387\n",
            "Loss at step 28: 0.0376\n",
            "Loss at step 29: 0.0366\n"
          ]
        }
      ]
    },
    {
      "cell_type": "code",
      "source": [
        "predictions = model(inputs)\n",
        "plt.scatter(inputs[:, 0], inputs[:, 1], c=predictions[:, 0] > 0.5)\n",
        "plt.show()"
      ],
      "metadata": {
        "colab": {
          "base_uri": "https://localhost:8080/",
          "height": 269
        },
        "id": "8y7UecbUMpub",
        "outputId": "448d7269-02e8-4627-a23b-d782f929720d"
      },
      "execution_count": 129,
      "outputs": [
        {
          "output_type": "display_data",
          "data": {
            "text/plain": [
              "<Figure size 432x288 with 1 Axes>"
            ],
            "image/png": "[encoded data removed]"
          },
          "metadata": {
            "needs_background": "light"
          }
        }
      ]
    },
    {
      "cell_type": "code",
      "source": [
        "x = np.linspace(-1, 4, 100)\n",
        "y = - W[0] /  W[1] * x + (0.5 - b) / W[1]\n",
        "plt.plot(x, y, \"-r\")\n",
        "plt.scatter(inputs[:, 0], inputs[:, 1], c=predictions[:, 0] > 0.5)"
      ],
      "metadata": {
        "colab": {
          "base_uri": "https://localhost:8080/",
          "height": 282
        },
        "id": "fwAGB_wVMpsH",
        "outputId": "73f7faeb-b53e-4cb9-ce05-d28d524bc638"
      },
      "execution_count": 130,
      "outputs": [
        {
          "output_type": "execute_result",
          "data": {
            "text/plain": [
              "<matplotlib.collections.PathCollection at 0x7f9f3d8a7fd0>"
            ]
          },
          "metadata": {},
          "execution_count": 130
        },
        {
          "output_type": "display_data",
          "data": {
            "text/plain": [
              "<Figure size 432x288 with 1 Axes>"
            ],
            "image/png": "[encoded data removed]"
          },
          "metadata": {
            "needs_background": "light"
          }
        }
      ]
    },
    {
      "cell_type": "markdown",
      "source": [
        "# Anatomy of a neural network: Understanding core Keras APIs"
      ],
      "metadata": {
        "id": "_Un2jxngNsJV"
      }
    },
    {
      "cell_type": "code",
      "source": [
        "from tensorflow import keras\n",
        "\n",
        "class SimpleDense(keras.layers.Layer):\n",
        "\n",
        "    def __init__(self, units, activation=None):\n",
        "        super().__init__()\n",
        "        self.units = units\n",
        "        self.activation = activation\n",
        "\n",
        "    def build(self, input_shape):\n",
        "        input_dim = input_shape[-1]\n",
        "        self.W = self.add_weight(shape=(input_dim, self.units),\n",
        "                                 initializer=\"random_normal\")\n",
        "        self.b = self.add_weight(shape=(self.units,),\n",
        "                                 initializer=\"zeros\")\n",
        "\n",
        "    def call(self, inputs):\n",
        "        y = tf.matmul(inputs, self.W) + self.b\n",
        "        if self.activation is not None:\n",
        "            y = self.activation(y)\n",
        "        return y"
      ],
      "metadata": {
        "id": "dAIiiTI8MppX"
      },
      "execution_count": 131,
      "outputs": []
    },
    {
      "cell_type": "code",
      "source": [
        "my_dense = SimpleDense(units=32, activation=tf.nn.relu)\n",
        "input_tensor = tf.ones(shape=(2, 784))\n",
        "output_tensor = my_dense(input_tensor)\n",
        "print(output_tensor.shape)"
      ],
      "metadata": {
        "colab": {
          "base_uri": "https://localhost:8080/"
        },
        "id": "tzsz81VrMpiv",
        "outputId": "ed22ce0e-cdb6-4cdb-8e7e-f89d3555a197"
      },
      "execution_count": 132,
      "outputs": [
        {
          "output_type": "stream",
          "name": "stdout",
          "text": [
            "(2, 32)\n"
          ]
        }
      ]
    },
    {
      "cell_type": "code",
      "source": [
        "from tensorflow.keras import layers\n",
        "layer = layers.Dense(32, activation=\"relu\")"
      ],
      "metadata": {
        "id": "X094FbzDIQnI"
      },
      "execution_count": 133,
      "outputs": []
    },
    {
      "cell_type": "code",
      "source": [
        "from tensorflow.keras import models\n",
        "from tensorflow.keras import layers\n",
        "model = models.Sequential([\n",
        "    layers.Dense(32, activation=\"relu\"),\n",
        "    layers.Dense(32)\n",
        "])"
      ],
      "metadata": {
        "id": "qGkCdF0aIQkl"
      },
      "execution_count": 134,
      "outputs": []
    },
    {
      "cell_type": "code",
      "source": [
        "model = keras.Sequential([\n",
        "    SimpleDense(32, activation=\"relu\"),\n",
        "    SimpleDense(64, activation=\"relu\"),\n",
        "    SimpleDense(32, activation=\"relu\"),\n",
        "    SimpleDense(10, activation=\"softmax\")\n",
        "])"
      ],
      "metadata": {
        "id": "2cGQnPcxIQiP"
      },
      "execution_count": 135,
      "outputs": []
    },
    {
      "cell_type": "code",
      "source": [
        "model = keras.Sequential([keras.layers.Dense(1)])\n",
        "model.compile(optimizer=\"rmsprop\",\n",
        "              loss=\"mean_squared_error\",\n",
        "              metrics=[\"accuracy\"])"
      ],
      "metadata": {
        "id": "2e5ycFe8IQfY"
      },
      "execution_count": 136,
      "outputs": []
    },
    {
      "cell_type": "code",
      "source": [
        "model.compile(optimizer=keras.optimizers.RMSprop(),\n",
        "              loss=keras.losses.MeanSquaredError(),\n",
        "              metrics=[keras.metrics.BinaryAccuracy()])"
      ],
      "metadata": {
        "id": "1aEXJTdNIQc0"
      },
      "execution_count": 137,
      "outputs": []
    },
    {
      "cell_type": "code",
      "source": [
        "history = model.fit(\n",
        "    inputs,\n",
        "    targets,\n",
        "    epochs=10,\n",
        "    batch_size=128\n",
        ")"
      ],
      "metadata": {
        "colab": {
          "base_uri": "https://localhost:8080/"
        },
        "id": "ojRFm9ZGIQMJ",
        "outputId": "d828b079-5337-4fc1-ee53-27225758a49d"
      },
      "execution_count": 138,
      "outputs": [
        {
          "output_type": "stream",
          "name": "stdout",
          "text": [
            "Epoch 1/10\n",
            "8/8 [==============================] - 0s 2ms/step - loss: 4.7164 - binary_accuracy: 0.9500\n",
            "Epoch 2/10\n",
            "8/8 [==============================] - 0s 2ms/step - loss: 4.5596 - binary_accuracy: 0.9500\n",
            "Epoch 3/10\n",
            "8/8 [==============================] - 0s 2ms/step - loss: 4.4395 - binary_accuracy: 0.9500\n",
            "Epoch 4/10\n",
            "8/8 [==============================] - 0s 2ms/step - loss: 4.3296 - binary_accuracy: 0.9500\n",
            "Epoch 5/10\n",
            "8/8 [==============================] - 0s 2ms/step - loss: 4.2237 - binary_accuracy: 0.9500\n",
            "Epoch 6/10\n",
            "8/8 [==============================] - 0s 3ms/step - loss: 4.1213 - binary_accuracy: 0.9500\n",
            "Epoch 7/10\n",
            "8/8 [==============================] - 0s 2ms/step - loss: 4.0200 - binary_accuracy: 0.9500\n",
            "Epoch 8/10\n",
            "8/8 [==============================] - 0s 2ms/step - loss: 3.9202 - binary_accuracy: 0.9500\n",
            "Epoch 9/10\n",
            "8/8 [==============================] - 0s 2ms/step - loss: 3.8214 - binary_accuracy: 0.9490\n",
            "Epoch 10/10\n",
            "8/8 [==============================] - 0s 2ms/step - loss: 3.7246 - binary_accuracy: 0.9490\n"
          ]
        }
      ]
    },
    {
      "cell_type": "code",
      "source": [
        "history.history"
      ],
      "metadata": {
        "id": "2pP5roDGywhp",
        "colab": {
          "base_uri": "https://localhost:8080/"
        },
        "outputId": "22349d6b-59f3-4f2e-a437-dedff50983fc"
      },
      "execution_count": 139,
      "outputs": [
        {
          "output_type": "execute_result",
          "data": {
            "text/plain": [
              "{'loss': [4.716438293457031,\n",
              "  4.559576988220215,\n",
              "  4.439479351043701,\n",
              "  4.329608917236328,\n",
              "  4.223731517791748,\n",
              "  4.121263027191162,\n",
              "  4.020012855529785,\n",
              "  3.9201836585998535,\n",
              "  3.821441411972046,\n",
              "  3.7246148586273193],\n",
              " 'binary_accuracy': [0.949999988079071,\n",
              "  0.949999988079071,\n",
              "  0.949999988079071,\n",
              "  0.949999988079071,\n",
              "  0.949999988079071,\n",
              "  0.949999988079071,\n",
              "  0.949999988079071,\n",
              "  0.949999988079071,\n",
              "  0.9490000009536743,\n",
              "  0.9490000009536743]}"
            ]
          },
          "metadata": {},
          "execution_count": 139
        }
      ]
    },
    {
      "cell_type": "code",
      "source": [
        "model = keras.Sequential([keras.layers.Dense(1)])\n",
        "model.compile(optimizer=keras.optimizers.RMSprop(learning_rate=0.1),\n",
        "              loss=keras.losses.MeanSquaredError(),\n",
        "              metrics=[keras.metrics.BinaryAccuracy()])\n",
        "\n",
        "indices_permutation = np.random.permutation(len(inputs))\n",
        "shuffled_inputs = inputs[indices_permutation]\n",
        "shuffled_targets = targets[indices_permutation]\n",
        "\n",
        "num_validation_samples = int(0.3 * len(inputs))\n",
        "val_inputs = shuffled_inputs[:num_validation_samples]\n",
        "val_targets = shuffled_targets[:num_validation_samples]\n",
        "training_inputs = shuffled_inputs[num_validation_samples:]\n",
        "training_targets = shuffled_targets[num_validation_samples:]\n",
        "model.fit(\n",
        "    training_inputs,\n",
        "    training_targets,\n",
        "    epochs=10,\n",
        "    batch_size=8,\n",
        "    validation_data=(val_inputs, val_targets)\n",
        ")"
      ],
      "metadata": {
        "colab": {
          "base_uri": "https://localhost:8080/"
        },
        "id": "l2Z0h7CjH_2T",
        "outputId": "59f8cc26-40c0-4320-cced-8b0bdfd9c9ff"
      },
      "execution_count": 140,
      "outputs": [
        {
          "output_type": "stream",
          "name": "stdout",
          "text": [
            "Epoch 1/10\n",
            "88/88 [==============================] - 1s 3ms/step - loss: 0.4888 - binary_accuracy: 0.8914 - val_loss: 0.0319 - val_binary_accuracy: 0.9967\n",
            "Epoch 2/10\n",
            "88/88 [==============================] - 0s 2ms/step - loss: 0.0801 - binary_accuracy: 0.9514 - val_loss: 0.0683 - val_binary_accuracy: 0.9600\n",
            "Epoch 3/10\n",
            "88/88 [==============================] - 0s 2ms/step - loss: 0.0749 - binary_accuracy: 0.9643 - val_loss: 0.0910 - val_binary_accuracy: 0.9733\n",
            "Epoch 4/10\n",
            "88/88 [==============================] - 0s 2ms/step - loss: 0.0860 - binary_accuracy: 0.9414 - val_loss: 0.0427 - val_binary_accuracy: 0.9867\n",
            "Epoch 5/10\n",
            "88/88 [==============================] - 0s 2ms/step - loss: 0.0726 - binary_accuracy: 0.9643 - val_loss: 0.2682 - val_binary_accuracy: 0.8267\n",
            "Epoch 6/10\n",
            "88/88 [==============================] - 0s 2ms/step - loss: 0.0758 - binary_accuracy: 0.9586 - val_loss: 0.0348 - val_binary_accuracy: 0.9967\n",
            "Epoch 7/10\n",
            "88/88 [==============================] - 0s 2ms/step - loss: 0.0721 - binary_accuracy: 0.9614 - val_loss: 0.0550 - val_binary_accuracy: 0.9667\n",
            "Epoch 8/10\n",
            "88/88 [==============================] - 0s 2ms/step - loss: 0.0817 - binary_accuracy: 0.9414 - val_loss: 0.3655 - val_binary_accuracy: 0.5900\n",
            "Epoch 9/10\n",
            "88/88 [==============================] - 0s 2ms/step - loss: 0.0782 - binary_accuracy: 0.9514 - val_loss: 0.0608 - val_binary_accuracy: 0.9733\n",
            "Epoch 10/10\n",
            "88/88 [==============================] - 0s 2ms/step - loss: 0.0807 - binary_accuracy: 0.9443 - val_loss: 0.0592 - val_binary_accuracy: 0.9733\n"
          ]
        },
        {
          "output_type": "execute_result",
          "data": {
            "text/plain": [
              "<keras.callbacks.History at 0x7f9f3dabf810>"
            ]
          },
          "metadata": {},
          "execution_count": 140
        }
      ]
    },
    {
      "cell_type": "code",
      "source": [
        "predictions = model.predict(val_inputs, batch_size=128)\n",
        "print(predictions[:20])"
      ],
      "metadata": {
        "colab": {
          "base_uri": "https://localhost:8080/"
        },
        "id": "n4bd0vFOH_zl",
        "outputId": "7818972b-0fa7-4f40-9a13-a5202cc40ec2"
      },
      "execution_count": 141,
      "outputs": [
        {
          "output_type": "stream",
          "name": "stdout",
          "text": [
            "[[ 1.2500818 ]\n",
            " [ 0.19565275]\n",
            " [ 1.0528705 ]\n",
            " [-0.04739684]\n",
            " [ 1.2254004 ]\n",
            " [ 1.0321712 ]\n",
            " [ 0.22119978]\n",
            " [ 0.04567987]\n",
            " [ 1.1971226 ]\n",
            " [ 0.09187686]\n",
            " [ 0.9605894 ]\n",
            " [ 1.0448471 ]\n",
            " [ 1.4677291 ]\n",
            " [ 0.1732212 ]\n",
            " [ 0.05011201]\n",
            " [ 1.2181824 ]\n",
            " [ 0.9871405 ]\n",
            " [ 1.2458632 ]\n",
            " [ 1.2160438 ]\n",
            " [-0.05894446]]\n"
          ]
        }
      ]
    }
  ]
}