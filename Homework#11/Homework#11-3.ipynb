{
  "nbformat": 4,
  "nbformat_minor": 0,
  "metadata": {
    "colab": {
      "provenance": [],
      "authorship_tag": "ABX9TyM5lXZX/Dsi2eVkbUrlsWTO"
    },
    "kernelspec": {
      "name": "python3",
      "display_name": "Python 3"
    },
    "language_info": {
      "name": "python"
    },
    "accelerator": "GPU",
    "gpuClass": "standard"
  },
  "cells": [
    {
      "cell_type": "markdown",
      "source": [
        "**The Transformer architecture**"
      ],
      "metadata": {
        "id": "vPZyiBW5v0yg"
      }
    },
    {
      "cell_type": "code",
      "execution_count": null,
      "metadata": {
        "id": "S7976dV_vrCS",
        "colab": {
          "base_uri": "https://localhost:8080/"
        },
        "outputId": "f0d41f6c-11c2-42c3-a915-63164ad26699"
      },
      "outputs": [
        {
          "output_type": "stream",
          "name": "stdout",
          "text": [
            "  % Total    % Received % Xferd  Average Speed   Time    Time     Time  Current\n",
            "                                 Dload  Upload   Total   Spent    Left  Speed\n",
            "100 80.2M  100 80.2M    0     0  9762k      0  0:00:08  0:00:08 --:--:-- 17.0M\n"
          ]
        }
      ],
      "source": [
        "!curl -O https://ai.stanford.edu/~amaas/data/sentiment/aclImdb_v1.tar.gz\n",
        "!tar -xf aclImdb_v1.tar.gz\n",
        "!rm -r aclImdb/train/unsup"
      ]
    },
    {
      "cell_type": "code",
      "source": [
        "import os, pathlib, shutil, random\n",
        "from tensorflow import keras\n",
        "batch_size = 32\n",
        "base_dir = pathlib.Path(\"aclImdb\")\n",
        "val_dir = base_dir / \"val\"\n",
        "train_dir = base_dir / \"train\"\n",
        "for category in (\"neg\", \"pos\"):\n",
        "    os.makedirs(val_dir / category)\n",
        "    files = os.listdir(train_dir / category)\n",
        "    random.Random(1337).shuffle(files)\n",
        "    num_val_samples = int(0.2 * len(files))\n",
        "    val_files = files[-num_val_samples:]\n",
        "    for fname in val_files:\n",
        "        shutil.move(train_dir / category / fname,\n",
        "                    val_dir / category / fname)\n",
        "\n",
        "train_ds = keras.utils.text_dataset_from_directory(\n",
        "    \"aclImdb/train\", batch_size=batch_size\n",
        ")\n",
        "val_ds = keras.utils.text_dataset_from_directory(\n",
        "    \"aclImdb/val\", batch_size=batch_size\n",
        ")\n",
        "test_ds = keras.utils.text_dataset_from_directory(\n",
        "    \"aclImdb/test\", batch_size=batch_size\n",
        ")\n",
        "text_only_train_ds = train_ds.map(lambda x, y: x)"
      ],
      "metadata": {
        "id": "GzRiWswAv3ND",
        "colab": {
          "base_uri": "https://localhost:8080/"
        },
        "outputId": "e4e34ef5-275f-4d53-9c60-68aede0e7735"
      },
      "execution_count": null,
      "outputs": [
        {
          "output_type": "stream",
          "name": "stdout",
          "text": [
            "Found 20000 files belonging to 2 classes.\n",
            "Found 5000 files belonging to 2 classes.\n",
            "Found 25000 files belonging to 2 classes.\n"
          ]
        }
      ]
    },
    {
      "cell_type": "code",
      "source": [
        "from tensorflow.keras import layers\n",
        "\n",
        "max_length = 600\n",
        "max_tokens = 20000\n",
        "text_vectorization = layers.TextVectorization(\n",
        "    max_tokens=max_tokens,\n",
        "    output_mode=\"int\",\n",
        "    output_sequence_length=max_length,\n",
        ")\n",
        "text_vectorization.adapt(text_only_train_ds)\n",
        "\n",
        "int_train_ds = train_ds.map(\n",
        "    lambda x, y: (text_vectorization(x), y),\n",
        "    num_parallel_calls=4)\n",
        "int_val_ds = val_ds.map(\n",
        "    lambda x, y: (text_vectorization(x), y),\n",
        "    num_parallel_calls=4)\n",
        "int_test_ds = test_ds.map(\n",
        "    lambda x, y: (text_vectorization(x), y),\n",
        "    num_parallel_calls=4)"
      ],
      "metadata": {
        "id": "0edkJzImv36U"
      },
      "execution_count": null,
      "outputs": []
    },
    {
      "cell_type": "code",
      "source": [
        "import tensorflow as tf\n",
        "from tensorflow import keras\n",
        "from tensorflow.keras import layers\n",
        "\n",
        "class TransformerEncoder(layers.Layer):\n",
        "    def __init__(self, embed_dim, dense_dim, num_heads, **kwargs):\n",
        "        super().__init__(**kwargs)\n",
        "        self.embed_dim = embed_dim\n",
        "        self.dense_dim = dense_dim\n",
        "        self.num_heads = num_heads\n",
        "        self.attention = layers.MultiHeadAttention(\n",
        "            num_heads=num_heads, key_dim=embed_dim)\n",
        "        self.dense_proj = keras.Sequential(\n",
        "            [layers.Dense(dense_dim, activation=\"relu\"),\n",
        "             layers.Dense(embed_dim),]\n",
        "        )\n",
        "        self.layernorm_1 = layers.LayerNormalization()\n",
        "        self.layernorm_2 = layers.LayerNormalization()\n",
        "\n",
        "    def call(self, inputs, mask=None):\n",
        "        if mask is not None:\n",
        "            mask = mask[:, tf.newaxis, :]\n",
        "        attention_output = self.attention(\n",
        "            inputs, inputs, attention_mask=mask)\n",
        "        proj_input = self.layernorm_1(inputs + attention_output)\n",
        "        proj_output = self.dense_proj(proj_input)\n",
        "        return self.layernorm_2(proj_input + proj_output)\n",
        "\n",
        "    def get_config(self):\n",
        "        config = super().get_config()\n",
        "        config.update({\n",
        "            \"embed_dim\": self.embed_dim,\n",
        "            \"num_heads\": self.num_heads,\n",
        "            \"dense_dim\": self.dense_dim,\n",
        "        })\n",
        "        return config"
      ],
      "metadata": {
        "id": "MqvYebdav34A"
      },
      "execution_count": null,
      "outputs": []
    },
    {
      "cell_type": "code",
      "source": [
        "vocab_size = 20000\n",
        "embed_dim = 256\n",
        "num_heads = 2\n",
        "dense_dim = 32\n",
        "\n",
        "inputs = keras.Input(shape=(None,), dtype=\"int64\")\n",
        "x = layers.Embedding(vocab_size, embed_dim)(inputs)\n",
        "x = TransformerEncoder(embed_dim, dense_dim, num_heads)(x)\n",
        "x = layers.GlobalMaxPooling1D()(x)\n",
        "x = layers.Dropout(0.5)(x)\n",
        "outputs = layers.Dense(1, activation=\"sigmoid\")(x)\n",
        "model = keras.Model(inputs, outputs)\n",
        "model.compile(optimizer=\"rmsprop\",\n",
        "              loss=\"binary_crossentropy\",\n",
        "              metrics=[\"accuracy\"])\n",
        "model.summary()"
      ],
      "metadata": {
        "id": "ax7Tk0tTv3zW",
        "colab": {
          "base_uri": "https://localhost:8080/"
        },
        "outputId": "1200277e-8148-4b8c-8d82-d4796fff32e3"
      },
      "execution_count": null,
      "outputs": [
        {
          "output_type": "stream",
          "name": "stdout",
          "text": [
            "Model: \"model\"\n",
            "_________________________________________________________________\n",
            " Layer (type)                Output Shape              Param #   \n",
            "=================================================================\n",
            " input_1 (InputLayer)        [(None, None)]            0         \n",
            "                                                                 \n",
            " embedding (Embedding)       (None, None, 256)         5120000   \n",
            "                                                                 \n",
            " transformer_encoder (Transf  (None, None, 256)        543776    \n",
            " ormerEncoder)                                                   \n",
            "                                                                 \n",
            " global_max_pooling1d (Globa  (None, 256)              0         \n",
            " lMaxPooling1D)                                                  \n",
            "                                                                 \n",
            " dropout (Dropout)           (None, 256)               0         \n",
            "                                                                 \n",
            " dense_2 (Dense)             (None, 1)                 257       \n",
            "                                                                 \n",
            "=================================================================\n",
            "Total params: 5,664,033\n",
            "Trainable params: 5,664,033\n",
            "Non-trainable params: 0\n",
            "_________________________________________________________________\n"
          ]
        }
      ]
    },
    {
      "cell_type": "code",
      "source": [
        "callbacks = [\n",
        "    keras.callbacks.ModelCheckpoint(\"transformer_encoder.keras\",\n",
        "                                    save_best_only=True)\n",
        "]\n",
        "model.fit(int_train_ds, validation_data=int_val_ds, epochs=20, callbacks=callbacks)\n",
        "model = keras.models.load_model(\n",
        "    \"transformer_encoder.keras\",\n",
        "    custom_objects={\"TransformerEncoder\": TransformerEncoder})\n",
        "print(f\"Test acc: {model.evaluate(int_test_ds)[1]:.3f}\")"
      ],
      "metadata": {
        "id": "i8KICM60v3xN",
        "colab": {
          "base_uri": "https://localhost:8080/"
        },
        "outputId": "f3b4dbb8-97e2-4810-c07f-8dc117bb719c"
      },
      "execution_count": null,
      "outputs": [
        {
          "output_type": "stream",
          "name": "stdout",
          "text": [
            "Epoch 1/20\n",
            "625/625 [==============================] - 47s 68ms/step - loss: 0.4745 - accuracy: 0.7735 - val_loss: 0.3370 - val_accuracy: 0.8538\n",
            "Epoch 2/20\n",
            "625/625 [==============================] - 42s 67ms/step - loss: 0.3175 - accuracy: 0.8646 - val_loss: 0.2755 - val_accuracy: 0.8830\n",
            "Epoch 3/20\n",
            "625/625 [==============================] - 42s 67ms/step - loss: 0.2387 - accuracy: 0.9034 - val_loss: 0.2866 - val_accuracy: 0.8790\n",
            "Epoch 4/20\n",
            "625/625 [==============================] - 42s 67ms/step - loss: 0.1879 - accuracy: 0.9272 - val_loss: 0.2620 - val_accuracy: 0.8898\n",
            "Epoch 5/20\n",
            "625/625 [==============================] - 42s 67ms/step - loss: 0.1521 - accuracy: 0.9428 - val_loss: 0.2848 - val_accuracy: 0.8870\n",
            "Epoch 6/20\n",
            "625/625 [==============================] - 42s 67ms/step - loss: 0.1316 - accuracy: 0.9520 - val_loss: 0.4409 - val_accuracy: 0.8830\n",
            "Epoch 7/20\n",
            "625/625 [==============================] - 42s 67ms/step - loss: 0.1148 - accuracy: 0.9573 - val_loss: 0.3719 - val_accuracy: 0.8762\n",
            "Epoch 8/20\n",
            "625/625 [==============================] - 42s 67ms/step - loss: 0.1009 - accuracy: 0.9628 - val_loss: 0.3593 - val_accuracy: 0.8844\n",
            "Epoch 9/20\n",
            "625/625 [==============================] - 42s 67ms/step - loss: 0.0904 - accuracy: 0.9667 - val_loss: 0.4845 - val_accuracy: 0.8682\n",
            "Epoch 10/20\n",
            "625/625 [==============================] - 42s 67ms/step - loss: 0.0783 - accuracy: 0.9707 - val_loss: 0.4562 - val_accuracy: 0.8736\n",
            "Epoch 11/20\n",
            "625/625 [==============================] - 42s 67ms/step - loss: 0.0662 - accuracy: 0.9744 - val_loss: 0.5177 - val_accuracy: 0.8776\n",
            "Epoch 12/20\n",
            "625/625 [==============================] - 42s 67ms/step - loss: 0.0581 - accuracy: 0.9794 - val_loss: 0.8656 - val_accuracy: 0.8404\n",
            "Epoch 13/20\n",
            "625/625 [==============================] - 42s 67ms/step - loss: 0.0487 - accuracy: 0.9832 - val_loss: 0.6826 - val_accuracy: 0.8650\n",
            "Epoch 14/20\n",
            "625/625 [==============================] - 42s 67ms/step - loss: 0.0426 - accuracy: 0.9848 - val_loss: 0.6336 - val_accuracy: 0.8710\n",
            "Epoch 15/20\n",
            "625/625 [==============================] - 42s 67ms/step - loss: 0.0390 - accuracy: 0.9870 - val_loss: 0.6667 - val_accuracy: 0.8664\n",
            "Epoch 16/20\n",
            "625/625 [==============================] - 42s 67ms/step - loss: 0.0287 - accuracy: 0.9902 - val_loss: 0.7400 - val_accuracy: 0.8702\n",
            "Epoch 17/20\n",
            "625/625 [==============================] - 42s 67ms/step - loss: 0.0277 - accuracy: 0.9924 - val_loss: 0.7760 - val_accuracy: 0.8772\n",
            "Epoch 18/20\n",
            "625/625 [==============================] - 42s 67ms/step - loss: 0.0222 - accuracy: 0.9927 - val_loss: 0.8331 - val_accuracy: 0.8746\n",
            "Epoch 19/20\n",
            "625/625 [==============================] - 42s 67ms/step - loss: 0.0200 - accuracy: 0.9940 - val_loss: 0.8508 - val_accuracy: 0.8748\n",
            "Epoch 20/20\n",
            "625/625 [==============================] - 42s 67ms/step - loss: 0.0163 - accuracy: 0.9954 - val_loss: 0.9702 - val_accuracy: 0.8706\n",
            "782/782 [==============================] - 20s 25ms/step - loss: 0.3013 - accuracy: 0.8718\n",
            "Test acc: 0.872\n"
          ]
        }
      ]
    },
    {
      "cell_type": "code",
      "source": [
        "class PositionalEmbedding(layers.Layer):\n",
        "    def __init__(self, sequence_length, input_dim, output_dim, **kwargs):\n",
        "        super().__init__(**kwargs)\n",
        "        self.token_embeddings = layers.Embedding(\n",
        "            input_dim=input_dim, output_dim=output_dim)\n",
        "        self.position_embeddings = layers.Embedding(\n",
        "            input_dim=sequence_length, output_dim=output_dim)\n",
        "        self.sequence_length = sequence_length\n",
        "        self.input_dim = input_dim\n",
        "        self.output_dim = output_dim\n",
        "\n",
        "    def call(self, inputs):\n",
        "        length = tf.shape(inputs)[-1]\n",
        "        positions = tf.range(start=0, limit=length, delta=1)\n",
        "        embedded_tokens = self.token_embeddings(inputs)\n",
        "        embedded_positions = self.position_embeddings(positions)\n",
        "        return embedded_tokens + embedded_positions\n",
        "\n",
        "    def compute_mask(self, inputs, mask=None):\n",
        "        return tf.math.not_equal(inputs, 0)\n",
        "\n",
        "    def get_config(self):\n",
        "        config = super().get_config()\n",
        "        config.update({\n",
        "            \"output_dim\": self.output_dim,\n",
        "            \"sequence_length\": self.sequence_length,\n",
        "            \"input_dim\": self.input_dim,\n",
        "        })\n",
        "        return config"
      ],
      "metadata": {
        "id": "1D6Xky6Kv3um"
      },
      "execution_count": null,
      "outputs": []
    },
    {
      "cell_type": "code",
      "source": [
        "vocab_size = 20000\n",
        "sequence_length = 600\n",
        "embed_dim = 256\n",
        "num_heads = 2\n",
        "dense_dim = 32\n",
        "\n",
        "inputs = keras.Input(shape=(None,), dtype=\"int64\")\n",
        "x = PositionalEmbedding(sequence_length, vocab_size, embed_dim)(inputs)\n",
        "x = TransformerEncoder(embed_dim, dense_dim, num_heads)(x)\n",
        "x = layers.GlobalMaxPooling1D()(x)\n",
        "x = layers.Dropout(0.5)(x)\n",
        "outputs = layers.Dense(1, activation=\"sigmoid\")(x)\n",
        "model = keras.Model(inputs, outputs)\n",
        "model.compile(optimizer=\"rmsprop\",\n",
        "              loss=\"binary_crossentropy\",\n",
        "              metrics=[\"accuracy\"])\n",
        "model.summary()\n",
        "\n",
        "callbacks = [\n",
        "    keras.callbacks.ModelCheckpoint(\"full_transformer_encoder.keras\",\n",
        "                                    save_best_only=True)\n",
        "]\n",
        "model.fit(int_train_ds, validation_data=int_val_ds, epochs=20, callbacks=callbacks)\n",
        "model = keras.models.load_model(\n",
        "    \"full_transformer_encoder.keras\",\n",
        "    custom_objects={\"TransformerEncoder\": TransformerEncoder,\n",
        "                    \"PositionalEmbedding\": PositionalEmbedding})\n",
        "print(f\"Test acc: {model.evaluate(int_test_ds)[1]:.3f}\")"
      ],
      "metadata": {
        "id": "20IXeLq7v3sR",
        "colab": {
          "base_uri": "https://localhost:8080/"
        },
        "outputId": "efd91cca-40e5-4fcd-c00c-48ebddbb3799"
      },
      "execution_count": null,
      "outputs": [
        {
          "output_type": "stream",
          "name": "stdout",
          "text": [
            "Model: \"model_1\"\n",
            "_________________________________________________________________\n",
            " Layer (type)                Output Shape              Param #   \n",
            "=================================================================\n",
            " input_2 (InputLayer)        [(None, None)]            0         \n",
            "                                                                 \n",
            " positional_embedding (Posit  (None, None, 256)        5273600   \n",
            " ionalEmbedding)                                                 \n",
            "                                                                 \n",
            " transformer_encoder_1 (Tran  (None, None, 256)        543776    \n",
            " sformerEncoder)                                                 \n",
            "                                                                 \n",
            " global_max_pooling1d_1 (Glo  (None, 256)              0         \n",
            " balMaxPooling1D)                                                \n",
            "                                                                 \n",
            " dropout_1 (Dropout)         (None, 256)               0         \n",
            "                                                                 \n",
            " dense_7 (Dense)             (None, 1)                 257       \n",
            "                                                                 \n",
            "=================================================================\n",
            "Total params: 5,817,633\n",
            "Trainable params: 5,817,633\n",
            "Non-trainable params: 0\n",
            "_________________________________________________________________\n",
            "Epoch 1/20\n",
            "625/625 [==============================] - 44s 68ms/step - loss: 0.4783 - accuracy: 0.7825 - val_loss: 0.2640 - val_accuracy: 0.8892\n",
            "Epoch 2/20\n",
            "625/625 [==============================] - 42s 67ms/step - loss: 0.2333 - accuracy: 0.9086 - val_loss: 0.3255 - val_accuracy: 0.8546\n",
            "Epoch 3/20\n",
            "625/625 [==============================] - 43s 68ms/step - loss: 0.1759 - accuracy: 0.9341 - val_loss: 0.2832 - val_accuracy: 0.8998\n",
            "Epoch 4/20\n",
            "625/625 [==============================] - 43s 68ms/step - loss: 0.1451 - accuracy: 0.9474 - val_loss: 0.3144 - val_accuracy: 0.8930\n",
            "Epoch 5/20\n",
            "625/625 [==============================] - 43s 68ms/step - loss: 0.1245 - accuracy: 0.9554 - val_loss: 0.3529 - val_accuracy: 0.8892\n",
            "Epoch 6/20\n",
            "625/625 [==============================] - 43s 68ms/step - loss: 0.1110 - accuracy: 0.9593 - val_loss: 0.4077 - val_accuracy: 0.8700\n",
            "Epoch 7/20\n",
            "625/625 [==============================] - 42s 67ms/step - loss: 0.0990 - accuracy: 0.9645 - val_loss: 0.4403 - val_accuracy: 0.8690\n",
            "Epoch 8/20\n",
            "625/625 [==============================] - 42s 67ms/step - loss: 0.0864 - accuracy: 0.9701 - val_loss: 0.5139 - val_accuracy: 0.8362\n",
            "Epoch 9/20\n",
            "625/625 [==============================] - 42s 67ms/step - loss: 0.0801 - accuracy: 0.9724 - val_loss: 0.4186 - val_accuracy: 0.8826\n",
            "Epoch 10/20\n",
            "625/625 [==============================] - 43s 68ms/step - loss: 0.0710 - accuracy: 0.9747 - val_loss: 0.5081 - val_accuracy: 0.8724\n",
            "Epoch 11/20\n",
            "625/625 [==============================] - 43s 68ms/step - loss: 0.0687 - accuracy: 0.9755 - val_loss: 0.4903 - val_accuracy: 0.8816\n",
            "Epoch 12/20\n",
            "625/625 [==============================] - 43s 68ms/step - loss: 0.0588 - accuracy: 0.9792 - val_loss: 0.5328 - val_accuracy: 0.8734\n",
            "Epoch 13/20\n",
            "625/625 [==============================] - 43s 68ms/step - loss: 0.0553 - accuracy: 0.9809 - val_loss: 0.5108 - val_accuracy: 0.8800\n",
            "Epoch 14/20\n",
            "625/625 [==============================] - 43s 68ms/step - loss: 0.0540 - accuracy: 0.9821 - val_loss: 0.4913 - val_accuracy: 0.8772\n",
            "Epoch 15/20\n",
            "625/625 [==============================] - 43s 68ms/step - loss: 0.0517 - accuracy: 0.9827 - val_loss: 0.5432 - val_accuracy: 0.8762\n",
            "Epoch 16/20\n",
            "625/625 [==============================] - 43s 68ms/step - loss: 0.0494 - accuracy: 0.9845 - val_loss: 0.5934 - val_accuracy: 0.8772\n",
            "Epoch 17/20\n",
            "625/625 [==============================] - 43s 68ms/step - loss: 0.0433 - accuracy: 0.9859 - val_loss: 0.5526 - val_accuracy: 0.8730\n",
            "Epoch 18/20\n",
            "625/625 [==============================] - 43s 68ms/step - loss: 0.0396 - accuracy: 0.9870 - val_loss: 0.7632 - val_accuracy: 0.8706\n",
            "Epoch 19/20\n",
            "625/625 [==============================] - 42s 67ms/step - loss: 0.0355 - accuracy: 0.9884 - val_loss: 0.5828 - val_accuracy: 0.8620\n",
            "Epoch 20/20\n",
            "625/625 [==============================] - 43s 68ms/step - loss: 0.0359 - accuracy: 0.9888 - val_loss: 0.6930 - val_accuracy: 0.8702\n",
            "782/782 [==============================] - 26s 33ms/step - loss: 0.2770 - accuracy: 0.8868\n",
            "Test acc: 0.887\n"
          ]
        }
      ]
    }
  ]
}
