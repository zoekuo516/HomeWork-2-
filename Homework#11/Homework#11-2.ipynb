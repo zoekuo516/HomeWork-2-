{
  "cells": [
    {
      "cell_type": "markdown",
      "metadata": {
        "id": "WHip4fKzqwQt"
      },
      "source": [
        "**Processing words as a sequence: The sequence model approach**"
      ]
    },
    {
      "cell_type": "code",
      "execution_count": 2,
      "metadata": {
        "colab": {
          "base_uri": "https://localhost:8080/"
        },
        "id": "KhUMW13Tqo13",
        "outputId": "bbdecee2-7737-4f32-8ca5-40a27f6f97a6"
      },
      "outputs": [
        {
          "output_type": "stream",
          "name": "stdout",
          "text": [
            "  % Total    % Received % Xferd  Average Speed   Time    Time     Time  Current\n",
            "                                 Dload  Upload   Total   Spent    Left  Speed\n",
            "100 80.2M  100 80.2M    0     0  17.2M      0  0:00:04  0:00:04 --:--:-- 17.2M\n"
          ]
        }
      ],
      "source": [
        "!curl -O https://ai.stanford.edu/~amaas/data/sentiment/aclImdb_v1.tar.gz\n",
        "!tar -xf aclImdb_v1.tar.gz\n",
        "!rm -r aclImdb/train/unsup"
      ]
    },
    {
      "cell_type": "code",
      "execution_count": 3,
      "metadata": {
        "colab": {
          "base_uri": "https://localhost:8080/"
        },
        "id": "NkUqVIk2qz9K",
        "outputId": "f7e889b4-612f-43ea-f438-ecb30b848759"
      },
      "outputs": [
        {
          "output_type": "stream",
          "name": "stdout",
          "text": [
            "Found 20000 files belonging to 2 classes.\n",
            "Found 5000 files belonging to 2 classes.\n",
            "Found 25000 files belonging to 2 classes.\n"
          ]
        }
      ],
      "source": [
        "import os, pathlib, shutil, random\n",
        "from tensorflow import keras\n",
        "batch_size = 32\n",
        "base_dir = pathlib.Path(\"aclImdb\")\n",
        "val_dir = base_dir / \"val\"\n",
        "train_dir = base_dir / \"train\"\n",
        "for category in (\"neg\", \"pos\"):\n",
        "    os.makedirs(val_dir / category)\n",
        "    files = os.listdir(train_dir / category)\n",
        "    random.Random(1337).shuffle(files)\n",
        "    num_val_samples = int(0.2 * len(files))\n",
        "    val_files = files[-num_val_samples:]\n",
        "    for fname in val_files:\n",
        "        shutil.move(train_dir / category / fname,\n",
        "                    val_dir / category / fname)\n",
        "\n",
        "train_ds = keras.utils.text_dataset_from_directory(\n",
        "    \"aclImdb/train\", batch_size=batch_size\n",
        ")\n",
        "val_ds = keras.utils.text_dataset_from_directory(\n",
        "    \"aclImdb/val\", batch_size=batch_size\n",
        ")\n",
        "test_ds = keras.utils.text_dataset_from_directory(\n",
        "    \"aclImdb/test\", batch_size=batch_size\n",
        ")\n",
        "text_only_train_ds = train_ds.map(lambda x, y: x)"
      ]
    },
    {
      "cell_type": "code",
      "execution_count": 4,
      "metadata": {
        "id": "YlbswEE-q0mB"
      },
      "outputs": [],
      "source": [
        "from tensorflow.keras import layers\n",
        "\n",
        "max_length = 600\n",
        "max_tokens = 20000\n",
        "text_vectorization = layers.TextVectorization(\n",
        "    max_tokens=max_tokens,\n",
        "    output_mode=\"int\",\n",
        "    output_sequence_length=max_length,\n",
        ")\n",
        "text_vectorization.adapt(text_only_train_ds)\n",
        "\n",
        "int_train_ds = train_ds.map(\n",
        "    lambda x, y: (text_vectorization(x), y),\n",
        "    num_parallel_calls=4)\n",
        "int_val_ds = val_ds.map(\n",
        "    lambda x, y: (text_vectorization(x), y),\n",
        "    num_parallel_calls=4)\n",
        "int_test_ds = test_ds.map(\n",
        "    lambda x, y: (text_vectorization(x), y),\n",
        "    num_parallel_calls=4)"
      ]
    },
    {
      "cell_type": "code",
      "execution_count": 5,
      "metadata": {
        "colab": {
          "base_uri": "https://localhost:8080/"
        },
        "id": "ndK887Rbq0js",
        "outputId": "8e6dc857-09c7-43e2-99c5-e77255a7403f"
      },
      "outputs": [
        {
          "output_type": "stream",
          "name": "stdout",
          "text": [
            "Model: \"model\"\n",
            "_________________________________________________________________\n",
            " Layer (type)                Output Shape              Param #   \n",
            "=================================================================\n",
            " input_1 (InputLayer)        [(None, None)]            0         \n",
            "                                                                 \n",
            " tf.one_hot (TFOpLambda)     (None, None, 20000)       0         \n",
            "                                                                 \n",
            " bidirectional (Bidirectiona  (None, 64)               5128448   \n",
            " l)                                                              \n",
            "                                                                 \n",
            " dropout (Dropout)           (None, 64)                0         \n",
            "                                                                 \n",
            " dense (Dense)               (None, 1)                 65        \n",
            "                                                                 \n",
            "=================================================================\n",
            "Total params: 5,128,513\n",
            "Trainable params: 5,128,513\n",
            "Non-trainable params: 0\n",
            "_________________________________________________________________\n"
          ]
        }
      ],
      "source": [
        "import tensorflow as tf\n",
        "inputs = keras.Input(shape=(None,), dtype=\"int64\")\n",
        "embedded = tf.one_hot(inputs, depth=max_tokens)\n",
        "x = layers.Bidirectional(layers.LSTM(32))(embedded)\n",
        "x = layers.Dropout(0.5)(x)\n",
        "outputs = layers.Dense(1, activation=\"sigmoid\")(x)\n",
        "model = keras.Model(inputs, outputs)\n",
        "model.compile(optimizer=\"rmsprop\",\n",
        "              loss=\"binary_crossentropy\",\n",
        "              metrics=[\"accuracy\"])\n",
        "model.summary()"
      ]
    },
    {
      "cell_type": "code",
      "execution_count": 6,
      "metadata": {
        "colab": {
          "base_uri": "https://localhost:8080/"
        },
        "id": "13G0gGM0q0hp",
        "outputId": "e8054315-59ed-4df2-94f5-46077e170063"
      },
      "outputs": [
        {
          "output_type": "stream",
          "name": "stdout",
          "text": [
            "Epoch 1/10\n",
            "625/625 [==============================] - 174s 267ms/step - loss: 0.5250 - accuracy: 0.7496 - val_loss: 0.3179 - val_accuracy: 0.8768\n",
            "Epoch 2/10\n",
            "625/625 [==============================] - 179s 286ms/step - loss: 0.3306 - accuracy: 0.8813 - val_loss: 0.2882 - val_accuracy: 0.8868\n",
            "Epoch 3/10\n",
            "625/625 [==============================] - 181s 289ms/step - loss: 0.2576 - accuracy: 0.9111 - val_loss: 0.2991 - val_accuracy: 0.8804\n",
            "Epoch 4/10\n",
            "625/625 [==============================] - 181s 289ms/step - loss: 0.2248 - accuracy: 0.9241 - val_loss: 0.6850 - val_accuracy: 0.8288\n",
            "Epoch 5/10\n",
            "625/625 [==============================] - 180s 289ms/step - loss: 0.2100 - accuracy: 0.9322 - val_loss: 0.3006 - val_accuracy: 0.8948\n",
            "Epoch 6/10\n",
            "625/625 [==============================] - 180s 288ms/step - loss: 0.1743 - accuracy: 0.9425 - val_loss: 0.4586 - val_accuracy: 0.8422\n",
            "Epoch 7/10\n",
            "625/625 [==============================] - 181s 290ms/step - loss: 0.1541 - accuracy: 0.9488 - val_loss: 0.4558 - val_accuracy: 0.8696\n",
            "Epoch 8/10\n",
            "625/625 [==============================] - 181s 290ms/step - loss: 0.1316 - accuracy: 0.9565 - val_loss: 0.3520 - val_accuracy: 0.8872\n",
            "Epoch 9/10\n",
            "625/625 [==============================] - 181s 290ms/step - loss: 0.1107 - accuracy: 0.9640 - val_loss: 0.4092 - val_accuracy: 0.8864\n",
            "Epoch 10/10\n",
            "625/625 [==============================] - 181s 290ms/step - loss: 0.0889 - accuracy: 0.9719 - val_loss: 0.4533 - val_accuracy: 0.8846\n",
            "782/782 [==============================] - 104s 132ms/step - loss: 0.2993 - accuracy: 0.8797\n",
            "Test acc: 0.880\n"
          ]
        }
      ],
      "source": [
        "callbacks = [\n",
        "    keras.callbacks.ModelCheckpoint(\"one_hot_bidir_lstm.keras\",\n",
        "                                    save_best_only=True)\n",
        "]\n",
        "model.fit(int_train_ds, validation_data=int_val_ds, epochs=10, callbacks=callbacks)\n",
        "model = keras.models.load_model(\"one_hot_bidir_lstm.keras\")\n",
        "print(f\"Test acc: {model.evaluate(int_test_ds)[1]:.3f}\")"
      ]
    },
    {
      "cell_type": "code",
      "execution_count": 7,
      "metadata": {
        "id": "C00uq3Ubq0fU"
      },
      "outputs": [],
      "source": [
        "embedding_layer = layers.Embedding(input_dim=max_tokens, output_dim=256)"
      ]
    },
    {
      "cell_type": "code",
      "execution_count": 8,
      "metadata": {
        "colab": {
          "base_uri": "https://localhost:8080/"
        },
        "id": "1eliOtkzq0dP",
        "outputId": "629562c3-ee48-44e2-b518-b5d054902e8a"
      },
      "outputs": [
        {
          "output_type": "stream",
          "name": "stdout",
          "text": [
            "Model: \"model_1\"\n",
            "_________________________________________________________________\n",
            " Layer (type)                Output Shape              Param #   \n",
            "=================================================================\n",
            " input_2 (InputLayer)        [(None, None)]            0         \n",
            "                                                                 \n",
            " embedding_1 (Embedding)     (None, None, 256)         5120000   \n",
            "                                                                 \n",
            " bidirectional_1 (Bidirectio  (None, 64)               73984     \n",
            " nal)                                                            \n",
            "                                                                 \n",
            " dropout_1 (Dropout)         (None, 64)                0         \n",
            "                                                                 \n",
            " dense_1 (Dense)             (None, 1)                 65        \n",
            "                                                                 \n",
            "=================================================================\n",
            "Total params: 5,194,049\n",
            "Trainable params: 5,194,049\n",
            "Non-trainable params: 0\n",
            "_________________________________________________________________\n",
            "Epoch 1/10\n",
            "625/625 [==============================] - 40s 58ms/step - loss: 0.4747 - accuracy: 0.7803 - val_loss: 0.3344 - val_accuracy: 0.8782\n",
            "Epoch 2/10\n",
            "625/625 [==============================] - 36s 57ms/step - loss: 0.3101 - accuracy: 0.8884 - val_loss: 0.4231 - val_accuracy: 0.8634\n",
            "Epoch 3/10\n",
            "625/625 [==============================] - 36s 57ms/step - loss: 0.2472 - accuracy: 0.9126 - val_loss: 0.3980 - val_accuracy: 0.8706\n",
            "Epoch 4/10\n",
            "625/625 [==============================] - 35s 55ms/step - loss: 0.2049 - accuracy: 0.9294 - val_loss: 0.3058 - val_accuracy: 0.8872\n",
            "Epoch 5/10\n",
            "625/625 [==============================] - 37s 59ms/step - loss: 0.1740 - accuracy: 0.9409 - val_loss: 0.3436 - val_accuracy: 0.8870\n",
            "Epoch 6/10\n",
            "625/625 [==============================] - 35s 56ms/step - loss: 0.1446 - accuracy: 0.9508 - val_loss: 0.3862 - val_accuracy: 0.8866\n",
            "Epoch 7/10\n",
            "625/625 [==============================] - 35s 56ms/step - loss: 0.1231 - accuracy: 0.9607 - val_loss: 0.5156 - val_accuracy: 0.8746\n",
            "Epoch 8/10\n",
            "625/625 [==============================] - 35s 57ms/step - loss: 0.1014 - accuracy: 0.9686 - val_loss: 0.3821 - val_accuracy: 0.8842\n",
            "Epoch 9/10\n",
            "625/625 [==============================] - 36s 57ms/step - loss: 0.0831 - accuracy: 0.9750 - val_loss: 0.3859 - val_accuracy: 0.8854\n",
            "Epoch 10/10\n",
            "625/625 [==============================] - 36s 57ms/step - loss: 0.0714 - accuracy: 0.9782 - val_loss: 0.4562 - val_accuracy: 0.8836\n",
            "782/782 [==============================] - 28s 35ms/step - loss: 0.3523 - accuracy: 0.8694\n",
            "Test acc: 0.869\n"
          ]
        }
      ],
      "source": [
        "inputs = keras.Input(shape=(None,), dtype=\"int64\")\n",
        "embedded = layers.Embedding(input_dim=max_tokens, output_dim=256)(inputs)\n",
        "x = layers.Bidirectional(layers.LSTM(32))(embedded)\n",
        "x = layers.Dropout(0.5)(x)\n",
        "outputs = layers.Dense(1, activation=\"sigmoid\")(x)\n",
        "model = keras.Model(inputs, outputs)\n",
        "model.compile(optimizer=\"rmsprop\",\n",
        "              loss=\"binary_crossentropy\",\n",
        "              metrics=[\"accuracy\"])\n",
        "model.summary()\n",
        "\n",
        "callbacks = [\n",
        "    keras.callbacks.ModelCheckpoint(\"embeddings_bidir_gru.keras\",\n",
        "                                    save_best_only=True)\n",
        "]\n",
        "model.fit(int_train_ds, validation_data=int_val_ds, epochs=10, callbacks=callbacks)\n",
        "model = keras.models.load_model(\"embeddings_bidir_gru.keras\")\n",
        "print(f\"Test acc: {model.evaluate(int_test_ds)[1]:.3f}\")"
      ]
    },
    {
      "cell_type": "code",
      "execution_count": 9,
      "metadata": {
        "id": "pw6TJ95Oq0bF",
        "colab": {
          "base_uri": "https://localhost:8080/"
        },
        "outputId": "9fd1c2a8-92b2-42a8-95af-786dc1d0ea5d"
      },
      "outputs": [
        {
          "output_type": "stream",
          "name": "stdout",
          "text": [
            "Model: \"model_2\"\n",
            "_________________________________________________________________\n",
            " Layer (type)                Output Shape              Param #   \n",
            "=================================================================\n",
            " input_3 (InputLayer)        [(None, None)]            0         \n",
            "                                                                 \n",
            " embedding_2 (Embedding)     (None, None, 256)         5120000   \n",
            "                                                                 \n",
            " bidirectional_2 (Bidirectio  (None, 64)               73984     \n",
            " nal)                                                            \n",
            "                                                                 \n",
            " dropout_2 (Dropout)         (None, 64)                0         \n",
            "                                                                 \n",
            " dense_2 (Dense)             (None, 1)                 65        \n",
            "                                                                 \n",
            "=================================================================\n",
            "Total params: 5,194,049\n",
            "Trainable params: 5,194,049\n",
            "Non-trainable params: 0\n",
            "_________________________________________________________________\n",
            "Epoch 1/10\n",
            "625/625 [==============================] - 45s 61ms/step - loss: 0.4036 - accuracy: 0.8166 - val_loss: 0.2827 - val_accuracy: 0.8852\n",
            "Epoch 2/10\n",
            "625/625 [==============================] - 38s 61ms/step - loss: 0.2362 - accuracy: 0.9096 - val_loss: 0.2963 - val_accuracy: 0.8782\n",
            "Epoch 3/10\n",
            "625/625 [==============================] - 38s 60ms/step - loss: 0.1751 - accuracy: 0.9364 - val_loss: 0.2913 - val_accuracy: 0.8930\n",
            "Epoch 4/10\n",
            "625/625 [==============================] - 38s 61ms/step - loss: 0.1327 - accuracy: 0.9516 - val_loss: 0.3371 - val_accuracy: 0.8854\n",
            "Epoch 5/10\n",
            "625/625 [==============================] - 38s 60ms/step - loss: 0.1022 - accuracy: 0.9643 - val_loss: 0.3204 - val_accuracy: 0.8920\n",
            "Epoch 6/10\n",
            "625/625 [==============================] - 40s 63ms/step - loss: 0.0735 - accuracy: 0.9743 - val_loss: 0.4042 - val_accuracy: 0.8884\n",
            "Epoch 7/10\n",
            "625/625 [==============================] - 39s 62ms/step - loss: 0.0521 - accuracy: 0.9821 - val_loss: 0.4546 - val_accuracy: 0.8810\n",
            "Epoch 8/10\n",
            "625/625 [==============================] - 39s 62ms/step - loss: 0.0390 - accuracy: 0.9869 - val_loss: 0.6092 - val_accuracy: 0.8488\n",
            "Epoch 9/10\n",
            "625/625 [==============================] - 39s 62ms/step - loss: 0.0248 - accuracy: 0.9916 - val_loss: 0.6415 - val_accuracy: 0.8662\n",
            "Epoch 10/10\n",
            "625/625 [==============================] - 39s 62ms/step - loss: 0.0204 - accuracy: 0.9936 - val_loss: 0.6128 - val_accuracy: 0.8700\n",
            "782/782 [==============================] - 27s 31ms/step - loss: 0.3007 - accuracy: 0.8766\n",
            "Test acc: 0.877\n"
          ]
        }
      ],
      "source": [
        "inputs = keras.Input(shape=(None,), dtype=\"int64\")\n",
        "embedded = layers.Embedding(\n",
        "    input_dim=max_tokens, output_dim=256, mask_zero=True)(inputs)\n",
        "x = layers.Bidirectional(layers.LSTM(32))(embedded)\n",
        "x = layers.Dropout(0.5)(x)\n",
        "outputs = layers.Dense(1, activation=\"sigmoid\")(x)\n",
        "model = keras.Model(inputs, outputs)\n",
        "model.compile(optimizer=\"rmsprop\",\n",
        "              loss=\"binary_crossentropy\",\n",
        "              metrics=[\"accuracy\"])\n",
        "model.summary()\n",
        "\n",
        "callbacks = [\n",
        "    keras.callbacks.ModelCheckpoint(\"embeddings_bidir_gru_with_masking.keras\",\n",
        "                                    save_best_only=True)\n",
        "]\n",
        "model.fit(int_train_ds, validation_data=int_val_ds, epochs=10, callbacks=callbacks)\n",
        "model = keras.models.load_model(\"embeddings_bidir_gru_with_masking.keras\")\n",
        "print(f\"Test acc: {model.evaluate(int_test_ds)[1]:.3f}\")"
      ]
    },
    {
      "cell_type": "code",
      "execution_count": 10,
      "metadata": {
        "id": "gUb88ZuZq0Yu",
        "colab": {
          "base_uri": "https://localhost:8080/"
        },
        "outputId": "965bbff9-eb5f-4cb5-f2ba-5ee6ea3d3cab"
      },
      "outputs": [
        {
          "output_type": "stream",
          "name": "stdout",
          "text": [
            "--2022-12-01 07:30:04--  http://nlp.stanford.edu/data/glove.6B.zip\n",
            "Resolving nlp.stanford.edu (nlp.stanford.edu)... 171.64.67.140\n",
            "Connecting to nlp.stanford.edu (nlp.stanford.edu)|171.64.67.140|:80... connected.\n",
            "HTTP request sent, awaiting response... 302 Found\n",
            "Location: https://nlp.stanford.edu/data/glove.6B.zip [following]\n",
            "--2022-12-01 07:30:04--  https://nlp.stanford.edu/data/glove.6B.zip\n",
            "Connecting to nlp.stanford.edu (nlp.stanford.edu)|171.64.67.140|:443... connected.\n",
            "HTTP request sent, awaiting response... 301 Moved Permanently\n",
            "Location: https://downloads.cs.stanford.edu/nlp/data/glove.6B.zip [following]\n",
            "--2022-12-01 07:30:05--  https://downloads.cs.stanford.edu/nlp/data/glove.6B.zip\n",
            "Resolving downloads.cs.stanford.edu (downloads.cs.stanford.edu)... 171.64.64.22\n",
            "Connecting to downloads.cs.stanford.edu (downloads.cs.stanford.edu)|171.64.64.22|:443... connected.\n",
            "HTTP request sent, awaiting response... 200 OK\n",
            "Length: 862182613 (822M) [application/zip]\n",
            "Saving to: ‘glove.6B.zip’\n",
            "\n",
            "glove.6B.zip        100%[===================>] 822.24M  5.01MB/s    in 2m 39s  \n",
            "\n",
            "2022-12-01 07:32:44 (5.17 MB/s) - ‘glove.6B.zip’ saved [862182613/862182613]\n",
            "\n"
          ]
        }
      ],
      "source": [
        "!wget http://nlp.stanford.edu/data/glove.6B.zip\n",
        "!unzip -q glove.6B.zip"
      ]
    },
    {
      "cell_type": "code",
      "execution_count": 11,
      "metadata": {
        "id": "GI8fNPkmq0Wp",
        "colab": {
          "base_uri": "https://localhost:8080/"
        },
        "outputId": "89fbeff4-c28e-458b-fc86-f7571820f4bb"
      },
      "outputs": [
        {
          "output_type": "stream",
          "name": "stdout",
          "text": [
            "Found 400000 word vectors.\n"
          ]
        }
      ],
      "source": [
        "import numpy as np\n",
        "path_to_glove_file = \"glove.6B.100d.txt\"\n",
        "\n",
        "embeddings_index = {}\n",
        "with open(path_to_glove_file) as f:\n",
        "    for line in f:\n",
        "        word, coefs = line.split(maxsplit=1)\n",
        "        coefs = np.fromstring(coefs, \"f\", sep=\" \")\n",
        "        embeddings_index[word] = coefs\n",
        "\n",
        "print(f\"Found {len(embeddings_index)} word vectors.\")"
      ]
    },
    {
      "cell_type": "code",
      "execution_count": 12,
      "metadata": {
        "id": "86X6SFGUq0UT"
      },
      "outputs": [],
      "source": [
        "embedding_dim = 100\n",
        "\n",
        "vocabulary = text_vectorization.get_vocabulary()\n",
        "word_index = dict(zip(vocabulary, range(len(vocabulary))))\n",
        "\n",
        "embedding_matrix = np.zeros((max_tokens, embedding_dim))\n",
        "for word, i in word_index.items():\n",
        "    if i < max_tokens:\n",
        "        embedding_vector = embeddings_index.get(word)\n",
        "    if embedding_vector is not None:\n",
        "        embedding_matrix[i] = embedding_vector"
      ]
    },
    {
      "cell_type": "code",
      "execution_count": 13,
      "metadata": {
        "id": "H1cBtYu1q0Rp"
      },
      "outputs": [],
      "source": [
        "embedding_layer = layers.Embedding(\n",
        "    max_tokens,\n",
        "    embedding_dim,\n",
        "    embeddings_initializer=keras.initializers.Constant(embedding_matrix),\n",
        "    trainable=False,\n",
        "    mask_zero=True,\n",
        ")"
      ]
    },
    {
      "cell_type": "code",
      "execution_count": 14,
      "metadata": {
        "id": "QcuDEPsprEoZ",
        "colab": {
          "base_uri": "https://localhost:8080/"
        },
        "outputId": "bf246f38-a4c6-4383-a2e8-521ca8835235"
      },
      "outputs": [
        {
          "output_type": "stream",
          "name": "stdout",
          "text": [
            "Model: \"model_3\"\n",
            "_________________________________________________________________\n",
            " Layer (type)                Output Shape              Param #   \n",
            "=================================================================\n",
            " input_4 (InputLayer)        [(None, None)]            0         \n",
            "                                                                 \n",
            " embedding_3 (Embedding)     (None, None, 100)         2000000   \n",
            "                                                                 \n",
            " bidirectional_3 (Bidirectio  (None, 64)               34048     \n",
            " nal)                                                            \n",
            "                                                                 \n",
            " dropout_3 (Dropout)         (None, 64)                0         \n",
            "                                                                 \n",
            " dense_3 (Dense)             (None, 1)                 65        \n",
            "                                                                 \n",
            "=================================================================\n",
            "Total params: 2,034,113\n",
            "Trainable params: 34,113\n",
            "Non-trainable params: 2,000,000\n",
            "_________________________________________________________________\n",
            "Epoch 1/10\n",
            "625/625 [==============================] - 44s 58ms/step - loss: 0.5770 - accuracy: 0.6938 - val_loss: 0.4534 - val_accuracy: 0.7920\n",
            "Epoch 2/10\n",
            "625/625 [==============================] - 32s 52ms/step - loss: 0.4634 - accuracy: 0.7865 - val_loss: 0.5180 - val_accuracy: 0.7362\n",
            "Epoch 3/10\n",
            "625/625 [==============================] - 34s 55ms/step - loss: 0.4093 - accuracy: 0.8188 - val_loss: 0.3882 - val_accuracy: 0.8208\n",
            "Epoch 4/10\n",
            "625/625 [==============================] - 34s 55ms/step - loss: 0.3756 - accuracy: 0.8375 - val_loss: 0.3410 - val_accuracy: 0.8534\n",
            "Epoch 5/10\n",
            "625/625 [==============================] - 33s 53ms/step - loss: 0.3498 - accuracy: 0.8511 - val_loss: 0.3447 - val_accuracy: 0.8546\n",
            "Epoch 6/10\n",
            "625/625 [==============================] - 35s 55ms/step - loss: 0.3255 - accuracy: 0.8643 - val_loss: 0.3130 - val_accuracy: 0.8734\n",
            "Epoch 7/10\n",
            "625/625 [==============================] - 34s 55ms/step - loss: 0.3050 - accuracy: 0.8742 - val_loss: 0.3100 - val_accuracy: 0.8698\n",
            "Epoch 8/10\n",
            "625/625 [==============================] - 33s 53ms/step - loss: 0.2860 - accuracy: 0.8831 - val_loss: 0.3285 - val_accuracy: 0.8556\n",
            "Epoch 9/10\n",
            "625/625 [==============================] - 32s 52ms/step - loss: 0.2716 - accuracy: 0.8914 - val_loss: 0.3136 - val_accuracy: 0.8748\n",
            "Epoch 10/10\n",
            "625/625 [==============================] - 34s 55ms/step - loss: 0.2574 - accuracy: 0.8959 - val_loss: 0.3070 - val_accuracy: 0.8770\n",
            "782/782 [==============================] - 33s 39ms/step - loss: 0.3160 - accuracy: 0.8723\n",
            "Test acc: 0.872\n"
          ]
        }
      ],
      "source": [
        "inputs = keras.Input(shape=(None,), dtype=\"int64\")\n",
        "embedded = embedding_layer(inputs)\n",
        "x = layers.Bidirectional(layers.LSTM(32))(embedded)\n",
        "x = layers.Dropout(0.5)(x)\n",
        "outputs = layers.Dense(1, activation=\"sigmoid\")(x)\n",
        "model = keras.Model(inputs, outputs)\n",
        "model.compile(optimizer=\"rmsprop\",\n",
        "              loss=\"binary_crossentropy\",\n",
        "              metrics=[\"accuracy\"])\n",
        "model.summary()\n",
        "\n",
        "callbacks = [\n",
        "    keras.callbacks.ModelCheckpoint(\"glove_embeddings_sequence_model.keras\",\n",
        "                                    save_best_only=True)\n",
        "]\n",
        "model.fit(int_train_ds, validation_data=int_val_ds, epochs=10, callbacks=callbacks)\n",
        "model = keras.models.load_model(\"glove_embeddings_sequence_model.keras\")\n",
        "print(f\"Test acc: {model.evaluate(int_test_ds)[1]:.3f}\")"
      ]
    }
  ],
  "metadata": {
    "accelerator": "GPU",
    "colab": {
      "provenance": [],
      "authorship_tag": "ABX9TyNIE3zlhPBe0I2aY0uI2C3v"
    },
    "gpuClass": "standard",
    "kernelspec": {
      "display_name": "Python 3",
      "name": "python3"
    },
    "language_info": {
      "name": "python"
    }
  },
  "nbformat": 4,
  "nbformat_minor": 0
}
