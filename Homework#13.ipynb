{
  "nbformat": 4,
  "nbformat_minor": 0,
  "metadata": {
    "colab": {
      "provenance": [],
      "authorship_tag": "ABX9TyMm2tsCHZT6f4Pf4mCvFlaJ"
    },
    "kernelspec": {
      "name": "python3",
      "display_name": "Python 3"
    },
    "language_info": {
      "name": "python"
    },
    "accelerator": "GPU",
    "gpuClass": "standard"
  },
  "cells": [
    {
      "cell_type": "markdown",
      "source": [
        "**Best practices for the real world**"
      ],
      "metadata": {
        "id": "cqO9b_WkcGWF"
      }
    },
    {
      "cell_type": "code",
      "execution_count": 1,
      "metadata": {
        "colab": {
          "base_uri": "https://localhost:8080/"
        },
        "id": "CDbDT2WlUJjo",
        "outputId": "96827d1d-a31f-47e7-f58d-75ded67f5746"
      },
      "outputs": [
        {
          "output_type": "stream",
          "name": "stdout",
          "text": [
            "\u001b[K     |████████████████████████████████| 135 kB 15.9 MB/s \n",
            "\u001b[K     |████████████████████████████████| 1.6 MB 65.3 MB/s \n",
            "\u001b[?25h"
          ]
        }
      ],
      "source": [
        "!pip install keras-tuner -q"
      ]
    },
    {
      "cell_type": "code",
      "source": [
        "from tensorflow import keras\n",
        "from tensorflow.keras import layers\n",
        "\n",
        "def build_model(hp):\n",
        "    units = hp.Int(name=\"units\", min_value=16, max_value=64, step=16)\n",
        "    model = keras.Sequential([\n",
        "        layers.Dense(units, activation=\"relu\"),\n",
        "        layers.Dense(10, activation=\"softmax\")\n",
        "    ])\n",
        "    optimizer = hp.Choice(name=\"optimizer\", values=[\"rmsprop\", \"adam\"])\n",
        "    model.compile(\n",
        "        optimizer=optimizer,\n",
        "        loss=\"sparse_categorical_crossentropy\",\n",
        "        metrics=[\"accuracy\"])\n",
        "    return model"
      ],
      "metadata": {
        "id": "QCgbDhI3cIUk"
      },
      "execution_count": 2,
      "outputs": []
    },
    {
      "cell_type": "code",
      "source": [
        "import kerastuner as kt\n",
        "\n",
        "class SimpleMLP(kt.HyperModel):\n",
        "    def __init__(self, num_classes):\n",
        "        self.num_classes = num_classes\n",
        "\n",
        "    def build(self, hp):\n",
        "        units = hp.Int(name=\"units\", min_value=16, max_value=64, step=16)\n",
        "        model = keras.Sequential([\n",
        "            layers.Dense(units, activation=\"relu\"),\n",
        "            layers.Dense(self.num_classes, activation=\"softmax\")\n",
        "        ])\n",
        "        optimizer = hp.Choice(name=\"optimizer\", values=[\"rmsprop\", \"adam\"])\n",
        "        model.compile(\n",
        "            optimizer=optimizer,\n",
        "            loss=\"sparse_categorical_crossentropy\",\n",
        "            metrics=[\"accuracy\"])\n",
        "        return model\n",
        "\n",
        "hypermodel = SimpleMLP(num_classes=10)"
      ],
      "metadata": {
        "colab": {
          "base_uri": "https://localhost:8080/"
        },
        "id": "lW4eAYu_cISW",
        "outputId": "eb183f23-4768-4b4f-f637-e8b9b4b8f795"
      },
      "execution_count": 3,
      "outputs": [
        {
          "output_type": "stream",
          "name": "stderr",
          "text": [
            "<ipython-input-3-643dcc05e516>:1: DeprecationWarning: `import kerastuner` is deprecated, please use `import keras_tuner`.\n",
            "  import kerastuner as kt\n"
          ]
        }
      ]
    },
    {
      "cell_type": "code",
      "source": [
        "tuner = kt.BayesianOptimization(\n",
        "    build_model,\n",
        "    objective=\"val_accuracy\",\n",
        "    max_trials=100,\n",
        "    executions_per_trial=2,\n",
        "    directory=\"mnist_kt_test\",\n",
        "    overwrite=True,\n",
        ")"
      ],
      "metadata": {
        "id": "mUOJ6ssbcIP3"
      },
      "execution_count": 4,
      "outputs": []
    },
    {
      "cell_type": "code",
      "source": [
        "tuner.search_space_summary()"
      ],
      "metadata": {
        "colab": {
          "base_uri": "https://localhost:8080/"
        },
        "id": "jy2AUrKXcINq",
        "outputId": "7bc011fe-d67a-4bff-eee4-bdf0731d9a84"
      },
      "execution_count": 5,
      "outputs": [
        {
          "output_type": "stream",
          "name": "stdout",
          "text": [
            "Search space summary\n",
            "Default search space size: 2\n",
            "units (Int)\n",
            "{'default': None, 'conditions': [], 'min_value': 16, 'max_value': 64, 'step': 16, 'sampling': None}\n",
            "optimizer (Choice)\n",
            "{'default': 'rmsprop', 'conditions': [], 'values': ['rmsprop', 'adam'], 'ordered': False}\n"
          ]
        }
      ]
    },
    {
      "cell_type": "code",
      "source": [
        "(x_train, y_train), (x_test, y_test) = keras.datasets.mnist.load_data()\n",
        "x_train = x_train.reshape((-1, 28 * 28)).astype(\"float32\") / 255\n",
        "x_test = x_test.reshape((-1, 28 * 28)).astype(\"float32\") / 255\n",
        "x_train_full = x_train[:]\n",
        "y_train_full = y_train[:]\n",
        "num_val_samples = 10000\n",
        "x_train, x_val = x_train[:-num_val_samples], x_train[-num_val_samples:]\n",
        "y_train, y_val = y_train[:-num_val_samples], y_train[-num_val_samples:]\n",
        "callbacks = [\n",
        "    keras.callbacks.EarlyStopping(monitor=\"val_loss\", patience=5),\n",
        "]\n",
        "tuner.search(\n",
        "    x_train, y_train,\n",
        "    batch_size=128,\n",
        "    epochs=100,\n",
        "    validation_data=(x_val, y_val),\n",
        "    callbacks=callbacks,\n",
        "    verbose=2,\n",
        ")"
      ],
      "metadata": {
        "colab": {
          "base_uri": "https://localhost:8080/"
        },
        "id": "WRTGDMFDcILV",
        "outputId": "f67e9554-96c0-4910-9f64-bdd8edff42dd"
      },
      "execution_count": 6,
      "outputs": [
        {
          "output_type": "stream",
          "name": "stdout",
          "text": [
            "Trial 100 Complete [00h 01m 08s]\n",
            "val_accuracy: 0.9746499955654144\n",
            "\n",
            "Best val_accuracy So Far: 0.9761500060558319\n",
            "Total elapsed time: 01h 39m 43s\n"
          ]
        }
      ]
    },
    {
      "cell_type": "code",
      "source": [
        "top_n = 4\n",
        "best_hps = tuner.get_best_hyperparameters(top_n)"
      ],
      "metadata": {
        "id": "U324DnfgcII-"
      },
      "execution_count": 7,
      "outputs": []
    },
    {
      "cell_type": "code",
      "source": [
        "def get_best_epoch(hp):\n",
        "    model = build_model(hp)\n",
        "    callbacks=[\n",
        "        keras.callbacks.EarlyStopping(\n",
        "            monitor=\"val_loss\", mode=\"min\", patience=10)\n",
        "    ]\n",
        "    history = model.fit(\n",
        "        x_train, y_train,\n",
        "        validation_data=(x_val, y_val),\n",
        "        epochs=100,\n",
        "        batch_size=128,\n",
        "        callbacks=callbacks)\n",
        "    val_loss_per_epoch = history.history[\"val_loss\"]\n",
        "    best_epoch = val_loss_per_epoch.index(min(val_loss_per_epoch)) + 1\n",
        "    print(f\"Best epoch: {best_epoch}\")\n",
        "    return best_epoch"
      ],
      "metadata": {
        "id": "r19yH8lycIGg"
      },
      "execution_count": 8,
      "outputs": []
    },
    {
      "cell_type": "code",
      "source": [
        "from tensorflow.keras.models import Model\n",
        "def get_best_trained_model(hp):\n",
        "    best_epoch = get_best_epoch(hp)\n",
        "    model = build_model(hp)\n",
        "    model.fit(\n",
        "        x_train_full, y_train_full,\n",
        "        batch_size=128, epochs=int(best_epoch * 1.2))\n",
        "    return model\n",
        "\n",
        "best_models = []\n",
        "for hp in best_hps:\n",
        "    model = get_best_trained_model(hp)\n",
        "    model.evaluate(x_test, y_test)\n",
        "    best_models.append(model)"
      ],
      "metadata": {
        "id": "ScJyPZUScID5",
        "colab": {
          "base_uri": "https://localhost:8080/"
        },
        "outputId": "e834d677-8d4a-4963-cb04-0e2ffd770150"
      },
      "execution_count": 9,
      "outputs": [
        {
          "output_type": "stream",
          "name": "stdout",
          "text": [
            "Epoch 1/100\n",
            "391/391 [==============================] - 2s 4ms/step - loss: 0.4108 - accuracy: 0.8894 - val_loss: 0.2313 - val_accuracy: 0.9355\n",
            "Epoch 2/100\n",
            "391/391 [==============================] - 1s 3ms/step - loss: 0.2160 - accuracy: 0.9370 - val_loss: 0.1793 - val_accuracy: 0.9489\n",
            "Epoch 3/100\n",
            "391/391 [==============================] - 1s 3ms/step - loss: 0.1690 - accuracy: 0.9510 - val_loss: 0.1507 - val_accuracy: 0.9580\n",
            "Epoch 4/100\n",
            "391/391 [==============================] - 1s 3ms/step - loss: 0.1401 - accuracy: 0.9599 - val_loss: 0.1378 - val_accuracy: 0.9590\n",
            "Epoch 5/100\n",
            "391/391 [==============================] - 1s 4ms/step - loss: 0.1192 - accuracy: 0.9651 - val_loss: 0.1229 - val_accuracy: 0.9650\n",
            "Epoch 6/100\n",
            "391/391 [==============================] - 1s 3ms/step - loss: 0.1052 - accuracy: 0.9692 - val_loss: 0.1150 - val_accuracy: 0.9670\n",
            "Epoch 7/100\n",
            "391/391 [==============================] - 1s 4ms/step - loss: 0.0928 - accuracy: 0.9731 - val_loss: 0.1140 - val_accuracy: 0.9680\n",
            "Epoch 8/100\n",
            "391/391 [==============================] - 1s 3ms/step - loss: 0.0833 - accuracy: 0.9759 - val_loss: 0.1106 - val_accuracy: 0.9693\n",
            "Epoch 9/100\n",
            "391/391 [==============================] - 1s 3ms/step - loss: 0.0760 - accuracy: 0.9779 - val_loss: 0.1095 - val_accuracy: 0.9690\n",
            "Epoch 10/100\n",
            "391/391 [==============================] - 1s 3ms/step - loss: 0.0685 - accuracy: 0.9801 - val_loss: 0.0964 - val_accuracy: 0.9731\n",
            "Epoch 11/100\n",
            "391/391 [==============================] - 1s 3ms/step - loss: 0.0629 - accuracy: 0.9818 - val_loss: 0.1026 - val_accuracy: 0.9721\n",
            "Epoch 12/100\n",
            "391/391 [==============================] - 1s 4ms/step - loss: 0.0579 - accuracy: 0.9831 - val_loss: 0.0979 - val_accuracy: 0.9725\n",
            "Epoch 13/100\n",
            "391/391 [==============================] - 1s 3ms/step - loss: 0.0534 - accuracy: 0.9844 - val_loss: 0.0951 - val_accuracy: 0.9723\n",
            "Epoch 14/100\n",
            "391/391 [==============================] - 1s 3ms/step - loss: 0.0494 - accuracy: 0.9859 - val_loss: 0.1013 - val_accuracy: 0.9716\n",
            "Epoch 15/100\n",
            "391/391 [==============================] - 1s 3ms/step - loss: 0.0454 - accuracy: 0.9867 - val_loss: 0.0977 - val_accuracy: 0.9735\n",
            "Epoch 16/100\n",
            "391/391 [==============================] - 1s 4ms/step - loss: 0.0428 - accuracy: 0.9881 - val_loss: 0.0979 - val_accuracy: 0.9732\n",
            "Epoch 17/100\n",
            "391/391 [==============================] - 1s 3ms/step - loss: 0.0393 - accuracy: 0.9890 - val_loss: 0.0976 - val_accuracy: 0.9735\n",
            "Epoch 18/100\n",
            "391/391 [==============================] - 1s 3ms/step - loss: 0.0364 - accuracy: 0.9899 - val_loss: 0.0971 - val_accuracy: 0.9730\n",
            "Epoch 19/100\n",
            "391/391 [==============================] - 1s 4ms/step - loss: 0.0334 - accuracy: 0.9902 - val_loss: 0.0959 - val_accuracy: 0.9729\n",
            "Epoch 20/100\n",
            "391/391 [==============================] - 1s 3ms/step - loss: 0.0307 - accuracy: 0.9915 - val_loss: 0.0975 - val_accuracy: 0.9749\n",
            "Epoch 21/100\n",
            "391/391 [==============================] - 1s 3ms/step - loss: 0.0284 - accuracy: 0.9920 - val_loss: 0.0977 - val_accuracy: 0.9743\n",
            "Epoch 22/100\n",
            "391/391 [==============================] - 1s 4ms/step - loss: 0.0268 - accuracy: 0.9927 - val_loss: 0.1015 - val_accuracy: 0.9751\n",
            "Epoch 23/100\n",
            "391/391 [==============================] - 1s 3ms/step - loss: 0.0250 - accuracy: 0.9930 - val_loss: 0.0974 - val_accuracy: 0.9741\n",
            "Best epoch: 13\n",
            "Epoch 1/15\n",
            "469/469 [==============================] - 2s 3ms/step - loss: 0.4046 - accuracy: 0.8893\n",
            "Epoch 2/15\n",
            "469/469 [==============================] - 1s 3ms/step - loss: 0.2082 - accuracy: 0.9398\n",
            "Epoch 3/15\n",
            "469/469 [==============================] - 1s 3ms/step - loss: 0.1565 - accuracy: 0.9547\n",
            "Epoch 4/15\n",
            "469/469 [==============================] - 1s 3ms/step - loss: 0.1257 - accuracy: 0.9627\n",
            "Epoch 5/15\n",
            "469/469 [==============================] - 1s 3ms/step - loss: 0.1058 - accuracy: 0.9692\n",
            "Epoch 6/15\n",
            "469/469 [==============================] - 1s 3ms/step - loss: 0.0919 - accuracy: 0.9730\n",
            "Epoch 7/15\n",
            "469/469 [==============================] - 1s 3ms/step - loss: 0.0806 - accuracy: 0.9763\n",
            "Epoch 8/15\n",
            "469/469 [==============================] - 1s 3ms/step - loss: 0.0719 - accuracy: 0.9783\n",
            "Epoch 9/15\n",
            "469/469 [==============================] - 1s 3ms/step - loss: 0.0653 - accuracy: 0.9804\n",
            "Epoch 10/15\n",
            "469/469 [==============================] - 1s 3ms/step - loss: 0.0591 - accuracy: 0.9822\n",
            "Epoch 11/15\n",
            "469/469 [==============================] - 1s 3ms/step - loss: 0.0541 - accuracy: 0.9839\n",
            "Epoch 12/15\n",
            "469/469 [==============================] - 1s 3ms/step - loss: 0.0494 - accuracy: 0.9859\n",
            "Epoch 13/15\n",
            "469/469 [==============================] - 1s 3ms/step - loss: 0.0447 - accuracy: 0.9867\n",
            "Epoch 14/15\n",
            "469/469 [==============================] - 1s 3ms/step - loss: 0.0418 - accuracy: 0.9881\n",
            "Epoch 15/15\n",
            "469/469 [==============================] - 1s 3ms/step - loss: 0.0385 - accuracy: 0.9884\n",
            "313/313 [==============================] - 1s 2ms/step - loss: 0.0936 - accuracy: 0.9717\n",
            "Epoch 1/100\n",
            "391/391 [==============================] - 2s 4ms/step - loss: 0.4307 - accuracy: 0.8855 - val_loss: 0.2439 - val_accuracy: 0.9310\n",
            "Epoch 2/100\n",
            "391/391 [==============================] - 1s 4ms/step - loss: 0.2232 - accuracy: 0.9351 - val_loss: 0.1891 - val_accuracy: 0.9459\n",
            "Epoch 3/100\n",
            "391/391 [==============================] - 1s 3ms/step - loss: 0.1736 - accuracy: 0.9497 - val_loss: 0.1567 - val_accuracy: 0.9549\n",
            "Epoch 4/100\n",
            "391/391 [==============================] - 1s 3ms/step - loss: 0.1438 - accuracy: 0.9579 - val_loss: 0.1419 - val_accuracy: 0.9594\n",
            "Epoch 5/100\n",
            "391/391 [==============================] - 1s 3ms/step - loss: 0.1226 - accuracy: 0.9642 - val_loss: 0.1285 - val_accuracy: 0.9629\n",
            "Epoch 6/100\n",
            "391/391 [==============================] - 1s 3ms/step - loss: 0.1071 - accuracy: 0.9690 - val_loss: 0.1254 - val_accuracy: 0.9632\n",
            "Epoch 7/100\n",
            "391/391 [==============================] - 1s 3ms/step - loss: 0.0946 - accuracy: 0.9726 - val_loss: 0.1136 - val_accuracy: 0.9676\n",
            "Epoch 8/100\n",
            "391/391 [==============================] - 1s 3ms/step - loss: 0.0844 - accuracy: 0.9760 - val_loss: 0.1081 - val_accuracy: 0.9699\n",
            "Epoch 9/100\n",
            "391/391 [==============================] - 1s 4ms/step - loss: 0.0756 - accuracy: 0.9782 - val_loss: 0.1150 - val_accuracy: 0.9675\n",
            "Epoch 10/100\n",
            "391/391 [==============================] - 1s 4ms/step - loss: 0.0684 - accuracy: 0.9804 - val_loss: 0.1052 - val_accuracy: 0.9696\n",
            "Epoch 11/100\n",
            "391/391 [==============================] - 1s 3ms/step - loss: 0.0620 - accuracy: 0.9823 - val_loss: 0.1045 - val_accuracy: 0.9686\n",
            "Epoch 12/100\n",
            "391/391 [==============================] - 1s 3ms/step - loss: 0.0576 - accuracy: 0.9834 - val_loss: 0.1002 - val_accuracy: 0.9718\n",
            "Epoch 13/100\n",
            "391/391 [==============================] - 1s 3ms/step - loss: 0.0521 - accuracy: 0.9854 - val_loss: 0.1016 - val_accuracy: 0.9705\n",
            "Epoch 14/100\n",
            "391/391 [==============================] - 1s 3ms/step - loss: 0.0479 - accuracy: 0.9865 - val_loss: 0.1051 - val_accuracy: 0.9709\n",
            "Epoch 15/100\n",
            "391/391 [==============================] - 1s 3ms/step - loss: 0.0448 - accuracy: 0.9871 - val_loss: 0.1011 - val_accuracy: 0.9727\n",
            "Epoch 16/100\n",
            "391/391 [==============================] - 1s 4ms/step - loss: 0.0411 - accuracy: 0.9887 - val_loss: 0.1044 - val_accuracy: 0.9723\n",
            "Epoch 17/100\n",
            "391/391 [==============================] - 1s 4ms/step - loss: 0.0382 - accuracy: 0.9896 - val_loss: 0.0998 - val_accuracy: 0.9718\n",
            "Epoch 18/100\n",
            "391/391 [==============================] - 1s 3ms/step - loss: 0.0353 - accuracy: 0.9907 - val_loss: 0.1010 - val_accuracy: 0.9729\n",
            "Epoch 19/100\n",
            "391/391 [==============================] - 1s 3ms/step - loss: 0.0332 - accuracy: 0.9910 - val_loss: 0.1013 - val_accuracy: 0.9738\n",
            "Epoch 20/100\n",
            "391/391 [==============================] - 1s 3ms/step - loss: 0.0304 - accuracy: 0.9923 - val_loss: 0.0983 - val_accuracy: 0.9728\n",
            "Epoch 21/100\n",
            "391/391 [==============================] - 1s 4ms/step - loss: 0.0278 - accuracy: 0.9929 - val_loss: 0.1014 - val_accuracy: 0.9736\n",
            "Epoch 22/100\n",
            "391/391 [==============================] - 1s 3ms/step - loss: 0.0262 - accuracy: 0.9935 - val_loss: 0.1034 - val_accuracy: 0.9718\n",
            "Epoch 23/100\n",
            "391/391 [==============================] - 1s 4ms/step - loss: 0.0245 - accuracy: 0.9938 - val_loss: 0.1026 - val_accuracy: 0.9741\n",
            "Epoch 24/100\n",
            "391/391 [==============================] - 1s 4ms/step - loss: 0.0227 - accuracy: 0.9946 - val_loss: 0.1017 - val_accuracy: 0.9734\n",
            "Epoch 25/100\n",
            "391/391 [==============================] - 1s 3ms/step - loss: 0.0208 - accuracy: 0.9947 - val_loss: 0.1106 - val_accuracy: 0.9730\n",
            "Epoch 26/100\n",
            "391/391 [==============================] - 1s 3ms/step - loss: 0.0195 - accuracy: 0.9954 - val_loss: 0.1074 - val_accuracy: 0.9726\n",
            "Epoch 27/100\n",
            "391/391 [==============================] - 1s 4ms/step - loss: 0.0180 - accuracy: 0.9959 - val_loss: 0.1075 - val_accuracy: 0.9721\n",
            "Epoch 28/100\n",
            "391/391 [==============================] - 1s 3ms/step - loss: 0.0164 - accuracy: 0.9961 - val_loss: 0.1134 - val_accuracy: 0.9719\n",
            "Epoch 29/100\n",
            "391/391 [==============================] - 1s 3ms/step - loss: 0.0157 - accuracy: 0.9960 - val_loss: 0.1090 - val_accuracy: 0.9732\n",
            "Epoch 30/100\n",
            "391/391 [==============================] - 1s 4ms/step - loss: 0.0143 - accuracy: 0.9965 - val_loss: 0.1114 - val_accuracy: 0.9741\n",
            "Best epoch: 20\n",
            "Epoch 1/24\n",
            "469/469 [==============================] - 2s 3ms/step - loss: 0.3781 - accuracy: 0.8972\n",
            "Epoch 2/24\n",
            "469/469 [==============================] - 1s 3ms/step - loss: 0.1940 - accuracy: 0.9438\n",
            "Epoch 3/24\n",
            "469/469 [==============================] - 1s 3ms/step - loss: 0.1473 - accuracy: 0.9579\n",
            "Epoch 4/24\n",
            "469/469 [==============================] - 1s 3ms/step - loss: 0.1199 - accuracy: 0.9654\n",
            "Epoch 5/24\n",
            "469/469 [==============================] - 1s 3ms/step - loss: 0.1010 - accuracy: 0.9702\n",
            "Epoch 6/24\n",
            "469/469 [==============================] - 1s 3ms/step - loss: 0.0878 - accuracy: 0.9747\n",
            "Epoch 7/24\n",
            "469/469 [==============================] - 1s 3ms/step - loss: 0.0775 - accuracy: 0.9770\n",
            "Epoch 8/24\n",
            "469/469 [==============================] - 1s 3ms/step - loss: 0.0690 - accuracy: 0.9801\n",
            "Epoch 9/24\n",
            "469/469 [==============================] - 1s 3ms/step - loss: 0.0624 - accuracy: 0.9819\n",
            "Epoch 10/24\n",
            "469/469 [==============================] - 1s 3ms/step - loss: 0.0572 - accuracy: 0.9830\n",
            "Epoch 11/24\n",
            "469/469 [==============================] - 1s 3ms/step - loss: 0.0521 - accuracy: 0.9851\n",
            "Epoch 12/24\n",
            "469/469 [==============================] - 1s 3ms/step - loss: 0.0475 - accuracy: 0.9860\n",
            "Epoch 13/24\n",
            "469/469 [==============================] - 1s 3ms/step - loss: 0.0434 - accuracy: 0.9877\n",
            "Epoch 14/24\n",
            "469/469 [==============================] - 1s 3ms/step - loss: 0.0404 - accuracy: 0.9885\n",
            "Epoch 15/24\n",
            "469/469 [==============================] - 1s 3ms/step - loss: 0.0368 - accuracy: 0.9894\n",
            "Epoch 16/24\n",
            "469/469 [==============================] - 1s 3ms/step - loss: 0.0345 - accuracy: 0.9902\n",
            "Epoch 17/24\n",
            "469/469 [==============================] - 1s 3ms/step - loss: 0.0317 - accuracy: 0.9908\n",
            "Epoch 18/24\n",
            "469/469 [==============================] - 1s 3ms/step - loss: 0.0292 - accuracy: 0.9918\n",
            "Epoch 19/24\n",
            "469/469 [==============================] - 1s 3ms/step - loss: 0.0276 - accuracy: 0.9922\n",
            "Epoch 20/24\n",
            "469/469 [==============================] - 1s 3ms/step - loss: 0.0254 - accuracy: 0.9931\n",
            "Epoch 21/24\n",
            "469/469 [==============================] - 1s 3ms/step - loss: 0.0234 - accuracy: 0.9936\n",
            "Epoch 22/24\n",
            "469/469 [==============================] - 1s 3ms/step - loss: 0.0219 - accuracy: 0.9941\n",
            "Epoch 23/24\n",
            "469/469 [==============================] - 1s 3ms/step - loss: 0.0202 - accuracy: 0.9944\n",
            "Epoch 24/24\n",
            "469/469 [==============================] - 1s 3ms/step - loss: 0.0189 - accuracy: 0.9952\n",
            "313/313 [==============================] - 1s 2ms/step - loss: 0.0900 - accuracy: 0.9760\n",
            "Epoch 1/100\n",
            "391/391 [==============================] - 2s 4ms/step - loss: 0.4167 - accuracy: 0.8879 - val_loss: 0.2293 - val_accuracy: 0.9353\n",
            "Epoch 2/100\n",
            "391/391 [==============================] - 1s 3ms/step - loss: 0.2045 - accuracy: 0.9411 - val_loss: 0.1702 - val_accuracy: 0.9529\n",
            "Epoch 3/100\n",
            "391/391 [==============================] - 1s 3ms/step - loss: 0.1573 - accuracy: 0.9534 - val_loss: 0.1476 - val_accuracy: 0.9590\n",
            "Epoch 4/100\n",
            "391/391 [==============================] - 1s 4ms/step - loss: 0.1308 - accuracy: 0.9618 - val_loss: 0.1283 - val_accuracy: 0.9627\n",
            "Epoch 5/100\n",
            "391/391 [==============================] - 1s 3ms/step - loss: 0.1119 - accuracy: 0.9670 - val_loss: 0.1166 - val_accuracy: 0.9654\n",
            "Epoch 6/100\n",
            "391/391 [==============================] - 1s 3ms/step - loss: 0.0978 - accuracy: 0.9712 - val_loss: 0.1172 - val_accuracy: 0.9659\n",
            "Epoch 7/100\n",
            "391/391 [==============================] - 1s 4ms/step - loss: 0.0868 - accuracy: 0.9745 - val_loss: 0.1053 - val_accuracy: 0.9678\n",
            "Epoch 8/100\n",
            "391/391 [==============================] - 1s 3ms/step - loss: 0.0775 - accuracy: 0.9772 - val_loss: 0.1061 - val_accuracy: 0.9688\n",
            "Epoch 9/100\n",
            "391/391 [==============================] - 1s 4ms/step - loss: 0.0703 - accuracy: 0.9791 - val_loss: 0.1046 - val_accuracy: 0.9693\n",
            "Epoch 10/100\n",
            "391/391 [==============================] - 2s 4ms/step - loss: 0.0643 - accuracy: 0.9815 - val_loss: 0.0995 - val_accuracy: 0.9708\n",
            "Epoch 11/100\n",
            "391/391 [==============================] - 2s 4ms/step - loss: 0.0592 - accuracy: 0.9831 - val_loss: 0.0953 - val_accuracy: 0.9722\n",
            "Epoch 12/100\n",
            "391/391 [==============================] - 1s 3ms/step - loss: 0.0546 - accuracy: 0.9846 - val_loss: 0.0919 - val_accuracy: 0.9727\n",
            "Epoch 13/100\n",
            "391/391 [==============================] - 1s 3ms/step - loss: 0.0500 - accuracy: 0.9858 - val_loss: 0.0913 - val_accuracy: 0.9738\n",
            "Epoch 14/100\n",
            "391/391 [==============================] - 1s 3ms/step - loss: 0.0460 - accuracy: 0.9872 - val_loss: 0.0941 - val_accuracy: 0.9719\n",
            "Epoch 15/100\n",
            "391/391 [==============================] - 1s 3ms/step - loss: 0.0427 - accuracy: 0.9880 - val_loss: 0.0955 - val_accuracy: 0.9737\n",
            "Epoch 16/100\n",
            "391/391 [==============================] - 1s 3ms/step - loss: 0.0397 - accuracy: 0.9891 - val_loss: 0.0952 - val_accuracy: 0.9732\n",
            "Epoch 17/100\n",
            "391/391 [==============================] - 1s 3ms/step - loss: 0.0363 - accuracy: 0.9902 - val_loss: 0.0939 - val_accuracy: 0.9729\n",
            "Epoch 18/100\n",
            "391/391 [==============================] - 1s 4ms/step - loss: 0.0341 - accuracy: 0.9906 - val_loss: 0.0945 - val_accuracy: 0.9732\n",
            "Epoch 19/100\n",
            "391/391 [==============================] - 1s 3ms/step - loss: 0.0311 - accuracy: 0.9913 - val_loss: 0.0987 - val_accuracy: 0.9713\n",
            "Epoch 20/100\n",
            "391/391 [==============================] - 1s 3ms/step - loss: 0.0292 - accuracy: 0.9922 - val_loss: 0.0964 - val_accuracy: 0.9735\n",
            "Epoch 21/100\n",
            "391/391 [==============================] - 1s 3ms/step - loss: 0.0270 - accuracy: 0.9925 - val_loss: 0.0955 - val_accuracy: 0.9744\n",
            "Epoch 22/100\n",
            "391/391 [==============================] - 1s 3ms/step - loss: 0.0247 - accuracy: 0.9936 - val_loss: 0.0943 - val_accuracy: 0.9745\n",
            "Epoch 23/100\n",
            "391/391 [==============================] - 1s 4ms/step - loss: 0.0231 - accuracy: 0.9938 - val_loss: 0.0937 - val_accuracy: 0.9749\n",
            "Best epoch: 13\n",
            "Epoch 1/15\n",
            "469/469 [==============================] - 2s 3ms/step - loss: 0.3833 - accuracy: 0.8964\n",
            "Epoch 2/15\n",
            "469/469 [==============================] - 1s 3ms/step - loss: 0.1951 - accuracy: 0.9450\n",
            "Epoch 3/15\n",
            "469/469 [==============================] - 1s 3ms/step - loss: 0.1494 - accuracy: 0.9568\n",
            "Epoch 4/15\n",
            "469/469 [==============================] - 1s 3ms/step - loss: 0.1221 - accuracy: 0.9646\n",
            "Epoch 5/15\n",
            "469/469 [==============================] - 1s 3ms/step - loss: 0.1033 - accuracy: 0.9701\n",
            "Epoch 6/15\n",
            "469/469 [==============================] - 1s 3ms/step - loss: 0.0895 - accuracy: 0.9739\n",
            "Epoch 7/15\n",
            "469/469 [==============================] - 1s 3ms/step - loss: 0.0787 - accuracy: 0.9774\n",
            "Epoch 8/15\n",
            "469/469 [==============================] - 1s 3ms/step - loss: 0.0699 - accuracy: 0.9799\n",
            "Epoch 9/15\n",
            "469/469 [==============================] - 1s 3ms/step - loss: 0.0636 - accuracy: 0.9817\n",
            "Epoch 10/15\n",
            "469/469 [==============================] - 1s 3ms/step - loss: 0.0576 - accuracy: 0.9836\n",
            "Epoch 11/15\n",
            "469/469 [==============================] - 1s 3ms/step - loss: 0.0528 - accuracy: 0.9851\n",
            "Epoch 12/15\n",
            "469/469 [==============================] - 1s 3ms/step - loss: 0.0476 - accuracy: 0.9868\n",
            "Epoch 13/15\n",
            "469/469 [==============================] - 1s 3ms/step - loss: 0.0441 - accuracy: 0.9875\n",
            "Epoch 14/15\n",
            "469/469 [==============================] - 1s 3ms/step - loss: 0.0405 - accuracy: 0.9888\n",
            "Epoch 15/15\n",
            "469/469 [==============================] - 1s 3ms/step - loss: 0.0374 - accuracy: 0.9892\n",
            "313/313 [==============================] - 1s 2ms/step - loss: 0.0865 - accuracy: 0.9755\n",
            "Epoch 1/100\n",
            "391/391 [==============================] - 2s 4ms/step - loss: 0.4205 - accuracy: 0.8888 - val_loss: 0.2290 - val_accuracy: 0.9364\n",
            "Epoch 2/100\n",
            "391/391 [==============================] - 1s 3ms/step - loss: 0.2137 - accuracy: 0.9393 - val_loss: 0.1790 - val_accuracy: 0.9498\n",
            "Epoch 3/100\n",
            "391/391 [==============================] - 1s 3ms/step - loss: 0.1643 - accuracy: 0.9524 - val_loss: 0.1486 - val_accuracy: 0.9579\n",
            "Epoch 4/100\n",
            "391/391 [==============================] - 1s 3ms/step - loss: 0.1326 - accuracy: 0.9621 - val_loss: 0.1337 - val_accuracy: 0.9643\n",
            "Epoch 5/100\n",
            "391/391 [==============================] - 1s 3ms/step - loss: 0.1117 - accuracy: 0.9679 - val_loss: 0.1209 - val_accuracy: 0.9668\n",
            "Epoch 6/100\n",
            "391/391 [==============================] - 1s 3ms/step - loss: 0.0961 - accuracy: 0.9722 - val_loss: 0.1108 - val_accuracy: 0.9687\n",
            "Epoch 7/100\n",
            "391/391 [==============================] - 1s 3ms/step - loss: 0.0843 - accuracy: 0.9759 - val_loss: 0.1111 - val_accuracy: 0.9686\n",
            "Epoch 8/100\n",
            "391/391 [==============================] - 1s 4ms/step - loss: 0.0755 - accuracy: 0.9784 - val_loss: 0.1036 - val_accuracy: 0.9723\n",
            "Epoch 9/100\n",
            "391/391 [==============================] - 1s 4ms/step - loss: 0.0676 - accuracy: 0.9810 - val_loss: 0.0989 - val_accuracy: 0.9738\n",
            "Epoch 10/100\n",
            "391/391 [==============================] - 1s 3ms/step - loss: 0.0619 - accuracy: 0.9826 - val_loss: 0.1046 - val_accuracy: 0.9719\n",
            "Epoch 11/100\n",
            "391/391 [==============================] - 1s 3ms/step - loss: 0.0553 - accuracy: 0.9846 - val_loss: 0.0993 - val_accuracy: 0.9732\n",
            "Epoch 12/100\n",
            "391/391 [==============================] - 1s 3ms/step - loss: 0.0508 - accuracy: 0.9856 - val_loss: 0.0963 - val_accuracy: 0.9732\n",
            "Epoch 13/100\n",
            "391/391 [==============================] - 1s 4ms/step - loss: 0.0467 - accuracy: 0.9867 - val_loss: 0.0956 - val_accuracy: 0.9737\n",
            "Epoch 14/100\n",
            "391/391 [==============================] - 1s 3ms/step - loss: 0.0431 - accuracy: 0.9879 - val_loss: 0.0956 - val_accuracy: 0.9738\n",
            "Epoch 15/100\n",
            "391/391 [==============================] - 1s 3ms/step - loss: 0.0393 - accuracy: 0.9889 - val_loss: 0.0963 - val_accuracy: 0.9764\n",
            "Epoch 16/100\n",
            "391/391 [==============================] - 1s 4ms/step - loss: 0.0366 - accuracy: 0.9897 - val_loss: 0.0980 - val_accuracy: 0.9738\n",
            "Epoch 17/100\n",
            "391/391 [==============================] - 1s 3ms/step - loss: 0.0332 - accuracy: 0.9906 - val_loss: 0.0964 - val_accuracy: 0.9742\n",
            "Epoch 18/100\n",
            "391/391 [==============================] - 1s 4ms/step - loss: 0.0309 - accuracy: 0.9917 - val_loss: 0.1052 - val_accuracy: 0.9742\n",
            "Epoch 19/100\n",
            "391/391 [==============================] - 1s 4ms/step - loss: 0.0289 - accuracy: 0.9921 - val_loss: 0.0970 - val_accuracy: 0.9753\n",
            "Epoch 20/100\n",
            "391/391 [==============================] - 1s 3ms/step - loss: 0.0256 - accuracy: 0.9929 - val_loss: 0.1008 - val_accuracy: 0.9739\n",
            "Epoch 21/100\n",
            "391/391 [==============================] - 1s 3ms/step - loss: 0.0243 - accuracy: 0.9935 - val_loss: 0.1033 - val_accuracy: 0.9752\n",
            "Epoch 22/100\n",
            "391/391 [==============================] - 1s 3ms/step - loss: 0.0223 - accuracy: 0.9945 - val_loss: 0.1066 - val_accuracy: 0.9748\n",
            "Epoch 23/100\n",
            "391/391 [==============================] - 1s 4ms/step - loss: 0.0206 - accuracy: 0.9948 - val_loss: 0.1096 - val_accuracy: 0.9747\n",
            "Best epoch: 13\n",
            "Epoch 1/15\n",
            "469/469 [==============================] - 2s 3ms/step - loss: 0.3912 - accuracy: 0.8952\n",
            "Epoch 2/15\n",
            "469/469 [==============================] - 1s 3ms/step - loss: 0.1960 - accuracy: 0.9446\n",
            "Epoch 3/15\n",
            "469/469 [==============================] - 1s 3ms/step - loss: 0.1489 - accuracy: 0.9580\n",
            "Epoch 4/15\n",
            "469/469 [==============================] - 1s 3ms/step - loss: 0.1219 - accuracy: 0.9652\n",
            "Epoch 5/15\n",
            "469/469 [==============================] - 1s 3ms/step - loss: 0.1036 - accuracy: 0.9698\n",
            "Epoch 6/15\n",
            "469/469 [==============================] - 1s 3ms/step - loss: 0.0907 - accuracy: 0.9730\n",
            "Epoch 7/15\n",
            "469/469 [==============================] - 1s 3ms/step - loss: 0.0799 - accuracy: 0.9771\n",
            "Epoch 8/15\n",
            "469/469 [==============================] - 1s 3ms/step - loss: 0.0723 - accuracy: 0.9791\n",
            "Epoch 9/15\n",
            "469/469 [==============================] - 1s 3ms/step - loss: 0.0653 - accuracy: 0.9804\n",
            "Epoch 10/15\n",
            "469/469 [==============================] - 1s 3ms/step - loss: 0.0600 - accuracy: 0.9826\n",
            "Epoch 11/15\n",
            "469/469 [==============================] - 1s 3ms/step - loss: 0.0549 - accuracy: 0.9837\n",
            "Epoch 12/15\n",
            "469/469 [==============================] - 1s 3ms/step - loss: 0.0504 - accuracy: 0.9849\n",
            "Epoch 13/15\n",
            "469/469 [==============================] - 1s 3ms/step - loss: 0.0469 - accuracy: 0.9862\n",
            "Epoch 14/15\n",
            "469/469 [==============================] - 1s 3ms/step - loss: 0.0431 - accuracy: 0.9874\n",
            "Epoch 15/15\n",
            "469/469 [==============================] - 1s 3ms/step - loss: 0.0400 - accuracy: 0.9885\n",
            "313/313 [==============================] - 1s 2ms/step - loss: 0.0878 - accuracy: 0.9750\n"
          ]
        }
      ]
    },
    {
      "cell_type": "code",
      "source": [
        "best_models = tuner.get_best_models(top_n)"
      ],
      "metadata": {
        "id": "jZZ0BNSucIBN"
      },
      "execution_count": 10,
      "outputs": []
    },
    {
      "cell_type": "code",
      "source": [
        "import tensorflow as tf\n",
        "import numpy as np\n",
        "np_array = np.zeros((2, 2))\n",
        "tf_tensor = tf.convert_to_tensor(np_array)\n",
        "tf_tensor.dtype"
      ],
      "metadata": {
        "id": "BxPjhfDTceRi",
        "colab": {
          "base_uri": "https://localhost:8080/"
        },
        "outputId": "e8549f99-dc51-4814-a679-d1251c9f1573"
      },
      "execution_count": 11,
      "outputs": [
        {
          "output_type": "execute_result",
          "data": {
            "text/plain": [
              "tf.float64"
            ]
          },
          "metadata": {},
          "execution_count": 11
        }
      ]
    },
    {
      "cell_type": "code",
      "source": [
        "np_array = np.zeros((2, 2))\n",
        "tf_tensor = tf.convert_to_tensor(np_array, dtype=\"float32\")\n",
        "tf_tensor.dtype"
      ],
      "metadata": {
        "id": "7sPyC4APcePM",
        "colab": {
          "base_uri": "https://localhost:8080/"
        },
        "outputId": "ad427169-adc7-4d0c-dc41-bf7267423e4d"
      },
      "execution_count": 12,
      "outputs": [
        {
          "output_type": "execute_result",
          "data": {
            "text/plain": [
              "tf.float32"
            ]
          },
          "metadata": {},
          "execution_count": 12
        }
      ]
    },
    {
      "cell_type": "code",
      "source": [
        "from tensorflow import keras\n",
        "keras.mixed_precision.set_global_policy(\"mixed_float16\")"
      ],
      "metadata": {
        "id": "8pZYyx_3ceMl"
      },
      "execution_count": 13,
      "outputs": []
    }
  ]
}