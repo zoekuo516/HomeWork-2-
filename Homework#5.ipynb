{
  "nbformat": 4,
  "nbformat_minor": 0,
  "metadata": {
    "colab": {
      "provenance": [],
      "authorship_tag": "ABX9TyOZf3g0JQFbcZdgYlvvlVTu"
    },
    "kernelspec": {
      "name": "python3",
      "display_name": "Python 3"
    },
    "language_info": {
      "name": "python"
    }
  },
  "cells": [
    {
      "cell_type": "markdown",
      "source": [
        "**Adding white-noise channels or all-zeros channels to MNIST**"
      ],
      "metadata": {
        "id": "u3-KgwthzKQe"
      }
    },
    {
      "cell_type": "code",
      "execution_count": 12,
      "metadata": {
        "id": "t9uUHY7Aymy6"
      },
      "outputs": [],
      "source": [
        "from tensorflow.keras.datasets import mnist\n",
        "import numpy as np\n",
        "\n",
        "(train_images, train_labels), _ = mnist.load_data()\n",
        "train_images = train_images.reshape((60000, 28 * 28))\n",
        "train_images = train_images.astype(\"float32\") / 255\n",
        "\n",
        "train_images_with_noise_channels = np.concatenate(\n",
        "    [train_images, np.random.random((len(train_images), 784))], axis=1)\n",
        "\n",
        "train_images_with_zeros_channels = np.concatenate(\n",
        "    [train_images, np.zeros((len(train_images), 784))], axis=1)"
      ]
    },
    {
      "cell_type": "markdown",
      "source": [
        "**Training the same model on MNIST data with noise channels or all-zero channels**"
      ],
      "metadata": {
        "id": "6OfEgB9hzNaF"
      }
    },
    {
      "cell_type": "code",
      "source": [
        "from tensorflow import keras\n",
        "from tensorflow.keras import layers\n",
        "\n",
        "def get_model():\n",
        "    model = keras.Sequential([\n",
        "        layers.Dense(512, activation=\"relu\"),\n",
        "        layers.Dense(10, activation=\"softmax\")\n",
        "    ])\n",
        "    model.compile(optimizer=\"rmsprop\",\n",
        "                  loss=\"sparse_categorical_crossentropy\",\n",
        "                  metrics=[\"accuracy\"])\n",
        "    return model\n",
        "\n",
        "model = get_model()\n",
        "history_noise = model.fit(\n",
        "    train_images_with_noise_channels, train_labels,\n",
        "    epochs=10,\n",
        "    batch_size=128,\n",
        "    validation_split=0.2)\n",
        "\n",
        "model = get_model()\n",
        "history_zeros = model.fit(\n",
        "    train_images_with_zeros_channels, train_labels,\n",
        "    epochs=10,\n",
        "    batch_size=128,\n",
        "    validation_split=0.2)"
      ],
      "metadata": {
        "colab": {
          "base_uri": "https://localhost:8080/"
        },
        "id": "AQD7on9lzUo7",
        "outputId": "68eb5438-4629-4e39-e84d-4b420df2cdd9"
      },
      "execution_count": 13,
      "outputs": [
        {
          "output_type": "stream",
          "name": "stdout",
          "text": [
            "Epoch 1/10\n",
            "375/375 [==============================] - 8s 19ms/step - loss: 0.6190 - accuracy: 0.8128 - val_loss: 0.3218 - val_accuracy: 0.9032\n",
            "Epoch 2/10\n",
            "375/375 [==============================] - 7s 19ms/step - loss: 0.2535 - accuracy: 0.9215 - val_loss: 0.1952 - val_accuracy: 0.9404\n",
            "Epoch 3/10\n",
            "375/375 [==============================] - 7s 19ms/step - loss: 0.1637 - accuracy: 0.9498 - val_loss: 0.1807 - val_accuracy: 0.9457\n",
            "Epoch 4/10\n",
            "375/375 [==============================] - 7s 19ms/step - loss: 0.1175 - accuracy: 0.9641 - val_loss: 0.1567 - val_accuracy: 0.9535\n",
            "Epoch 5/10\n",
            "375/375 [==============================] - 7s 19ms/step - loss: 0.0860 - accuracy: 0.9728 - val_loss: 0.1398 - val_accuracy: 0.9614\n",
            "Epoch 6/10\n",
            "375/375 [==============================] - 8s 21ms/step - loss: 0.0647 - accuracy: 0.9793 - val_loss: 0.1215 - val_accuracy: 0.9654\n",
            "Epoch 7/10\n",
            "375/375 [==============================] - 7s 20ms/step - loss: 0.0480 - accuracy: 0.9846 - val_loss: 0.1349 - val_accuracy: 0.9617\n",
            "Epoch 8/10\n",
            "375/375 [==============================] - 8s 21ms/step - loss: 0.0353 - accuracy: 0.9884 - val_loss: 0.1311 - val_accuracy: 0.9655\n",
            "Epoch 9/10\n",
            "375/375 [==============================] - 7s 19ms/step - loss: 0.0266 - accuracy: 0.9916 - val_loss: 0.1382 - val_accuracy: 0.9662\n",
            "Epoch 10/10\n",
            "375/375 [==============================] - 7s 18ms/step - loss: 0.0208 - accuracy: 0.9934 - val_loss: 0.1267 - val_accuracy: 0.9702\n",
            "Epoch 1/10\n",
            "375/375 [==============================] - 8s 19ms/step - loss: 0.2915 - accuracy: 0.9137 - val_loss: 0.1607 - val_accuracy: 0.9518\n",
            "Epoch 2/10\n",
            "375/375 [==============================] - 7s 18ms/step - loss: 0.1200 - accuracy: 0.9647 - val_loss: 0.1131 - val_accuracy: 0.9663\n",
            "Epoch 3/10\n",
            "375/375 [==============================] - 7s 19ms/step - loss: 0.0793 - accuracy: 0.9764 - val_loss: 0.0951 - val_accuracy: 0.9714\n",
            "Epoch 4/10\n",
            "375/375 [==============================] - 7s 19ms/step - loss: 0.0569 - accuracy: 0.9835 - val_loss: 0.0842 - val_accuracy: 0.9750\n",
            "Epoch 5/10\n",
            "375/375 [==============================] - 7s 19ms/step - loss: 0.0419 - accuracy: 0.9876 - val_loss: 0.0832 - val_accuracy: 0.9764\n",
            "Epoch 6/10\n",
            "375/375 [==============================] - 8s 21ms/step - loss: 0.0322 - accuracy: 0.9907 - val_loss: 0.0869 - val_accuracy: 0.9745\n",
            "Epoch 7/10\n",
            "375/375 [==============================] - 8s 21ms/step - loss: 0.0240 - accuracy: 0.9930 - val_loss: 0.0755 - val_accuracy: 0.9787\n",
            "Epoch 8/10\n",
            "375/375 [==============================] - 7s 19ms/step - loss: 0.0180 - accuracy: 0.9948 - val_loss: 0.0829 - val_accuracy: 0.9790\n",
            "Epoch 9/10\n",
            "375/375 [==============================] - 7s 19ms/step - loss: 0.0137 - accuracy: 0.9962 - val_loss: 0.0804 - val_accuracy: 0.9806\n",
            "Epoch 10/10\n",
            "375/375 [==============================] - 7s 19ms/step - loss: 0.0105 - accuracy: 0.9974 - val_loss: 0.0879 - val_accuracy: 0.9780\n"
          ]
        }
      ]
    },
    {
      "cell_type": "markdown",
      "source": [
        "**Plotting a validation accuracy comparison**"
      ],
      "metadata": {
        "id": "GRouUTKVzbnM"
      }
    },
    {
      "cell_type": "code",
      "source": [
        "import matplotlib.pyplot as plt\n",
        "val_acc_noise = history_noise.history[\"val_accuracy\"]\n",
        "val_acc_zeros = history_zeros.history[\"val_accuracy\"]\n",
        "epochs = range(1, 11)\n",
        "plt.plot(epochs, val_acc_noise, \"b-\",\n",
        "         label=\"Validation accuracy with noise channels\")\n",
        "plt.plot(epochs, val_acc_zeros, \"b--\",\n",
        "         label=\"Validation accuracy with zeros channels\")\n",
        "plt.title(\"Effect of noise channels on validation accuracy\")\n",
        "plt.xlabel(\"Epochs\")\n",
        "plt.ylabel(\"Accuracy\")\n",
        "plt.legend()"
      ],
      "metadata": {
        "colab": {
          "base_uri": "https://localhost:8080/",
          "height": 312
        },
        "id": "AENIPOVwzZY0",
        "outputId": "ddf0550d-9355-4cb6-be5d-d9d3f5bfc373"
      },
      "execution_count": 15,
      "outputs": [
        {
          "output_type": "execute_result",
          "data": {
            "text/plain": [
              "<matplotlib.legend.Legend at 0x7fb33771c150>"
            ]
          },
          "metadata": {},
          "execution_count": 15
        },
        {
          "output_type": "display_data",
          "data": {
            "text/plain": [
              "<Figure size 432x288 with 1 Axes>"
            ],
            "image/png": "[encoded data removed]"
          },
          "metadata": {
            "needs_background": "light"
          }
        }
      ]
    },
    {
      "cell_type": "markdown",
      "source": [
        "**Fitting a MNIST model with randomly shuffled labels**"
      ],
      "metadata": {
        "id": "tV-V3wMEzgHl"
      }
    },
    {
      "cell_type": "code",
      "source": [
        "(train_images, train_labels), _ = mnist.load_data()\n",
        "train_images = train_images.reshape((60000, 28 * 28))\n",
        "train_images = train_images.astype(\"float32\") / 255\n",
        "\n",
        "random_train_labels = train_labels[:]\n",
        "np.random.shuffle(random_train_labels)\n",
        "\n",
        "model = keras.Sequential([\n",
        "    layers.Dense(512, activation=\"relu\"),\n",
        "    layers.Dense(10, activation=\"softmax\")\n",
        "])\n",
        "model.compile(optimizer=\"rmsprop\",\n",
        "              loss=\"sparse_categorical_crossentropy\",\n",
        "              metrics=[\"accuracy\"])\n",
        "model.fit(train_images, random_train_labels,\n",
        "          epochs=10,\n",
        "          batch_size=128,\n",
        "          validation_split=0.2)"
      ],
      "metadata": {
        "colab": {
          "base_uri": "https://localhost:8080/"
        },
        "id": "8HOus36OzZWE",
        "outputId": "702563ee-25ee-4d5c-d16a-8447aa5c0d74"
      },
      "execution_count": 16,
      "outputs": [
        {
          "output_type": "stream",
          "name": "stdout",
          "text": [
            "Epoch 1/10\n",
            "375/375 [==============================] - 5s 12ms/step - loss: 2.3168 - accuracy: 0.1025 - val_loss: 2.3069 - val_accuracy: 0.0988\n",
            "Epoch 2/10\n",
            "375/375 [==============================] - 4s 11ms/step - loss: 2.2996 - accuracy: 0.1160 - val_loss: 2.3140 - val_accuracy: 0.0984\n",
            "Epoch 3/10\n",
            "375/375 [==============================] - 4s 11ms/step - loss: 2.2911 - accuracy: 0.1277 - val_loss: 2.3183 - val_accuracy: 0.1041\n",
            "Epoch 4/10\n",
            "375/375 [==============================] - 4s 11ms/step - loss: 2.2774 - accuracy: 0.1375 - val_loss: 2.3272 - val_accuracy: 0.0997\n",
            "Epoch 5/10\n",
            "375/375 [==============================] - 4s 11ms/step - loss: 2.2605 - accuracy: 0.1519 - val_loss: 2.3382 - val_accuracy: 0.0975\n",
            "Epoch 6/10\n",
            "375/375 [==============================] - 4s 11ms/step - loss: 2.2405 - accuracy: 0.1684 - val_loss: 2.3475 - val_accuracy: 0.1044\n",
            "Epoch 7/10\n",
            "375/375 [==============================] - 4s 11ms/step - loss: 2.2160 - accuracy: 0.1840 - val_loss: 2.3681 - val_accuracy: 0.0999\n",
            "Epoch 8/10\n",
            "375/375 [==============================] - 4s 11ms/step - loss: 2.1893 - accuracy: 0.1977 - val_loss: 2.3847 - val_accuracy: 0.0994\n",
            "Epoch 9/10\n",
            "375/375 [==============================] - 4s 11ms/step - loss: 2.1607 - accuracy: 0.2126 - val_loss: 2.4037 - val_accuracy: 0.1026\n",
            "Epoch 10/10\n",
            "375/375 [==============================] - 4s 11ms/step - loss: 2.1299 - accuracy: 0.2279 - val_loss: 2.4178 - val_accuracy: 0.1022\n"
          ]
        },
        {
          "output_type": "execute_result",
          "data": {
            "text/plain": [
              "<keras.callbacks.History at 0x7fb337730d50>"
            ]
          },
          "metadata": {},
          "execution_count": 16
        }
      ]
    },
    {
      "cell_type": "markdown",
      "source": [
        "**Training a MNIST model with an incorrectly high learning rate**"
      ],
      "metadata": {
        "id": "DFr7RYcYzkDF"
      }
    },
    {
      "cell_type": "code",
      "source": [
        "(train_images, train_labels), _ = mnist.load_data()\n",
        "train_images = train_images.reshape((60000, 28 * 28))\n",
        "train_images = train_images.astype(\"float32\") / 255\n",
        "\n",
        "model = keras.Sequential([\n",
        "    layers.Dense(512, activation=\"relu\"),\n",
        "    layers.Dense(10, activation=\"softmax\")\n",
        "])\n",
        "model.compile(optimizer=keras.optimizers.RMSprop(1.),\n",
        "              loss=\"sparse_categorical_crossentropy\",\n",
        "              metrics=[\"accuracy\"])\n",
        "model.fit(train_images, train_labels,\n",
        "          epochs=10,\n",
        "          batch_size=128,\n",
        "          validation_split=0.2)"
      ],
      "metadata": {
        "colab": {
          "base_uri": "https://localhost:8080/"
        },
        "id": "Kb4K-6NqzZTs",
        "outputId": "b8e9b19e-1aea-456b-9860-acee6e4307ff"
      },
      "execution_count": 17,
      "outputs": [
        {
          "output_type": "stream",
          "name": "stdout",
          "text": [
            "Epoch 1/10\n",
            "375/375 [==============================] - 5s 12ms/step - loss: 1116.4281 - accuracy: 0.3786 - val_loss: 4.1036 - val_accuracy: 0.2797\n",
            "Epoch 2/10\n",
            "375/375 [==============================] - 4s 11ms/step - loss: 5.1558 - accuracy: 0.2420 - val_loss: 3.7984 - val_accuracy: 0.2769\n",
            "Epoch 3/10\n",
            "375/375 [==============================] - 4s 11ms/step - loss: 2.8353 - accuracy: 0.2471 - val_loss: 2.0602 - val_accuracy: 0.2363\n",
            "Epoch 4/10\n",
            "375/375 [==============================] - 4s 11ms/step - loss: 2.9830 - accuracy: 0.2366 - val_loss: 2.0982 - val_accuracy: 0.2582\n",
            "Epoch 5/10\n",
            "375/375 [==============================] - 4s 11ms/step - loss: 2.5754 - accuracy: 0.2296 - val_loss: 2.3126 - val_accuracy: 0.2147\n",
            "Epoch 6/10\n",
            "375/375 [==============================] - 4s 11ms/step - loss: 2.6297 - accuracy: 0.2476 - val_loss: 2.9663 - val_accuracy: 0.2817\n",
            "Epoch 7/10\n",
            "375/375 [==============================] - 4s 12ms/step - loss: 2.9042 - accuracy: 0.2637 - val_loss: 2.0818 - val_accuracy: 0.2342\n",
            "Epoch 8/10\n",
            "375/375 [==============================] - 4s 12ms/step - loss: 2.2560 - accuracy: 0.2394 - val_loss: 3.5239 - val_accuracy: 0.3166\n",
            "Epoch 9/10\n",
            "375/375 [==============================] - 4s 12ms/step - loss: 2.9248 - accuracy: 0.2770 - val_loss: 3.2206 - val_accuracy: 0.3638\n",
            "Epoch 10/10\n",
            "375/375 [==============================] - 4s 12ms/step - loss: 2.5059 - accuracy: 0.2651 - val_loss: 1.9846 - val_accuracy: 0.2399\n"
          ]
        },
        {
          "output_type": "execute_result",
          "data": {
            "text/plain": [
              "<keras.callbacks.History at 0x7fb3374fb750>"
            ]
          },
          "metadata": {},
          "execution_count": 17
        }
      ]
    },
    {
      "cell_type": "markdown",
      "source": [
        "**The same model with a more appropriate learning rate**"
      ],
      "metadata": {
        "id": "nDxpUnf2znml"
      }
    },
    {
      "cell_type": "code",
      "source": [
        "model = keras.Sequential([\n",
        "    layers.Dense(512, activation=\"relu\"),\n",
        "    layers.Dense(10, activation=\"softmax\")\n",
        "])\n",
        "model.compile(optimizer=keras.optimizers.RMSprop(1e-2),\n",
        "              loss=\"sparse_categorical_crossentropy\",\n",
        "              metrics=[\"accuracy\"])\n",
        "model.fit(train_images, train_labels,\n",
        "          epochs=10,\n",
        "          batch_size=128,\n",
        "          validation_split=0.2)"
      ],
      "metadata": {
        "colab": {
          "base_uri": "https://localhost:8080/"
        },
        "id": "qiVeOCEDzZRE",
        "outputId": "7397a7e6-5199-4fde-b8b3-f564d1303731"
      },
      "execution_count": 18,
      "outputs": [
        {
          "output_type": "stream",
          "name": "stdout",
          "text": [
            "Epoch 1/10\n",
            "375/375 [==============================] - 5s 12ms/step - loss: 0.3393 - accuracy: 0.9129 - val_loss: 0.1660 - val_accuracy: 0.9523\n",
            "Epoch 2/10\n",
            "375/375 [==============================] - 4s 12ms/step - loss: 0.1438 - accuracy: 0.9632 - val_loss: 0.1430 - val_accuracy: 0.9642\n",
            "Epoch 3/10\n",
            "375/375 [==============================] - 4s 12ms/step - loss: 0.1158 - accuracy: 0.9733 - val_loss: 0.1758 - val_accuracy: 0.9671\n",
            "Epoch 4/10\n",
            "375/375 [==============================] - 5s 14ms/step - loss: 0.0979 - accuracy: 0.9782 - val_loss: 0.1840 - val_accuracy: 0.9700\n",
            "Epoch 5/10\n",
            "375/375 [==============================] - 4s 12ms/step - loss: 0.0880 - accuracy: 0.9817 - val_loss: 0.1824 - val_accuracy: 0.9723\n",
            "Epoch 6/10\n",
            "375/375 [==============================] - 4s 12ms/step - loss: 0.0784 - accuracy: 0.9843 - val_loss: 0.2450 - val_accuracy: 0.9716\n",
            "Epoch 7/10\n",
            "375/375 [==============================] - 4s 12ms/step - loss: 0.0761 - accuracy: 0.9853 - val_loss: 0.2314 - val_accuracy: 0.9726\n",
            "Epoch 8/10\n",
            "375/375 [==============================] - 5s 12ms/step - loss: 0.0694 - accuracy: 0.9876 - val_loss: 0.2732 - val_accuracy: 0.9717\n",
            "Epoch 9/10\n",
            "375/375 [==============================] - 4s 12ms/step - loss: 0.0628 - accuracy: 0.9891 - val_loss: 0.2616 - val_accuracy: 0.9727\n",
            "Epoch 10/10\n",
            "375/375 [==============================] - 4s 12ms/step - loss: 0.0535 - accuracy: 0.9902 - val_loss: 0.2937 - val_accuracy: 0.9719\n"
          ]
        },
        {
          "output_type": "execute_result",
          "data": {
            "text/plain": [
              "<keras.callbacks.History at 0x7fb337377c90>"
            ]
          },
          "metadata": {},
          "execution_count": 18
        }
      ]
    },
    {
      "cell_type": "markdown",
      "source": [
        "**A simple logistic regression on MNIST**"
      ],
      "metadata": {
        "id": "FOmk3yDSzqWU"
      }
    },
    {
      "cell_type": "code",
      "source": [
        "model = keras.Sequential([layers.Dense(10, activation=\"softmax\")])\n",
        "model.compile(optimizer=\"rmsprop\",\n",
        "              loss=\"sparse_categorical_crossentropy\",\n",
        "              metrics=[\"accuracy\"])\n",
        "history_small_model = model.fit(\n",
        "    train_images, train_labels,\n",
        "    epochs=20,\n",
        "    batch_size=128,\n",
        "    validation_split=0.2)"
      ],
      "metadata": {
        "colab": {
          "base_uri": "https://localhost:8080/"
        },
        "id": "kHJ5CGm9zXcF",
        "outputId": "3ad6c723-695e-4101-c3a0-c4436c072de4"
      },
      "execution_count": 23,
      "outputs": [
        {
          "output_type": "stream",
          "name": "stdout",
          "text": [
            "Epoch 1/20\n",
            "375/375 [==============================] - 2s 3ms/step - loss: 0.6722 - accuracy: 0.8344 - val_loss: 0.3595 - val_accuracy: 0.9037\n",
            "Epoch 2/20\n",
            "375/375 [==============================] - 1s 3ms/step - loss: 0.3505 - accuracy: 0.9039 - val_loss: 0.3088 - val_accuracy: 0.9147\n",
            "Epoch 3/20\n",
            "375/375 [==============================] - 1s 3ms/step - loss: 0.3152 - accuracy: 0.9127 - val_loss: 0.2906 - val_accuracy: 0.9183\n",
            "Epoch 4/20\n",
            "375/375 [==============================] - 1s 4ms/step - loss: 0.2995 - accuracy: 0.9169 - val_loss: 0.2813 - val_accuracy: 0.9218\n",
            "Epoch 5/20\n",
            "375/375 [==============================] - 2s 5ms/step - loss: 0.2894 - accuracy: 0.9196 - val_loss: 0.2763 - val_accuracy: 0.9237\n",
            "Epoch 6/20\n",
            "375/375 [==============================] - 1s 3ms/step - loss: 0.2829 - accuracy: 0.9213 - val_loss: 0.2727 - val_accuracy: 0.9239\n",
            "Epoch 7/20\n",
            "375/375 [==============================] - 1s 3ms/step - loss: 0.2783 - accuracy: 0.9226 - val_loss: 0.2708 - val_accuracy: 0.9249\n",
            "Epoch 8/20\n",
            "375/375 [==============================] - 1s 3ms/step - loss: 0.2742 - accuracy: 0.9240 - val_loss: 0.2688 - val_accuracy: 0.9249\n",
            "Epoch 9/20\n",
            "375/375 [==============================] - 1s 3ms/step - loss: 0.2712 - accuracy: 0.9248 - val_loss: 0.2663 - val_accuracy: 0.9267\n",
            "Epoch 10/20\n",
            "375/375 [==============================] - 1s 3ms/step - loss: 0.2686 - accuracy: 0.9255 - val_loss: 0.2657 - val_accuracy: 0.9270\n",
            "Epoch 11/20\n",
            "375/375 [==============================] - 1s 3ms/step - loss: 0.2668 - accuracy: 0.9259 - val_loss: 0.2650 - val_accuracy: 0.9280\n",
            "Epoch 12/20\n",
            "375/375 [==============================] - 1s 3ms/step - loss: 0.2647 - accuracy: 0.9270 - val_loss: 0.2629 - val_accuracy: 0.9296\n",
            "Epoch 13/20\n",
            "375/375 [==============================] - 1s 3ms/step - loss: 0.2633 - accuracy: 0.9277 - val_loss: 0.2637 - val_accuracy: 0.9283\n",
            "Epoch 14/20\n",
            "375/375 [==============================] - 1s 3ms/step - loss: 0.2614 - accuracy: 0.9285 - val_loss: 0.2633 - val_accuracy: 0.9297\n",
            "Epoch 15/20\n",
            "375/375 [==============================] - 1s 3ms/step - loss: 0.2603 - accuracy: 0.9280 - val_loss: 0.2608 - val_accuracy: 0.9309\n",
            "Epoch 16/20\n",
            "375/375 [==============================] - 1s 3ms/step - loss: 0.2594 - accuracy: 0.9291 - val_loss: 0.2624 - val_accuracy: 0.9290\n",
            "Epoch 17/20\n",
            "375/375 [==============================] - 1s 3ms/step - loss: 0.2582 - accuracy: 0.9289 - val_loss: 0.2603 - val_accuracy: 0.9315\n",
            "Epoch 18/20\n",
            "375/375 [==============================] - 1s 3ms/step - loss: 0.2574 - accuracy: 0.9293 - val_loss: 0.2613 - val_accuracy: 0.9299\n",
            "Epoch 19/20\n",
            "375/375 [==============================] - 1s 3ms/step - loss: 0.2565 - accuracy: 0.9298 - val_loss: 0.2597 - val_accuracy: 0.9314\n",
            "Epoch 20/20\n",
            "375/375 [==============================] - 1s 3ms/step - loss: 0.2556 - accuracy: 0.9301 - val_loss: 0.2614 - val_accuracy: 0.9306\n"
          ]
        }
      ]
    },
    {
      "cell_type": "code",
      "source": [
        "import matplotlib.pyplot as plt\n",
        "val_loss = history_small_model.history[\"val_loss\"]\n",
        "epochs = range(1, 21)\n",
        "plt.plot(epochs, val_loss, \"b--\",\n",
        "         label=\"Validation loss\")\n",
        "plt.title(\"Effect of insufficient model capacity on validation loss\")\n",
        "plt.xlabel(\"Epochs\")\n",
        "plt.ylabel(\"Loss\")\n",
        "plt.legend()"
      ],
      "metadata": {
        "colab": {
          "base_uri": "https://localhost:8080/",
          "height": 312
        },
        "id": "5PYwS3n7zst1",
        "outputId": "79dc29eb-41f3-4c3c-8491-f91a8e67cb62"
      },
      "execution_count": 24,
      "outputs": [
        {
          "output_type": "execute_result",
          "data": {
            "text/plain": [
              "<matplotlib.legend.Legend at 0x7fb331f1b0d0>"
            ]
          },
          "metadata": {},
          "execution_count": 24
        },
        {
          "output_type": "display_data",
          "data": {
            "text/plain": [
              "<Figure size 432x288 with 1 Axes>"
            ],
            "image/png": "[encoded data removed]"
          },
          "metadata": {
            "needs_background": "light"
          }
        }
      ]
    },
    {
      "cell_type": "code",
      "source": [
        "model = keras.Sequential([\n",
        "    layers.Dense(96, activation=\"relu\"),\n",
        "    layers.Dense(96, activation=\"relu\"),\n",
        "    layers.Dense(10, activation=\"softmax\"),\n",
        "])\n",
        "model.compile(optimizer=\"rmsprop\",\n",
        "              loss=\"sparse_categorical_crossentropy\",\n",
        "              metrics=[\"accuracy\"])\n",
        "history_large_model = model.fit(\n",
        "    train_images, train_labels,\n",
        "    epochs=10,\n",
        "    batch_size=128,\n",
        "    validation_split=0.2)"
      ],
      "metadata": {
        "colab": {
          "base_uri": "https://localhost:8080/"
        },
        "id": "7KwtYJO8zvWF",
        "outputId": "4c5b06ff-020f-4d86-8161-65494931e9b6"
      },
      "execution_count": 25,
      "outputs": [
        {
          "output_type": "stream",
          "name": "stdout",
          "text": [
            "Epoch 1/10\n",
            "375/375 [==============================] - 3s 6ms/step - loss: 0.3638 - accuracy: 0.8989 - val_loss: 0.1863 - val_accuracy: 0.9475\n",
            "Epoch 2/10\n",
            "375/375 [==============================] - 2s 5ms/step - loss: 0.1632 - accuracy: 0.9520 - val_loss: 0.1494 - val_accuracy: 0.9568\n",
            "Epoch 3/10\n",
            "375/375 [==============================] - 2s 6ms/step - loss: 0.1155 - accuracy: 0.9656 - val_loss: 0.1271 - val_accuracy: 0.9619\n",
            "Epoch 4/10\n",
            "375/375 [==============================] - 2s 5ms/step - loss: 0.0887 - accuracy: 0.9736 - val_loss: 0.1174 - val_accuracy: 0.9666\n",
            "Epoch 5/10\n",
            "375/375 [==============================] - 2s 5ms/step - loss: 0.0699 - accuracy: 0.9786 - val_loss: 0.1065 - val_accuracy: 0.9702\n",
            "Epoch 6/10\n",
            "375/375 [==============================] - 2s 5ms/step - loss: 0.0570 - accuracy: 0.9822 - val_loss: 0.0949 - val_accuracy: 0.9732\n",
            "Epoch 7/10\n",
            "375/375 [==============================] - 2s 6ms/step - loss: 0.0474 - accuracy: 0.9846 - val_loss: 0.0954 - val_accuracy: 0.9732\n",
            "Epoch 8/10\n",
            "375/375 [==============================] - 2s 6ms/step - loss: 0.0408 - accuracy: 0.9872 - val_loss: 0.0990 - val_accuracy: 0.9722\n",
            "Epoch 9/10\n",
            "375/375 [==============================] - 2s 5ms/step - loss: 0.0336 - accuracy: 0.9895 - val_loss: 0.0898 - val_accuracy: 0.9762\n",
            "Epoch 10/10\n",
            "375/375 [==============================] - 2s 6ms/step - loss: 0.0281 - accuracy: 0.9917 - val_loss: 0.1074 - val_accuracy: 0.9718\n"
          ]
        }
      ]
    },
    {
      "cell_type": "markdown",
      "source": [
        "**Original model**"
      ],
      "metadata": {
        "id": "SravVYzJzxd9"
      }
    },
    {
      "cell_type": "code",
      "source": [
        "from tensorflow.keras.datasets import imdb\n",
        "(train_data, train_labels), _ = imdb.load_data(num_words=10000)\n",
        "\n",
        "def vectorize_sequences(sequences, dimension=10000):\n",
        "    results = np.zeros((len(sequences), dimension))\n",
        "    for i, sequence in enumerate(sequences):\n",
        "        results[i, sequence] = 1.\n",
        "    return results\n",
        "train_data = vectorize_sequences(train_data)\n",
        "\n",
        "model = keras.Sequential([\n",
        "    layers.Dense(16, activation=\"relu\"),\n",
        "    layers.Dense(16, activation=\"relu\"),\n",
        "    layers.Dense(1, activation=\"sigmoid\")\n",
        "])\n",
        "model.compile(optimizer=\"rmsprop\",\n",
        "              loss=\"binary_crossentropy\",\n",
        "              metrics=[\"accuracy\"])\n",
        "history_original = model.fit(train_data, train_labels,\n",
        "                             epochs=10, batch_size=512, validation_split=0.4)"
      ],
      "metadata": {
        "colab": {
          "base_uri": "https://localhost:8080/"
        },
        "id": "Id5kIVszzXZN",
        "outputId": "02667932-0be9-4026-cd4a-dd607916a2b1"
      },
      "execution_count": 26,
      "outputs": [
        {
          "output_type": "stream",
          "name": "stdout",
          "text": [
            "Downloading data from https://storage.googleapis.com/tensorflow/tf-keras-datasets/imdb.npz\n",
            "17464789/17464789 [==============================] - 0s 0us/step\n",
            "Epoch 1/10\n",
            "30/30 [==============================] - 2s 49ms/step - loss: 0.5101 - accuracy: 0.7883 - val_loss: 0.3761 - val_accuracy: 0.8734\n",
            "Epoch 2/10\n",
            "30/30 [==============================] - 1s 34ms/step - loss: 0.3019 - accuracy: 0.9015 - val_loss: 0.3023 - val_accuracy: 0.8881\n",
            "Epoch 3/10\n",
            "30/30 [==============================] - 1s 34ms/step - loss: 0.2247 - accuracy: 0.9275 - val_loss: 0.2757 - val_accuracy: 0.8949\n",
            "Epoch 4/10\n",
            "30/30 [==============================] - 1s 37ms/step - loss: 0.1774 - accuracy: 0.9433 - val_loss: 0.2720 - val_accuracy: 0.8942\n",
            "Epoch 5/10\n",
            "30/30 [==============================] - 1s 34ms/step - loss: 0.1434 - accuracy: 0.9554 - val_loss: 0.2789 - val_accuracy: 0.8903\n",
            "Epoch 6/10\n",
            "30/30 [==============================] - 1s 35ms/step - loss: 0.1176 - accuracy: 0.9641 - val_loss: 0.3304 - val_accuracy: 0.8758\n",
            "Epoch 7/10\n",
            "30/30 [==============================] - 1s 37ms/step - loss: 0.0958 - accuracy: 0.9735 - val_loss: 0.3072 - val_accuracy: 0.8859\n",
            "Epoch 8/10\n",
            "30/30 [==============================] - 1s 35ms/step - loss: 0.0828 - accuracy: 0.9777 - val_loss: 0.3578 - val_accuracy: 0.8731\n",
            "Epoch 9/10\n",
            "30/30 [==============================] - 1s 35ms/step - loss: 0.0690 - accuracy: 0.9826 - val_loss: 0.3536 - val_accuracy: 0.8793\n",
            "Epoch 10/10\n",
            "30/30 [==============================] - 1s 34ms/step - loss: 0.0575 - accuracy: 0.9851 - val_loss: 0.4074 - val_accuracy: 0.8708\n"
          ]
        }
      ]
    },
    {
      "cell_type": "markdown",
      "source": [
        "**Version of the model with lower capacity**"
      ],
      "metadata": {
        "id": "OJ-nf_aZz3BU"
      }
    },
    {
      "cell_type": "code",
      "source": [
        "model = keras.Sequential([\n",
        "    layers.Dense(4, activation=\"relu\"),\n",
        "    layers.Dense(4, activation=\"relu\"),\n",
        "    layers.Dense(1, activation=\"sigmoid\")\n",
        "])\n",
        "model.compile(optimizer=\"rmsprop\",\n",
        "              loss=\"binary_crossentropy\",\n",
        "              metrics=[\"accuracy\"])\n",
        "history_smaller_model = model.fit(\n",
        "    train_data, train_labels,\n",
        "    epochs=10, batch_size=512, validation_split=0.4)"
      ],
      "metadata": {
        "colab": {
          "base_uri": "https://localhost:8080/"
        },
        "id": "MwN5NICmz1bl",
        "outputId": "b5e1f25b-ecd5-470a-ea24-d9f44723018c"
      },
      "execution_count": 27,
      "outputs": [
        {
          "output_type": "stream",
          "name": "stdout",
          "text": [
            "Epoch 1/10\n",
            "30/30 [==============================] - 2s 38ms/step - loss: 0.6211 - accuracy: 0.7743 - val_loss: 0.5529 - val_accuracy: 0.8430\n",
            "Epoch 2/10\n",
            "30/30 [==============================] - 1s 29ms/step - loss: 0.4928 - accuracy: 0.8685 - val_loss: 0.4563 - val_accuracy: 0.8599\n",
            "Epoch 3/10\n",
            "30/30 [==============================] - 1s 31ms/step - loss: 0.3986 - accuracy: 0.8877 - val_loss: 0.3877 - val_accuracy: 0.8716\n",
            "Epoch 4/10\n",
            "30/30 [==============================] - 1s 33ms/step - loss: 0.3294 - accuracy: 0.9030 - val_loss: 0.3468 - val_accuracy: 0.8740\n",
            "Epoch 5/10\n",
            "30/30 [==============================] - 1s 28ms/step - loss: 0.2792 - accuracy: 0.9137 - val_loss: 0.3127 - val_accuracy: 0.8832\n",
            "Epoch 6/10\n",
            "30/30 [==============================] - 1s 30ms/step - loss: 0.2418 - accuracy: 0.9238 - val_loss: 0.2924 - val_accuracy: 0.8865\n",
            "Epoch 7/10\n",
            "30/30 [==============================] - 1s 29ms/step - loss: 0.2122 - accuracy: 0.9321 - val_loss: 0.2801 - val_accuracy: 0.8897\n",
            "Epoch 8/10\n",
            "30/30 [==============================] - 1s 29ms/step - loss: 0.1879 - accuracy: 0.9405 - val_loss: 0.2732 - val_accuracy: 0.8910\n",
            "Epoch 9/10\n",
            "30/30 [==============================] - 1s 33ms/step - loss: 0.1674 - accuracy: 0.9473 - val_loss: 0.2714 - val_accuracy: 0.8916\n",
            "Epoch 10/10\n",
            "30/30 [==============================] - 1s 29ms/step - loss: 0.1503 - accuracy: 0.9547 - val_loss: 0.2773 - val_accuracy: 0.8903\n"
          ]
        }
      ]
    },
    {
      "cell_type": "markdown",
      "source": [
        "**Version of the model with higher capacity**"
      ],
      "metadata": {
        "id": "h-KcRbKJz4aE"
      }
    },
    {
      "cell_type": "code",
      "source": [
        "model = keras.Sequential([\n",
        "    layers.Dense(512, activation=\"relu\"),\n",
        "    layers.Dense(512, activation=\"relu\"),\n",
        "    layers.Dense(1, activation=\"sigmoid\")\n",
        "])\n",
        "model.compile(optimizer=\"rmsprop\",\n",
        "              loss=\"binary_crossentropy\",\n",
        "              metrics=[\"accuracy\"])\n",
        "history_larger_model = model.fit(\n",
        "    train_data, train_labels,\n",
        "    epochs=10, batch_size=512, validation_split=0.4)"
      ],
      "metadata": {
        "colab": {
          "base_uri": "https://localhost:8080/"
        },
        "id": "_NKgJ-nozXR9",
        "outputId": "b3624d99-37e4-47c6-b0a2-300bb8de9b5b"
      },
      "execution_count": 28,
      "outputs": [
        {
          "output_type": "stream",
          "name": "stdout",
          "text": [
            "Epoch 1/10\n",
            "30/30 [==============================] - 9s 296ms/step - loss: 0.5695 - accuracy: 0.7873 - val_loss: 0.3012 - val_accuracy: 0.8768\n",
            "Epoch 2/10\n",
            "30/30 [==============================] - 8s 284ms/step - loss: 0.2611 - accuracy: 0.8965 - val_loss: 0.2684 - val_accuracy: 0.8893\n",
            "Epoch 3/10\n",
            "30/30 [==============================] - 8s 283ms/step - loss: 0.1414 - accuracy: 0.9450 - val_loss: 0.3683 - val_accuracy: 0.8697\n",
            "Epoch 4/10\n",
            "30/30 [==============================] - 8s 283ms/step - loss: 0.0844 - accuracy: 0.9718 - val_loss: 0.5126 - val_accuracy: 0.8590\n",
            "Epoch 5/10\n",
            "30/30 [==============================] - 9s 286ms/step - loss: 0.1374 - accuracy: 0.9735 - val_loss: 0.2930 - val_accuracy: 0.8846\n",
            "Epoch 6/10\n",
            "30/30 [==============================] - 8s 284ms/step - loss: 0.0083 - accuracy: 0.9999 - val_loss: 0.4978 - val_accuracy: 0.8881\n",
            "Epoch 7/10\n",
            "30/30 [==============================] - 8s 285ms/step - loss: 9.3977e-04 - accuracy: 0.9998 - val_loss: 0.6109 - val_accuracy: 0.8876\n",
            "Epoch 8/10\n",
            "30/30 [==============================] - 8s 284ms/step - loss: 1.4163e-04 - accuracy: 1.0000 - val_loss: 0.7174 - val_accuracy: 0.8868\n",
            "Epoch 9/10\n",
            "30/30 [==============================] - 9s 286ms/step - loss: 0.2341 - accuracy: 0.9823 - val_loss: 0.6058 - val_accuracy: 0.8851\n",
            "Epoch 10/10\n",
            "30/30 [==============================] - 10s 326ms/step - loss: 5.7754e-04 - accuracy: 0.9999 - val_loss: 0.6538 - val_accuracy: 0.8844\n"
          ]
        }
      ]
    },
    {
      "cell_type": "markdown",
      "source": [
        "**Adding L2 weight regularization to the model**"
      ],
      "metadata": {
        "id": "HvyrXYE2z8MV"
      }
    },
    {
      "cell_type": "code",
      "source": [
        "from tensorflow.keras import regularizers\n",
        "model = keras.Sequential([\n",
        "    layers.Dense(16,\n",
        "                 kernel_regularizer=regularizers.l2(0.002),\n",
        "                 activation=\"relu\"),\n",
        "    layers.Dense(16,\n",
        "                 kernel_regularizer=regularizers.l2(0.002),\n",
        "                 activation=\"relu\"),\n",
        "    layers.Dense(1, activation=\"sigmoid\")\n",
        "])\n",
        "model.compile(optimizer=\"rmsprop\",\n",
        "              loss=\"binary_crossentropy\",\n",
        "              metrics=[\"accuracy\"])\n",
        "history_l2_reg = model.fit(\n",
        "    train_data, train_labels,\n",
        "    epochs=10, batch_size=512, validation_split=0.4)"
      ],
      "metadata": {
        "colab": {
          "base_uri": "https://localhost:8080/"
        },
        "id": "0R54xmqQz9ms",
        "outputId": "75de1b71-2a65-46af-ad39-e18ca83b30dc"
      },
      "execution_count": 29,
      "outputs": [
        {
          "output_type": "stream",
          "name": "stdout",
          "text": [
            "Epoch 1/10\n",
            "30/30 [==============================] - 2s 44ms/step - loss: 0.5755 - accuracy: 0.7881 - val_loss: 0.4414 - val_accuracy: 0.8729\n",
            "Epoch 2/10\n",
            "30/30 [==============================] - 1s 33ms/step - loss: 0.3823 - accuracy: 0.8975 - val_loss: 0.3921 - val_accuracy: 0.8754\n",
            "Epoch 3/10\n",
            "30/30 [==============================] - 1s 31ms/step - loss: 0.3198 - accuracy: 0.9198 - val_loss: 0.4171 - val_accuracy: 0.8568\n",
            "Epoch 4/10\n",
            "30/30 [==============================] - 1s 32ms/step - loss: 0.2897 - accuracy: 0.9274 - val_loss: 0.3597 - val_accuracy: 0.8883\n",
            "Epoch 5/10\n",
            "30/30 [==============================] - 1s 32ms/step - loss: 0.2734 - accuracy: 0.9323 - val_loss: 0.3612 - val_accuracy: 0.8889\n",
            "Epoch 6/10\n",
            "30/30 [==============================] - 1s 32ms/step - loss: 0.2596 - accuracy: 0.9399 - val_loss: 0.3652 - val_accuracy: 0.8856\n",
            "Epoch 7/10\n",
            "30/30 [==============================] - 1s 32ms/step - loss: 0.2496 - accuracy: 0.9405 - val_loss: 0.3779 - val_accuracy: 0.8804\n",
            "Epoch 8/10\n",
            "30/30 [==============================] - 1s 31ms/step - loss: 0.2417 - accuracy: 0.9455 - val_loss: 0.3760 - val_accuracy: 0.8825\n",
            "Epoch 9/10\n",
            "30/30 [==============================] - 1s 32ms/step - loss: 0.2373 - accuracy: 0.9492 - val_loss: 0.3799 - val_accuracy: 0.8817\n",
            "Epoch 10/10\n",
            "30/30 [==============================] - 1s 32ms/step - loss: 0.2331 - accuracy: 0.9479 - val_loss: 0.3900 - val_accuracy: 0.8793\n"
          ]
        }
      ]
    },
    {
      "cell_type": "markdown",
      "source": [
        "**Different weight regularizers available in Keras**"
      ],
      "metadata": {
        "id": "j_X0gJmCz_Lc"
      }
    },
    {
      "cell_type": "code",
      "source": [
        "from tensorflow.keras import regularizers\n",
        "regularizers.l1(0.001)\n",
        "regularizers.l1_l2(l1=0.001, l2=0.001)"
      ],
      "metadata": {
        "colab": {
          "base_uri": "https://localhost:8080/"
        },
        "id": "jrYu4XpNzXPc",
        "outputId": "56caca32-4634-4024-fd4c-ad0a8af074bd"
      },
      "execution_count": 30,
      "outputs": [
        {
          "output_type": "execute_result",
          "data": {
            "text/plain": [
              "<keras.regularizers.L1L2 at 0x7fb33f778a90>"
            ]
          },
          "metadata": {},
          "execution_count": 30
        }
      ]
    },
    {
      "cell_type": "markdown",
      "source": [
        "**Adding dropout to the IMDB model**"
      ],
      "metadata": {
        "id": "odJj7fcs0CME"
      }
    },
    {
      "cell_type": "code",
      "source": [
        "model = keras.Sequential([\n",
        "    layers.Dense(16, activation=\"relu\"),\n",
        "    layers.Dropout(0.5),\n",
        "    layers.Dense(16, activation=\"relu\"),\n",
        "    layers.Dropout(0.5),\n",
        "    layers.Dense(1, activation=\"sigmoid\")\n",
        "])\n",
        "model.compile(optimizer=\"rmsprop\",\n",
        "              loss=\"binary_crossentropy\",\n",
        "              metrics=[\"accuracy\"])\n",
        "history_dropout = model.fit(\n",
        "    train_data, train_labels,\n",
        "    epochs=10, batch_size=512, validation_split=0.4)"
      ],
      "metadata": {
        "colab": {
          "base_uri": "https://localhost:8080/"
        },
        "id": "n50f-qAGzXKc",
        "outputId": "f054ec16-77a0-4f39-8c2c-b2d9b54d22db"
      },
      "execution_count": 31,
      "outputs": [
        {
          "output_type": "stream",
          "name": "stdout",
          "text": [
            "Epoch 1/10\n",
            "30/30 [==============================] - 2s 44ms/step - loss: 0.6171 - accuracy: 0.6684 - val_loss: 0.4916 - val_accuracy: 0.8553\n",
            "Epoch 2/10\n",
            "30/30 [==============================] - 1s 32ms/step - loss: 0.4924 - accuracy: 0.7830 - val_loss: 0.3744 - val_accuracy: 0.8827\n",
            "Epoch 3/10\n",
            "30/30 [==============================] - 1s 32ms/step - loss: 0.4091 - accuracy: 0.8368 - val_loss: 0.3346 - val_accuracy: 0.8873\n",
            "Epoch 4/10\n",
            "30/30 [==============================] - 1s 32ms/step - loss: 0.3524 - accuracy: 0.8659 - val_loss: 0.2941 - val_accuracy: 0.8899\n",
            "Epoch 5/10\n",
            "30/30 [==============================] - 1s 32ms/step - loss: 0.3110 - accuracy: 0.8849 - val_loss: 0.2805 - val_accuracy: 0.8920\n",
            "Epoch 6/10\n",
            "30/30 [==============================] - 1s 32ms/step - loss: 0.2672 - accuracy: 0.9024 - val_loss: 0.2753 - val_accuracy: 0.8914\n",
            "Epoch 7/10\n",
            "30/30 [==============================] - 1s 32ms/step - loss: 0.2407 - accuracy: 0.9171 - val_loss: 0.2787 - val_accuracy: 0.8918\n",
            "Epoch 8/10\n",
            "30/30 [==============================] - 1s 32ms/step - loss: 0.2099 - accuracy: 0.9267 - val_loss: 0.2927 - val_accuracy: 0.8909\n",
            "Epoch 9/10\n",
            "30/30 [==============================] - 1s 32ms/step - loss: 0.1870 - accuracy: 0.9371 - val_loss: 0.3046 - val_accuracy: 0.8924\n",
            "Epoch 10/10\n",
            "30/30 [==============================] - 1s 32ms/step - loss: 0.1683 - accuracy: 0.9419 - val_loss: 0.3184 - val_accuracy: 0.8924\n"
          ]
        }
      ]
    }
  ]
}